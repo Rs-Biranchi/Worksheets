{
 "cells": [
  {
   "cell_type": "code",
   "execution_count": 1,
   "metadata": {},
   "outputs": [],
   "source": [
    "import pandas as pd\n",
    "from sklearn.svm import SVC\n",
    "from sklearn.naive_bayes import MultinomialNB\n",
    "from sklearn.tree import DecisionTreeClassifier\n",
    "from sklearn.neighbors import KNeighborsClassifier\n",
    "from sklearn.linear_model import LogisticRegression\n",
    "from sklearn.ensemble import AdaBoostClassifier,GradientBoostingClassifier\n",
    "from sklearn.metrics import accuracy_score,confusion_matrix,classification_report\n",
    "from sklearn.model_selection import train_test_split\n",
    "import matplotlib.pyplot as plt\n",
    "from nltk.corpus import stopwords\n",
    "import string\n",
    "import warnings\n",
    "warnings.filterwarnings('ignore')"
   ]
  },
  {
   "cell_type": "code",
   "execution_count": 2,
   "metadata": {},
   "outputs": [
    {
     "data": {
      "text/html": [
       "<div>\n",
       "<style scoped>\n",
       "    .dataframe tbody tr th:only-of-type {\n",
       "        vertical-align: middle;\n",
       "    }\n",
       "\n",
       "    .dataframe tbody tr th {\n",
       "        vertical-align: top;\n",
       "    }\n",
       "\n",
       "    .dataframe thead th {\n",
       "        text-align: right;\n",
       "    }\n",
       "</style>\n",
       "<table border=\"1\" class=\"dataframe\">\n",
       "  <thead>\n",
       "    <tr style=\"text-align: right;\">\n",
       "      <th></th>\n",
       "      <th>User_ID</th>\n",
       "      <th>Description</th>\n",
       "      <th>Browser_Used</th>\n",
       "      <th>Device_Used</th>\n",
       "      <th>Is_Response</th>\n",
       "    </tr>\n",
       "  </thead>\n",
       "  <tbody>\n",
       "    <tr>\n",
       "      <td>0</td>\n",
       "      <td>id10326</td>\n",
       "      <td>The room was kind of clean but had a VERY stro...</td>\n",
       "      <td>Edge</td>\n",
       "      <td>Mobile</td>\n",
       "      <td>not happy</td>\n",
       "    </tr>\n",
       "    <tr>\n",
       "      <td>1</td>\n",
       "      <td>id10327</td>\n",
       "      <td>I stayed at the Crown Plaza April -- - April -...</td>\n",
       "      <td>Internet Explorer</td>\n",
       "      <td>Mobile</td>\n",
       "      <td>not happy</td>\n",
       "    </tr>\n",
       "    <tr>\n",
       "      <td>2</td>\n",
       "      <td>id10328</td>\n",
       "      <td>I booked this hotel through Hotwire at the low...</td>\n",
       "      <td>Mozilla</td>\n",
       "      <td>Tablet</td>\n",
       "      <td>not happy</td>\n",
       "    </tr>\n",
       "    <tr>\n",
       "      <td>3</td>\n",
       "      <td>id10329</td>\n",
       "      <td>Stayed here with husband and sons on the way t...</td>\n",
       "      <td>InternetExplorer</td>\n",
       "      <td>Desktop</td>\n",
       "      <td>happy</td>\n",
       "    </tr>\n",
       "    <tr>\n",
       "      <td>4</td>\n",
       "      <td>id10330</td>\n",
       "      <td>My girlfriends and I stayed here to celebrate ...</td>\n",
       "      <td>Edge</td>\n",
       "      <td>Tablet</td>\n",
       "      <td>not happy</td>\n",
       "    </tr>\n",
       "    <tr>\n",
       "      <td>...</td>\n",
       "      <td>...</td>\n",
       "      <td>...</td>\n",
       "      <td>...</td>\n",
       "      <td>...</td>\n",
       "      <td>...</td>\n",
       "    </tr>\n",
       "    <tr>\n",
       "      <td>38927</td>\n",
       "      <td>id49253</td>\n",
       "      <td>We arrived late at night and walked in to a ch...</td>\n",
       "      <td>Edge</td>\n",
       "      <td>Desktop</td>\n",
       "      <td>happy</td>\n",
       "    </tr>\n",
       "    <tr>\n",
       "      <td>38928</td>\n",
       "      <td>id49254</td>\n",
       "      <td>The only positive impression is location and p...</td>\n",
       "      <td>InternetExplorer</td>\n",
       "      <td>Mobile</td>\n",
       "      <td>not happy</td>\n",
       "    </tr>\n",
       "    <tr>\n",
       "      <td>38929</td>\n",
       "      <td>id49255</td>\n",
       "      <td>Traveling with friends for shopping and a show...</td>\n",
       "      <td>Firefox</td>\n",
       "      <td>Mobile</td>\n",
       "      <td>not happy</td>\n",
       "    </tr>\n",
       "    <tr>\n",
       "      <td>38930</td>\n",
       "      <td>id49256</td>\n",
       "      <td>The experience was just ok. We paid extra for ...</td>\n",
       "      <td>Chrome</td>\n",
       "      <td>Desktop</td>\n",
       "      <td>not happy</td>\n",
       "    </tr>\n",
       "    <tr>\n",
       "      <td>38931</td>\n",
       "      <td>id49257</td>\n",
       "      <td>The Westin is a wonderfully restored grande da...</td>\n",
       "      <td>Mozilla</td>\n",
       "      <td>Desktop</td>\n",
       "      <td>happy</td>\n",
       "    </tr>\n",
       "  </tbody>\n",
       "</table>\n",
       "<p>38932 rows × 5 columns</p>\n",
       "</div>"
      ],
      "text/plain": [
       "       User_ID                                        Description  \\\n",
       "0      id10326  The room was kind of clean but had a VERY stro...   \n",
       "1      id10327  I stayed at the Crown Plaza April -- - April -...   \n",
       "2      id10328  I booked this hotel through Hotwire at the low...   \n",
       "3      id10329  Stayed here with husband and sons on the way t...   \n",
       "4      id10330  My girlfriends and I stayed here to celebrate ...   \n",
       "...        ...                                                ...   \n",
       "38927  id49253  We arrived late at night and walked in to a ch...   \n",
       "38928  id49254  The only positive impression is location and p...   \n",
       "38929  id49255  Traveling with friends for shopping and a show...   \n",
       "38930  id49256  The experience was just ok. We paid extra for ...   \n",
       "38931  id49257  The Westin is a wonderfully restored grande da...   \n",
       "\n",
       "            Browser_Used Device_Used Is_Response  \n",
       "0                   Edge      Mobile   not happy  \n",
       "1      Internet Explorer      Mobile   not happy  \n",
       "2                Mozilla      Tablet   not happy  \n",
       "3       InternetExplorer     Desktop       happy  \n",
       "4                   Edge      Tablet   not happy  \n",
       "...                  ...         ...         ...  \n",
       "38927               Edge     Desktop       happy  \n",
       "38928   InternetExplorer      Mobile   not happy  \n",
       "38929            Firefox      Mobile   not happy  \n",
       "38930             Chrome     Desktop   not happy  \n",
       "38931            Mozilla     Desktop       happy  \n",
       "\n",
       "[38932 rows x 5 columns]"
      ]
     },
     "execution_count": 2,
     "metadata": {},
     "output_type": "execute_result"
    }
   ],
   "source": [
    "#Reading the datasets\n",
    "train=pd.read_csv('train.csv')\n",
    "test=pd.read_csv('test.csv')\n",
    "train"
   ]
  },
  {
   "cell_type": "code",
   "execution_count": 3,
   "metadata": {},
   "outputs": [
    {
     "data": {
      "text/html": [
       "<div>\n",
       "<style scoped>\n",
       "    .dataframe tbody tr th:only-of-type {\n",
       "        vertical-align: middle;\n",
       "    }\n",
       "\n",
       "    .dataframe tbody tr th {\n",
       "        vertical-align: top;\n",
       "    }\n",
       "\n",
       "    .dataframe thead th {\n",
       "        text-align: right;\n",
       "    }\n",
       "</style>\n",
       "<table border=\"1\" class=\"dataframe\">\n",
       "  <thead>\n",
       "    <tr style=\"text-align: right;\">\n",
       "      <th></th>\n",
       "      <th>User_ID</th>\n",
       "      <th>Description</th>\n",
       "      <th>Browser_Used</th>\n",
       "      <th>Device_Used</th>\n",
       "    </tr>\n",
       "  </thead>\n",
       "  <tbody>\n",
       "    <tr>\n",
       "      <td>0</td>\n",
       "      <td>id80132</td>\n",
       "      <td>Looking for a motel in close proximity to TV t...</td>\n",
       "      <td>Firefox</td>\n",
       "      <td>Mobile</td>\n",
       "    </tr>\n",
       "    <tr>\n",
       "      <td>1</td>\n",
       "      <td>id80133</td>\n",
       "      <td>Walking distance to Madison Square Garden and ...</td>\n",
       "      <td>InternetExplorer</td>\n",
       "      <td>Desktop</td>\n",
       "    </tr>\n",
       "    <tr>\n",
       "      <td>2</td>\n",
       "      <td>id80134</td>\n",
       "      <td>Visited Seattle on business. Spent - nights in...</td>\n",
       "      <td>IE</td>\n",
       "      <td>Tablet</td>\n",
       "    </tr>\n",
       "    <tr>\n",
       "      <td>3</td>\n",
       "      <td>id80135</td>\n",
       "      <td>This hotel location is excellent and the rooms...</td>\n",
       "      <td>Edge</td>\n",
       "      <td>Mobile</td>\n",
       "    </tr>\n",
       "    <tr>\n",
       "      <td>4</td>\n",
       "      <td>id80136</td>\n",
       "      <td>This hotel is awesome I love the service Antho...</td>\n",
       "      <td>Mozilla</td>\n",
       "      <td>Mobile</td>\n",
       "    </tr>\n",
       "  </tbody>\n",
       "</table>\n",
       "</div>"
      ],
      "text/plain": [
       "   User_ID                                        Description  \\\n",
       "0  id80132  Looking for a motel in close proximity to TV t...   \n",
       "1  id80133  Walking distance to Madison Square Garden and ...   \n",
       "2  id80134  Visited Seattle on business. Spent - nights in...   \n",
       "3  id80135  This hotel location is excellent and the rooms...   \n",
       "4  id80136  This hotel is awesome I love the service Antho...   \n",
       "\n",
       "       Browser_Used Device_Used  \n",
       "0           Firefox      Mobile  \n",
       "1  InternetExplorer     Desktop  \n",
       "2                IE      Tablet  \n",
       "3              Edge      Mobile  \n",
       "4           Mozilla      Mobile  "
      ]
     },
     "execution_count": 3,
     "metadata": {},
     "output_type": "execute_result"
    }
   ],
   "source": [
    "test.head()"
   ]
  },
  {
   "cell_type": "code",
   "execution_count": 4,
   "metadata": {},
   "outputs": [
    {
     "name": "stdout",
     "output_type": "stream",
     "text": [
      "Shape of train:  (38932, 5)\n",
      "Shape of test :  (29404, 4)\n"
     ]
    }
   ],
   "source": [
    "#Checking the shape of train and test\n",
    "print(\"Shape of train: \",train.shape)\n",
    "print(\"Shape of test : \",test.shape)"
   ]
  },
  {
   "cell_type": "code",
   "execution_count": 5,
   "metadata": {},
   "outputs": [
    {
     "data": {
      "text/html": [
       "<div>\n",
       "<style scoped>\n",
       "    .dataframe tbody tr th:only-of-type {\n",
       "        vertical-align: middle;\n",
       "    }\n",
       "\n",
       "    .dataframe tbody tr th {\n",
       "        vertical-align: top;\n",
       "    }\n",
       "\n",
       "    .dataframe thead th {\n",
       "        text-align: right;\n",
       "    }\n",
       "</style>\n",
       "<table border=\"1\" class=\"dataframe\">\n",
       "  <thead>\n",
       "    <tr style=\"text-align: right;\">\n",
       "      <th></th>\n",
       "      <th>User_ID</th>\n",
       "      <th>Description</th>\n",
       "      <th>Browser_Used</th>\n",
       "      <th>Device_Used</th>\n",
       "      <th>Is_Response</th>\n",
       "    </tr>\n",
       "  </thead>\n",
       "  <tbody>\n",
       "    <tr>\n",
       "      <td>count</td>\n",
       "      <td>38932</td>\n",
       "      <td>38932</td>\n",
       "      <td>38932</td>\n",
       "      <td>38932</td>\n",
       "      <td>38932</td>\n",
       "    </tr>\n",
       "    <tr>\n",
       "      <td>unique</td>\n",
       "      <td>38932</td>\n",
       "      <td>38932</td>\n",
       "      <td>11</td>\n",
       "      <td>3</td>\n",
       "      <td>2</td>\n",
       "    </tr>\n",
       "    <tr>\n",
       "      <td>top</td>\n",
       "      <td>id27056</td>\n",
       "      <td>This was the second time I had stayed at the h...</td>\n",
       "      <td>Firefox</td>\n",
       "      <td>Desktop</td>\n",
       "      <td>happy</td>\n",
       "    </tr>\n",
       "    <tr>\n",
       "      <td>freq</td>\n",
       "      <td>1</td>\n",
       "      <td>1</td>\n",
       "      <td>7367</td>\n",
       "      <td>15026</td>\n",
       "      <td>26521</td>\n",
       "    </tr>\n",
       "  </tbody>\n",
       "</table>\n",
       "</div>"
      ],
      "text/plain": [
       "        User_ID                                        Description  \\\n",
       "count     38932                                              38932   \n",
       "unique    38932                                              38932   \n",
       "top     id27056  This was the second time I had stayed at the h...   \n",
       "freq          1                                                  1   \n",
       "\n",
       "       Browser_Used Device_Used Is_Response  \n",
       "count         38932       38932       38932  \n",
       "unique           11           3           2  \n",
       "top         Firefox     Desktop       happy  \n",
       "freq           7367       15026       26521  "
      ]
     },
     "execution_count": 5,
     "metadata": {},
     "output_type": "execute_result"
    }
   ],
   "source": [
    "#statistical summary\n",
    "train.describe()"
   ]
  },
  {
   "cell_type": "code",
   "execution_count": 6,
   "metadata": {},
   "outputs": [
    {
     "data": {
      "text/plain": [
       "Index(['User_ID', 'Description', 'Browser_Used', 'Device_Used', 'Is_Response'], dtype='object')"
      ]
     },
     "execution_count": 6,
     "metadata": {},
     "output_type": "execute_result"
    }
   ],
   "source": [
    "#Checking columns\n",
    "train.columns"
   ]
  },
  {
   "cell_type": "code",
   "execution_count": 7,
   "metadata": {},
   "outputs": [
    {
     "data": {
      "text/plain": [
       "happy        26521\n",
       "not happy    12411\n",
       "Name: Is_Response, dtype: int64"
      ]
     },
     "execution_count": 7,
     "metadata": {},
     "output_type": "execute_result"
    }
   ],
   "source": [
    "#Checking numer of happy and not happy customer\n",
    "train['Is_Response'].value_counts()"
   ]
  },
  {
   "cell_type": "code",
   "execution_count": 8,
   "metadata": {},
   "outputs": [
    {
     "data": {
      "text/plain": [
       "Firefox              7367\n",
       "Edge                 7134\n",
       "Google Chrome        4659\n",
       "InternetExplorer     4588\n",
       "Mozilla Firefox      4328\n",
       "Mozilla              3092\n",
       "Chrome               2470\n",
       "IE                   2439\n",
       "Internet Explorer    2103\n",
       "Safari                390\n",
       "Opera                 362\n",
       "Name: Browser_Used, dtype: int64"
      ]
     },
     "execution_count": 8,
     "metadata": {},
     "output_type": "execute_result"
    }
   ],
   "source": [
    "#Checking the Browser_used\n",
    "train['Browser_Used'].value_counts()"
   ]
  },
  {
   "cell_type": "code",
   "execution_count": 9,
   "metadata": {},
   "outputs": [
    {
     "data": {
      "text/plain": [
       "Desktop    15026\n",
       "Mobile     14976\n",
       "Tablet      8930\n",
       "Name: Device_Used, dtype: int64"
      ]
     },
     "execution_count": 9,
     "metadata": {},
     "output_type": "execute_result"
    }
   ],
   "source": [
    "train['Device_Used'].value_counts()"
   ]
  },
  {
   "cell_type": "markdown",
   "metadata": {},
   "source": [
    "# Data Preprocessing"
   ]
  },
  {
   "cell_type": "code",
   "execution_count": 10,
   "metadata": {},
   "outputs": [],
   "source": [
    "#'User_ID','Browser_Used' and 'Device_Used' is not giving any important information to the target so we can drop the redundant columns.\n",
    "#from the train and test datasets."
   ]
  },
  {
   "cell_type": "code",
   "execution_count": 11,
   "metadata": {},
   "outputs": [
    {
     "data": {
      "text/html": [
       "<div>\n",
       "<style scoped>\n",
       "    .dataframe tbody tr th:only-of-type {\n",
       "        vertical-align: middle;\n",
       "    }\n",
       "\n",
       "    .dataframe tbody tr th {\n",
       "        vertical-align: top;\n",
       "    }\n",
       "\n",
       "    .dataframe thead th {\n",
       "        text-align: right;\n",
       "    }\n",
       "</style>\n",
       "<table border=\"1\" class=\"dataframe\">\n",
       "  <thead>\n",
       "    <tr style=\"text-align: right;\">\n",
       "      <th></th>\n",
       "      <th>Description</th>\n",
       "      <th>Is_Response</th>\n",
       "    </tr>\n",
       "  </thead>\n",
       "  <tbody>\n",
       "    <tr>\n",
       "      <td>0</td>\n",
       "      <td>The room was kind of clean but had a VERY stro...</td>\n",
       "      <td>not happy</td>\n",
       "    </tr>\n",
       "    <tr>\n",
       "      <td>1</td>\n",
       "      <td>I stayed at the Crown Plaza April -- - April -...</td>\n",
       "      <td>not happy</td>\n",
       "    </tr>\n",
       "    <tr>\n",
       "      <td>2</td>\n",
       "      <td>I booked this hotel through Hotwire at the low...</td>\n",
       "      <td>not happy</td>\n",
       "    </tr>\n",
       "    <tr>\n",
       "      <td>3</td>\n",
       "      <td>Stayed here with husband and sons on the way t...</td>\n",
       "      <td>happy</td>\n",
       "    </tr>\n",
       "    <tr>\n",
       "      <td>4</td>\n",
       "      <td>My girlfriends and I stayed here to celebrate ...</td>\n",
       "      <td>not happy</td>\n",
       "    </tr>\n",
       "  </tbody>\n",
       "</table>\n",
       "</div>"
      ],
      "text/plain": [
       "                                         Description Is_Response\n",
       "0  The room was kind of clean but had a VERY stro...   not happy\n",
       "1  I stayed at the Crown Plaza April -- - April -...   not happy\n",
       "2  I booked this hotel through Hotwire at the low...   not happy\n",
       "3  Stayed here with husband and sons on the way t...       happy\n",
       "4  My girlfriends and I stayed here to celebrate ...   not happy"
      ]
     },
     "execution_count": 11,
     "metadata": {},
     "output_type": "execute_result"
    }
   ],
   "source": [
    "#We apply same function to both train and test datasets.\n",
    "train=train.drop(['User_ID','Browser_Used','Device_Used'],axis=1)\n",
    "test=test.drop(['User_ID','Browser_Used','Device_Used'],axis=1)\n",
    "train.head()"
   ]
  },
  {
   "cell_type": "code",
   "execution_count": 12,
   "metadata": {},
   "outputs": [
    {
     "data": {
      "text/html": [
       "<div>\n",
       "<style scoped>\n",
       "    .dataframe tbody tr th:only-of-type {\n",
       "        vertical-align: middle;\n",
       "    }\n",
       "\n",
       "    .dataframe tbody tr th {\n",
       "        vertical-align: top;\n",
       "    }\n",
       "\n",
       "    .dataframe thead th {\n",
       "        text-align: right;\n",
       "    }\n",
       "</style>\n",
       "<table border=\"1\" class=\"dataframe\">\n",
       "  <thead>\n",
       "    <tr style=\"text-align: right;\">\n",
       "      <th></th>\n",
       "      <th>Description</th>\n",
       "    </tr>\n",
       "  </thead>\n",
       "  <tbody>\n",
       "    <tr>\n",
       "      <td>0</td>\n",
       "      <td>Looking for a motel in close proximity to TV t...</td>\n",
       "    </tr>\n",
       "    <tr>\n",
       "      <td>1</td>\n",
       "      <td>Walking distance to Madison Square Garden and ...</td>\n",
       "    </tr>\n",
       "    <tr>\n",
       "      <td>2</td>\n",
       "      <td>Visited Seattle on business. Spent - nights in...</td>\n",
       "    </tr>\n",
       "    <tr>\n",
       "      <td>3</td>\n",
       "      <td>This hotel location is excellent and the rooms...</td>\n",
       "    </tr>\n",
       "    <tr>\n",
       "      <td>4</td>\n",
       "      <td>This hotel is awesome I love the service Antho...</td>\n",
       "    </tr>\n",
       "  </tbody>\n",
       "</table>\n",
       "</div>"
      ],
      "text/plain": [
       "                                         Description\n",
       "0  Looking for a motel in close proximity to TV t...\n",
       "1  Walking distance to Madison Square Garden and ...\n",
       "2  Visited Seattle on business. Spent - nights in...\n",
       "3  This hotel location is excellent and the rooms...\n",
       "4  This hotel is awesome I love the service Antho..."
      ]
     },
     "execution_count": 12,
     "metadata": {},
     "output_type": "execute_result"
    }
   ],
   "source": [
    "test.head()"
   ]
  },
  {
   "cell_type": "code",
   "execution_count": 13,
   "metadata": {},
   "outputs": [
    {
     "data": {
      "text/html": [
       "<div>\n",
       "<style scoped>\n",
       "    .dataframe tbody tr th:only-of-type {\n",
       "        vertical-align: middle;\n",
       "    }\n",
       "\n",
       "    .dataframe tbody tr th {\n",
       "        vertical-align: top;\n",
       "    }\n",
       "\n",
       "    .dataframe thead th {\n",
       "        text-align: right;\n",
       "    }\n",
       "</style>\n",
       "<table border=\"1\" class=\"dataframe\">\n",
       "  <thead>\n",
       "    <tr style=\"text-align: right;\">\n",
       "      <th></th>\n",
       "      <th>Description</th>\n",
       "      <th>Response</th>\n",
       "    </tr>\n",
       "  </thead>\n",
       "  <tbody>\n",
       "    <tr>\n",
       "      <td>0</td>\n",
       "      <td>The room was kind of clean but had a VERY stro...</td>\n",
       "      <td>not happy</td>\n",
       "    </tr>\n",
       "    <tr>\n",
       "      <td>1</td>\n",
       "      <td>I stayed at the Crown Plaza April -- - April -...</td>\n",
       "      <td>not happy</td>\n",
       "    </tr>\n",
       "    <tr>\n",
       "      <td>2</td>\n",
       "      <td>I booked this hotel through Hotwire at the low...</td>\n",
       "      <td>not happy</td>\n",
       "    </tr>\n",
       "    <tr>\n",
       "      <td>3</td>\n",
       "      <td>Stayed here with husband and sons on the way t...</td>\n",
       "      <td>happy</td>\n",
       "    </tr>\n",
       "    <tr>\n",
       "      <td>4</td>\n",
       "      <td>My girlfriends and I stayed here to celebrate ...</td>\n",
       "      <td>not happy</td>\n",
       "    </tr>\n",
       "  </tbody>\n",
       "</table>\n",
       "</div>"
      ],
      "text/plain": [
       "                                         Description   Response\n",
       "0  The room was kind of clean but had a VERY stro...  not happy\n",
       "1  I stayed at the Crown Plaza April -- - April -...  not happy\n",
       "2  I booked this hotel through Hotwire at the low...  not happy\n",
       "3  Stayed here with husband and sons on the way t...      happy\n",
       "4  My girlfriends and I stayed here to celebrate ...  not happy"
      ]
     },
     "execution_count": 13,
     "metadata": {},
     "output_type": "execute_result"
    }
   ],
   "source": [
    "#Changing the label name Is_Response to Response\n",
    "train.rename(columns={'Is_Response':'Response'},inplace=True)\n",
    "train.head()"
   ]
  },
  {
   "cell_type": "code",
   "execution_count": 14,
   "metadata": {},
   "outputs": [
    {
     "data": {
      "text/html": [
       "<div>\n",
       "<style scoped>\n",
       "    .dataframe tbody tr th:only-of-type {\n",
       "        vertical-align: middle;\n",
       "    }\n",
       "\n",
       "    .dataframe tbody tr th {\n",
       "        vertical-align: top;\n",
       "    }\n",
       "\n",
       "    .dataframe thead th {\n",
       "        text-align: right;\n",
       "    }\n",
       "</style>\n",
       "<table border=\"1\" class=\"dataframe\">\n",
       "  <thead>\n",
       "    <tr style=\"text-align: right;\">\n",
       "      <th></th>\n",
       "      <th>Description</th>\n",
       "      <th>Response</th>\n",
       "      <th>length</th>\n",
       "    </tr>\n",
       "  </thead>\n",
       "  <tbody>\n",
       "    <tr>\n",
       "      <td>0</td>\n",
       "      <td>The room was kind of clean but had a VERY stro...</td>\n",
       "      <td>not happy</td>\n",
       "      <td>248</td>\n",
       "    </tr>\n",
       "    <tr>\n",
       "      <td>1</td>\n",
       "      <td>I stayed at the Crown Plaza April -- - April -...</td>\n",
       "      <td>not happy</td>\n",
       "      <td>1077</td>\n",
       "    </tr>\n",
       "    <tr>\n",
       "      <td>2</td>\n",
       "      <td>I booked this hotel through Hotwire at the low...</td>\n",
       "      <td>not happy</td>\n",
       "      <td>1327</td>\n",
       "    </tr>\n",
       "    <tr>\n",
       "      <td>3</td>\n",
       "      <td>Stayed here with husband and sons on the way t...</td>\n",
       "      <td>happy</td>\n",
       "      <td>502</td>\n",
       "    </tr>\n",
       "    <tr>\n",
       "      <td>4</td>\n",
       "      <td>My girlfriends and I stayed here to celebrate ...</td>\n",
       "      <td>not happy</td>\n",
       "      <td>1613</td>\n",
       "    </tr>\n",
       "  </tbody>\n",
       "</table>\n",
       "</div>"
      ],
      "text/plain": [
       "                                         Description   Response  length\n",
       "0  The room was kind of clean but had a VERY stro...  not happy     248\n",
       "1  I stayed at the Crown Plaza April -- - April -...  not happy    1077\n",
       "2  I booked this hotel through Hotwire at the low...  not happy    1327\n",
       "3  Stayed here with husband and sons on the way t...      happy     502\n",
       "4  My girlfriends and I stayed here to celebrate ...  not happy    1613"
      ]
     },
     "execution_count": 14,
     "metadata": {},
     "output_type": "execute_result"
    }
   ],
   "source": [
    "train['length']=train['Description'].str.len()\n",
    "test['length']=test['Description'].str.len()\n",
    "train.head()"
   ]
  },
  {
   "cell_type": "code",
   "execution_count": 15,
   "metadata": {},
   "outputs": [
    {
     "data": {
      "text/html": [
       "<div>\n",
       "<style scoped>\n",
       "    .dataframe tbody tr th:only-of-type {\n",
       "        vertical-align: middle;\n",
       "    }\n",
       "\n",
       "    .dataframe tbody tr th {\n",
       "        vertical-align: top;\n",
       "    }\n",
       "\n",
       "    .dataframe thead th {\n",
       "        text-align: right;\n",
       "    }\n",
       "</style>\n",
       "<table border=\"1\" class=\"dataframe\">\n",
       "  <thead>\n",
       "    <tr style=\"text-align: right;\">\n",
       "      <th></th>\n",
       "      <th>Description</th>\n",
       "      <th>length</th>\n",
       "    </tr>\n",
       "  </thead>\n",
       "  <tbody>\n",
       "    <tr>\n",
       "      <td>0</td>\n",
       "      <td>looking for a motel in close proximity to tv t...</td>\n",
       "      <td>676</td>\n",
       "    </tr>\n",
       "    <tr>\n",
       "      <td>1</td>\n",
       "      <td>walking distance to madison square garden and ...</td>\n",
       "      <td>588</td>\n",
       "    </tr>\n",
       "    <tr>\n",
       "      <td>2</td>\n",
       "      <td>visited seattle on business. spent - nights in...</td>\n",
       "      <td>863</td>\n",
       "    </tr>\n",
       "    <tr>\n",
       "      <td>3</td>\n",
       "      <td>this hotel location is excellent and the rooms...</td>\n",
       "      <td>778</td>\n",
       "    </tr>\n",
       "    <tr>\n",
       "      <td>4</td>\n",
       "      <td>this hotel is awesome i love the service antho...</td>\n",
       "      <td>255</td>\n",
       "    </tr>\n",
       "  </tbody>\n",
       "</table>\n",
       "</div>"
      ],
      "text/plain": [
       "                                         Description  length\n",
       "0  looking for a motel in close proximity to tv t...     676\n",
       "1  walking distance to madison square garden and ...     588\n",
       "2  visited seattle on business. spent - nights in...     863\n",
       "3  this hotel location is excellent and the rooms...     778\n",
       "4  this hotel is awesome i love the service antho...     255"
      ]
     },
     "execution_count": 15,
     "metadata": {},
     "output_type": "execute_result"
    }
   ],
   "source": [
    "#Lower case Description\n",
    "train.Description=train.Description.str.lower()\n",
    "test.Description=test.Description.str.lower()\n",
    "test.head()"
   ]
  },
  {
   "cell_type": "code",
   "execution_count": 16,
   "metadata": {},
   "outputs": [],
   "source": [
    "#Remove stopwords\n",
    "stop_words=stopwords.words('english')\n",
    "train['Description']=train['Description'].apply(lambda x: ' '.join(\n",
    "word for word in x.split() if word not in stop_words))\n",
    "\n",
    "test['Description']=test['Description'].apply(lambda x: ' '.join(\n",
    "word for word in x.split() if word not in stop_words))"
   ]
  },
  {
   "cell_type": "code",
   "execution_count": 17,
   "metadata": {},
   "outputs": [
    {
     "data": {
      "text/html": [
       "<div>\n",
       "<style scoped>\n",
       "    .dataframe tbody tr th:only-of-type {\n",
       "        vertical-align: middle;\n",
       "    }\n",
       "\n",
       "    .dataframe tbody tr th {\n",
       "        vertical-align: top;\n",
       "    }\n",
       "\n",
       "    .dataframe thead th {\n",
       "        text-align: right;\n",
       "    }\n",
       "</style>\n",
       "<table border=\"1\" class=\"dataframe\">\n",
       "  <thead>\n",
       "    <tr style=\"text-align: right;\">\n",
       "      <th></th>\n",
       "      <th>Description</th>\n",
       "      <th>Response</th>\n",
       "      <th>length</th>\n",
       "    </tr>\n",
       "  </thead>\n",
       "  <tbody>\n",
       "    <tr>\n",
       "      <td>0</td>\n",
       "      <td>room kind clean strong smell dogs. generally a...</td>\n",
       "      <td>not happy</td>\n",
       "      <td>248</td>\n",
       "    </tr>\n",
       "    <tr>\n",
       "      <td>1</td>\n",
       "      <td>stayed crown plaza april -- april --, ----. st...</td>\n",
       "      <td>not happy</td>\n",
       "      <td>1077</td>\n",
       "    </tr>\n",
       "    <tr>\n",
       "      <td>2</td>\n",
       "      <td>booked hotel hotwire lowest price could find. ...</td>\n",
       "      <td>not happy</td>\n",
       "      <td>1327</td>\n",
       "    </tr>\n",
       "    <tr>\n",
       "      <td>3</td>\n",
       "      <td>stayed husband sons way alaska cruise. loved h...</td>\n",
       "      <td>happy</td>\n",
       "      <td>502</td>\n",
       "    </tr>\n",
       "    <tr>\n",
       "      <td>4</td>\n",
       "      <td>girlfriends stayed celebrate --th birthdays. p...</td>\n",
       "      <td>not happy</td>\n",
       "      <td>1613</td>\n",
       "    </tr>\n",
       "  </tbody>\n",
       "</table>\n",
       "</div>"
      ],
      "text/plain": [
       "                                         Description   Response  length\n",
       "0  room kind clean strong smell dogs. generally a...  not happy     248\n",
       "1  stayed crown plaza april -- april --, ----. st...  not happy    1077\n",
       "2  booked hotel hotwire lowest price could find. ...  not happy    1327\n",
       "3  stayed husband sons way alaska cruise. loved h...      happy     502\n",
       "4  girlfriends stayed celebrate --th birthdays. p...  not happy    1613"
      ]
     },
     "execution_count": 17,
     "metadata": {},
     "output_type": "execute_result"
    }
   ],
   "source": [
    "#Removing Punctuations from both the sets\n",
    "train['Description']=train['Description'].apply(lambda x: ' '.join(\n",
    "word for word in x.split() if word not in string.punctuation))\n",
    "\n",
    "test['Description']=test['Description'].apply(lambda x: ' '.join(\n",
    "word for word in x.split() if word not in string.punctuation))\n",
    "train.head()"
   ]
  },
  {
   "cell_type": "code",
   "execution_count": 18,
   "metadata": {},
   "outputs": [
    {
     "data": {
      "text/html": [
       "<div>\n",
       "<style scoped>\n",
       "    .dataframe tbody tr th:only-of-type {\n",
       "        vertical-align: middle;\n",
       "    }\n",
       "\n",
       "    .dataframe tbody tr th {\n",
       "        vertical-align: top;\n",
       "    }\n",
       "\n",
       "    .dataframe thead th {\n",
       "        text-align: right;\n",
       "    }\n",
       "</style>\n",
       "<table border=\"1\" class=\"dataframe\">\n",
       "  <thead>\n",
       "    <tr style=\"text-align: right;\">\n",
       "      <th></th>\n",
       "      <th>Description</th>\n",
       "      <th>Response</th>\n",
       "      <th>length</th>\n",
       "    </tr>\n",
       "  </thead>\n",
       "  <tbody>\n",
       "    <tr>\n",
       "      <td>0</td>\n",
       "      <td>room kind clean strong smell dogs  generally a...</td>\n",
       "      <td>not happy</td>\n",
       "      <td>248</td>\n",
       "    </tr>\n",
       "    <tr>\n",
       "      <td>1</td>\n",
       "      <td>stayed crown plaza april    april           st...</td>\n",
       "      <td>not happy</td>\n",
       "      <td>1077</td>\n",
       "    </tr>\n",
       "    <tr>\n",
       "      <td>2</td>\n",
       "      <td>booked hotel hotwire lowest price could find  ...</td>\n",
       "      <td>not happy</td>\n",
       "      <td>1327</td>\n",
       "    </tr>\n",
       "    <tr>\n",
       "      <td>3</td>\n",
       "      <td>stayed husband sons way alaska cruise  loved h...</td>\n",
       "      <td>happy</td>\n",
       "      <td>502</td>\n",
       "    </tr>\n",
       "    <tr>\n",
       "      <td>4</td>\n",
       "      <td>girlfriends stayed celebrate   th birthdays  p...</td>\n",
       "      <td>not happy</td>\n",
       "      <td>1613</td>\n",
       "    </tr>\n",
       "  </tbody>\n",
       "</table>\n",
       "</div>"
      ],
      "text/plain": [
       "                                         Description   Response  length\n",
       "0  room kind clean strong smell dogs  generally a...  not happy     248\n",
       "1  stayed crown plaza april    april           st...  not happy    1077\n",
       "2  booked hotel hotwire lowest price could find  ...  not happy    1327\n",
       "3  stayed husband sons way alaska cruise  loved h...      happy     502\n",
       "4  girlfriends stayed celebrate   th birthdays  p...  not happy    1613"
      ]
     },
     "execution_count": 18,
     "metadata": {},
     "output_type": "execute_result"
    }
   ],
   "source": [
    "#Again Removing punctuations\n",
    "train['Description']=train['Description'].str.replace(r'[^\\w\\d\\s]',' ')\n",
    "\n",
    "test['Description']=test['Description'].str.replace(r'[^\\w\\d\\s]',' ')\n",
    "#Remove extra spaces used with single space\n",
    "train['Description']=train['Description'].str.replace(r'\\s+]',' ')\n",
    "\n",
    "test['Description']=test['Description'].str.replace(r'\\s+]',' ')\n",
    "train.head()"
   ]
  },
  {
   "cell_type": "code",
   "execution_count": 19,
   "metadata": {},
   "outputs": [
    {
     "data": {
      "text/html": [
       "<div>\n",
       "<style scoped>\n",
       "    .dataframe tbody tr th:only-of-type {\n",
       "        vertical-align: middle;\n",
       "    }\n",
       "\n",
       "    .dataframe tbody tr th {\n",
       "        vertical-align: top;\n",
       "    }\n",
       "\n",
       "    .dataframe thead th {\n",
       "        text-align: right;\n",
       "    }\n",
       "</style>\n",
       "<table border=\"1\" class=\"dataframe\">\n",
       "  <thead>\n",
       "    <tr style=\"text-align: right;\">\n",
       "      <th></th>\n",
       "      <th>Description</th>\n",
       "      <th>Response</th>\n",
       "      <th>length</th>\n",
       "    </tr>\n",
       "  </thead>\n",
       "  <tbody>\n",
       "    <tr>\n",
       "      <td>0</td>\n",
       "      <td>room kind clean strong smell dogs  generally a...</td>\n",
       "      <td>not happy</td>\n",
       "      <td>248</td>\n",
       "    </tr>\n",
       "    <tr>\n",
       "      <td>1</td>\n",
       "      <td>stayed crown plaza april    april           st...</td>\n",
       "      <td>not happy</td>\n",
       "      <td>1077</td>\n",
       "    </tr>\n",
       "    <tr>\n",
       "      <td>2</td>\n",
       "      <td>booked hotel hotwire lowest price could find  ...</td>\n",
       "      <td>not happy</td>\n",
       "      <td>1327</td>\n",
       "    </tr>\n",
       "    <tr>\n",
       "      <td>3</td>\n",
       "      <td>stayed husband sons way alaska cruise  loved h...</td>\n",
       "      <td>happy</td>\n",
       "      <td>502</td>\n",
       "    </tr>\n",
       "    <tr>\n",
       "      <td>4</td>\n",
       "      <td>girlfriends stayed celebrate   th birthdays  p...</td>\n",
       "      <td>not happy</td>\n",
       "      <td>1613</td>\n",
       "    </tr>\n",
       "  </tbody>\n",
       "</table>\n",
       "</div>"
      ],
      "text/plain": [
       "                                         Description   Response  length\n",
       "0  room kind clean strong smell dogs  generally a...  not happy     248\n",
       "1  stayed crown plaza april    april           st...  not happy    1077\n",
       "2  booked hotel hotwire lowest price could find  ...  not happy    1327\n",
       "3  stayed husband sons way alaska cruise  loved h...      happy     502\n",
       "4  girlfriends stayed celebrate   th birthdays  p...  not happy    1613"
      ]
     },
     "execution_count": 19,
     "metadata": {},
     "output_type": "execute_result"
    }
   ],
   "source": [
    "#Remove leading and trailing spaces\n",
    "train['Description']=train['Description'].str.replace(r'^\\s+|\\s+?$',' ')\n",
    "\n",
    "test['Description']=test['Description'].str.replace(r'^\\s+|\\s+?$',' ')\n",
    "train.head()"
   ]
  },
  {
   "cell_type": "code",
   "execution_count": 20,
   "metadata": {},
   "outputs": [
    {
     "data": {
      "text/html": [
       "<div>\n",
       "<style scoped>\n",
       "    .dataframe tbody tr th:only-of-type {\n",
       "        vertical-align: middle;\n",
       "    }\n",
       "\n",
       "    .dataframe tbody tr th {\n",
       "        vertical-align: top;\n",
       "    }\n",
       "\n",
       "    .dataframe thead th {\n",
       "        text-align: right;\n",
       "    }\n",
       "</style>\n",
       "<table border=\"1\" class=\"dataframe\">\n",
       "  <thead>\n",
       "    <tr style=\"text-align: right;\">\n",
       "      <th></th>\n",
       "      <th>Description</th>\n",
       "      <th>Response</th>\n",
       "      <th>length</th>\n",
       "    </tr>\n",
       "  </thead>\n",
       "  <tbody>\n",
       "    <tr>\n",
       "      <td>0</td>\n",
       "      <td>room kind clean strong smell dogs  generally a...</td>\n",
       "      <td>not happy</td>\n",
       "      <td>248</td>\n",
       "    </tr>\n",
       "    <tr>\n",
       "      <td>1</td>\n",
       "      <td>stayed crown plaza april    april           st...</td>\n",
       "      <td>not happy</td>\n",
       "      <td>1077</td>\n",
       "    </tr>\n",
       "    <tr>\n",
       "      <td>2</td>\n",
       "      <td>booked hotel hotwire lowest price could find  ...</td>\n",
       "      <td>not happy</td>\n",
       "      <td>1327</td>\n",
       "    </tr>\n",
       "    <tr>\n",
       "      <td>3</td>\n",
       "      <td>stayed husband sons way alaska cruise  loved h...</td>\n",
       "      <td>happy</td>\n",
       "      <td>502</td>\n",
       "    </tr>\n",
       "    <tr>\n",
       "      <td>4</td>\n",
       "      <td>girlfriends stayed celebrate   th birthdays  p...</td>\n",
       "      <td>not happy</td>\n",
       "      <td>1613</td>\n",
       "    </tr>\n",
       "  </tbody>\n",
       "</table>\n",
       "</div>"
      ],
      "text/plain": [
       "                                         Description   Response  length\n",
       "0  room kind clean strong smell dogs  generally a...  not happy     248\n",
       "1  stayed crown plaza april    april           st...  not happy    1077\n",
       "2  booked hotel hotwire lowest price could find  ...  not happy    1327\n",
       "3  stayed husband sons way alaska cruise  loved h...      happy     502\n",
       "4  girlfriends stayed celebrate   th birthdays  p...  not happy    1613"
      ]
     },
     "execution_count": 20,
     "metadata": {},
     "output_type": "execute_result"
    }
   ],
   "source": [
    "#Remove leading and trailing tabs\n",
    "train['Description']=train['Description'].str.replace(r'^\\t+|\\t+?$',' ')\n",
    "\n",
    "test['Description']=test['Description'].str.replace(r'^\\t+|\\t+?$',' ')\n",
    "train.head()"
   ]
  },
  {
   "cell_type": "code",
   "execution_count": 21,
   "metadata": {},
   "outputs": [
    {
     "data": {
      "text/html": [
       "<div>\n",
       "<style scoped>\n",
       "    .dataframe tbody tr th:only-of-type {\n",
       "        vertical-align: middle;\n",
       "    }\n",
       "\n",
       "    .dataframe tbody tr th {\n",
       "        vertical-align: top;\n",
       "    }\n",
       "\n",
       "    .dataframe thead th {\n",
       "        text-align: right;\n",
       "    }\n",
       "</style>\n",
       "<table border=\"1\" class=\"dataframe\">\n",
       "  <thead>\n",
       "    <tr style=\"text-align: right;\">\n",
       "      <th></th>\n",
       "      <th>Description</th>\n",
       "      <th>Response</th>\n",
       "      <th>length</th>\n",
       "      <th>cleaned_length</th>\n",
       "    </tr>\n",
       "  </thead>\n",
       "  <tbody>\n",
       "    <tr>\n",
       "      <td>0</td>\n",
       "      <td>room kind clean strong smell dogs  generally a...</td>\n",
       "      <td>not happy</td>\n",
       "      <td>248</td>\n",
       "      <td>144</td>\n",
       "    </tr>\n",
       "    <tr>\n",
       "      <td>1</td>\n",
       "      <td>stayed crown plaza april    april           st...</td>\n",
       "      <td>not happy</td>\n",
       "      <td>1077</td>\n",
       "      <td>714</td>\n",
       "    </tr>\n",
       "    <tr>\n",
       "      <td>2</td>\n",
       "      <td>booked hotel hotwire lowest price could find  ...</td>\n",
       "      <td>not happy</td>\n",
       "      <td>1327</td>\n",
       "      <td>900</td>\n",
       "    </tr>\n",
       "    <tr>\n",
       "      <td>3</td>\n",
       "      <td>stayed husband sons way alaska cruise  loved h...</td>\n",
       "      <td>happy</td>\n",
       "      <td>502</td>\n",
       "      <td>358</td>\n",
       "    </tr>\n",
       "    <tr>\n",
       "      <td>4</td>\n",
       "      <td>girlfriends stayed celebrate   th birthdays  p...</td>\n",
       "      <td>not happy</td>\n",
       "      <td>1613</td>\n",
       "      <td>1048</td>\n",
       "    </tr>\n",
       "  </tbody>\n",
       "</table>\n",
       "</div>"
      ],
      "text/plain": [
       "                                         Description   Response  length  \\\n",
       "0  room kind clean strong smell dogs  generally a...  not happy     248   \n",
       "1  stayed crown plaza april    april           st...  not happy    1077   \n",
       "2  booked hotel hotwire lowest price could find  ...  not happy    1327   \n",
       "3  stayed husband sons way alaska cruise  loved h...      happy     502   \n",
       "4  girlfriends stayed celebrate   th birthdays  p...  not happy    1613   \n",
       "\n",
       "   cleaned_length  \n",
       "0             144  \n",
       "1             714  \n",
       "2             900  \n",
       "3             358  \n",
       "4            1048  "
      ]
     },
     "execution_count": 21,
     "metadata": {},
     "output_type": "execute_result"
    }
   ],
   "source": [
    "#Clean_length after punctuations,stopwords removal\n",
    "train['cleaned_length']=train['Description'].str.len()\n",
    "\n",
    "test['cleaned_length']=test['Description'].str.len()\n",
    "train.head()"
   ]
  },
  {
   "cell_type": "code",
   "execution_count": 22,
   "metadata": {},
   "outputs": [
    {
     "data": {
      "text/html": [
       "<div>\n",
       "<style scoped>\n",
       "    .dataframe tbody tr th:only-of-type {\n",
       "        vertical-align: middle;\n",
       "    }\n",
       "\n",
       "    .dataframe tbody tr th {\n",
       "        vertical-align: top;\n",
       "    }\n",
       "\n",
       "    .dataframe thead th {\n",
       "        text-align: right;\n",
       "    }\n",
       "</style>\n",
       "<table border=\"1\" class=\"dataframe\">\n",
       "  <thead>\n",
       "    <tr style=\"text-align: right;\">\n",
       "      <th></th>\n",
       "      <th>Description</th>\n",
       "      <th>Response</th>\n",
       "      <th>length</th>\n",
       "      <th>cleaned_length</th>\n",
       "    </tr>\n",
       "  </thead>\n",
       "  <tbody>\n",
       "    <tr>\n",
       "      <td>0</td>\n",
       "      <td>room kind clean strong smell dogs  generally a...</td>\n",
       "      <td>0</td>\n",
       "      <td>248</td>\n",
       "      <td>144</td>\n",
       "    </tr>\n",
       "    <tr>\n",
       "      <td>1</td>\n",
       "      <td>stayed crown plaza april    april           st...</td>\n",
       "      <td>0</td>\n",
       "      <td>1077</td>\n",
       "      <td>714</td>\n",
       "    </tr>\n",
       "    <tr>\n",
       "      <td>2</td>\n",
       "      <td>booked hotel hotwire lowest price could find  ...</td>\n",
       "      <td>0</td>\n",
       "      <td>1327</td>\n",
       "      <td>900</td>\n",
       "    </tr>\n",
       "    <tr>\n",
       "      <td>3</td>\n",
       "      <td>stayed husband sons way alaska cruise  loved h...</td>\n",
       "      <td>1</td>\n",
       "      <td>502</td>\n",
       "      <td>358</td>\n",
       "    </tr>\n",
       "    <tr>\n",
       "      <td>4</td>\n",
       "      <td>girlfriends stayed celebrate   th birthdays  p...</td>\n",
       "      <td>0</td>\n",
       "      <td>1613</td>\n",
       "      <td>1048</td>\n",
       "    </tr>\n",
       "  </tbody>\n",
       "</table>\n",
       "</div>"
      ],
      "text/plain": [
       "                                         Description  Response  length  \\\n",
       "0  room kind clean strong smell dogs  generally a...         0     248   \n",
       "1  stayed crown plaza april    april           st...         0    1077   \n",
       "2  booked hotel hotwire lowest price could find  ...         0    1327   \n",
       "3  stayed husband sons way alaska cruise  loved h...         1     502   \n",
       "4  girlfriends stayed celebrate   th birthdays  p...         0    1613   \n",
       "\n",
       "   cleaned_length  \n",
       "0             144  \n",
       "1             714  \n",
       "2             900  \n",
       "3             358  \n",
       "4            1048  "
      ]
     },
     "execution_count": 22,
     "metadata": {},
     "output_type": "execute_result"
    }
   ],
   "source": [
    "#Mapping the response label\n",
    "train['Response'].replace({'happy':1,'not happy':0},inplace=True)\n",
    "train.head()"
   ]
  },
  {
   "cell_type": "code",
   "execution_count": 23,
   "metadata": {},
   "outputs": [
    {
     "data": {
      "image/png": "[encoded data removed]",
      "text/plain": [
       "<Figure size 864x720 with 1 Axes>"
      ]
     },
     "metadata": {},
     "output_type": "display_data"
    }
   ],
   "source": [
    "#Now the description is cleaned \n",
    "#we see some loud words used for negative reviews\n",
    "from wordcloud import WordCloud\n",
    "negatives=train['Description'][train['Response']==0]\n",
    "\n",
    "neg_cloud=WordCloud(max_words=50).generate(' '.join(negatives))\n",
    "plt.figure(figsize=(12,10),facecolor='g')\n",
    "plt.imshow(neg_cloud)\n",
    "plt.tight_layout()\n",
    "plt.axis('off')\n",
    "plt.show()"
   ]
  },
  {
   "cell_type": "raw",
   "metadata": {},
   "source": [
    "It say room are not good\n",
    "bathroom are not cleane\n",
    "some not liked the bed,area,price,service.\n",
    "So these are to be improved."
   ]
  },
  {
   "cell_type": "code",
   "execution_count": 24,
   "metadata": {},
   "outputs": [
    {
     "data": {
      "image/png": "[encoded data removed]",
      "text/plain": [
       "<Figure size 864x720 with 1 Axes>"
      ]
     },
     "metadata": {},
     "output_type": "display_data"
    }
   ],
   "source": [
    "#Loud words used for positive review\n",
    "positives=train['Description'][train['Response']==1]\n",
    "\n",
    "pos_cloud=WordCloud(width=700,height=450,background_color='white',max_words=50).generate(' '.join(positives))\n",
    "plt.figure(figsize=(12,10),facecolor='r')\n",
    "plt.imshow(pos_cloud)\n",
    "plt.tight_layout(pad=0)\n",
    "plt.axis('off')\n",
    "plt.show()"
   ]
  },
  {
   "cell_type": "raw",
   "metadata": {},
   "source": [
    "#positive reviews are\n",
    "Hotel is good, location is good,breakfast, bar, staffs are friendly, they recommend the hotel,room clean,\n",
    "wonderful,helpful,room service,wackable distance,price is good"
   ]
  },
  {
   "cell_type": "code",
   "execution_count": 27,
   "metadata": {},
   "outputs": [],
   "source": [
    "#Vectorize all the text columns from both the sets to machine learnable format\n",
    "from sklearn.feature_extraction.text import TfidfVectorizer\n",
    "tfidf=TfidfVectorizer()\n",
    "X=tfidf.fit_transform(train['Description'])\n",
    "\n",
    "Test=tfidf.transform(test['Description'])"
   ]
  },
  {
   "cell_type": "raw",
   "metadata": {},
   "source": [
    "#Vectorize all the text columns from both the sets to machine learnable format\n",
    "from sklearn.feature_extraction.text import TfidfVectorizer\n",
    "tfidf=TfidfVectorizer()\n",
    "x=tfidf.fit_transform(train['Description'])\n",
    "\n",
    "Test=tfidf.fit_transform(test['Description'])"
   ]
  },
  {
   "cell_type": "code",
   "execution_count": 28,
   "metadata": {},
   "outputs": [
    {
     "data": {
      "text/plain": [
       "0        0\n",
       "1        0\n",
       "2        0\n",
       "3        1\n",
       "4        0\n",
       "        ..\n",
       "38927    1\n",
       "38928    0\n",
       "38929    0\n",
       "38930    0\n",
       "38931    1\n",
       "Name: Response, Length: 38932, dtype: int64"
      ]
     },
     "execution_count": 28,
     "metadata": {},
     "output_type": "execute_result"
    }
   ],
   "source": [
    "y=train['Response']\n",
    "y"
   ]
  },
  {
   "cell_type": "markdown",
   "metadata": {},
   "source": [
    "Machine Learning to predict Positive or Negative"
   ]
  },
  {
   "cell_type": "code",
   "execution_count": 29,
   "metadata": {
    "scrolled": false
   },
   "outputs": [
    {
     "name": "stdout",
     "output_type": "stream",
     "text": [
      "Max Accuracy score corresponding to  42  is  0.8064317271139423\n",
      "Max Accuracy score corresponding to  42  is  0.8064317271139423\n",
      "Max Accuracy score corresponding to  44  is  0.8078701325387856\n",
      "Max Accuracy score corresponding to  45  is  0.8109524298777355\n",
      "Max Accuracy score corresponding to  45  is  0.8109524298777355\n",
      "Max Accuracy score corresponding to  45  is  0.8109524298777355\n",
      "Max Accuracy score corresponding to  45  is  0.8109524298777355\n",
      "Max Accuracy score corresponding to  45  is  0.8109524298777355\n",
      "Max Accuracy score corresponding to  45  is  0.8109524298777355\n",
      "Max Accuracy score corresponding to  51  is  0.8113634028562622\n",
      "Max Accuracy score corresponding to  51  is  0.8113634028562622\n",
      "Max Accuracy score corresponding to  51  is  0.8113634028562622\n",
      "Max Accuracy score corresponding to  51  is  0.8113634028562622\n",
      "Max Accuracy score corresponding to  51  is  0.8113634028562622\n",
      "Max Accuracy score corresponding to  51  is  0.8113634028562622\n",
      "Max Accuracy score corresponding to  51  is  0.8113634028562622\n",
      "Max Accuracy score corresponding to  51  is  0.8113634028562622\n",
      "Max Accuracy score corresponding to  51  is  0.8113634028562622\n",
      "Max Accuracy score corresponding to  51  is  0.8113634028562622\n",
      "Max Accuracy score corresponding to  51  is  0.8113634028562622\n",
      "Max Accuracy score corresponding to  51  is  0.8113634028562622\n",
      "Max Accuracy score corresponding to  51  is  0.8113634028562622\n",
      "Max Accuracy score corresponding to  51  is  0.8113634028562622\n",
      "Max Accuracy score corresponding to  51  is  0.8113634028562622\n",
      "Max Accuracy score corresponding to  51  is  0.8113634028562622\n",
      "Max Accuracy score corresponding to  51  is  0.8113634028562622\n",
      "Max Accuracy score corresponding to  51  is  0.8113634028562622\n",
      "Max Accuracy score corresponding to  51  is  0.8113634028562622\n",
      "Max Accuracy score corresponding to  51  is  0.8113634028562622\n",
      "Max Accuracy score corresponding to  51  is  0.8113634028562622\n",
      "Max Accuracy score corresponding to  51  is  0.8113634028562622\n",
      "Max Accuracy score corresponding to  51  is  0.8113634028562622\n",
      "Max Accuracy score corresponding to  51  is  0.8113634028562622\n",
      "Max Accuracy score corresponding to  51  is  0.8113634028562622\n",
      "Max Accuracy score corresponding to  51  is  0.8113634028562622\n",
      "Max Accuracy score corresponding to  51  is  0.8113634028562622\n",
      "Max Accuracy score corresponding to  51  is  0.8113634028562622\n",
      "Max Accuracy score corresponding to  51  is  0.8113634028562622\n",
      "Max Accuracy score corresponding to  80  is  0.8137264974827905\n",
      "Max Accuracy score corresponding to  80  is  0.8137264974827905\n",
      "Max Accuracy score corresponding to  80  is  0.8137264974827905\n",
      "Max Accuracy score corresponding to  80  is  0.8137264974827905\n",
      "Max Accuracy score corresponding to  80  is  0.8137264974827905\n",
      "Max Accuracy score corresponding to  80  is  0.8137264974827905\n",
      "Max Accuracy score corresponding to  80  is  0.8137264974827905\n",
      "Max Accuracy score corresponding to  80  is  0.8137264974827905\n",
      "Max Accuracy score corresponding to  80  is  0.8137264974827905\n",
      "Max Accuracy score corresponding to  80  is  0.8137264974827905\n",
      "Max Accuracy score corresponding to  80  is  0.8137264974827905\n",
      "Max Accuracy score corresponding to  80  is  0.8137264974827905\n",
      "Max Accuracy score corresponding to  80  is  0.8137264974827905\n",
      "Max Accuracy score corresponding to  80  is  0.8137264974827905\n",
      "Max Accuracy score corresponding to  80  is  0.8137264974827905\n",
      "Max Accuracy score corresponding to  80  is  0.8137264974827905\n",
      "Max Accuracy score corresponding to  80  is  0.8137264974827905\n",
      "Max Accuracy score corresponding to  80  is  0.8137264974827905\n",
      "Max Accuracy score corresponding to  80  is  0.8137264974827905\n",
      "Max Accuracy score corresponding to  80  is  0.8137264974827905\n",
      "Max Accuracy score corresponding to  80  is  0.8137264974827905\n"
     ]
    }
   ],
   "source": [
    "#Check at which random state the machine perform good to predict\n",
    "max_acc_scr=0\n",
    "for r_state in range(42,101):\n",
    "    train_X,test_X,train_y,test_y=train_test_split(X,y,random_state=r_state,test_size=0.25)\n",
    "    mnb=MultinomialNB()\n",
    "    mnb.fit(train_X,train_y)\n",
    "    pred=mnb.predict(test_X)\n",
    "    acc_scr=accuracy_score(pred,test_y)\n",
    "    if acc_scr>max_acc_scr:\n",
    "        max_acc_scr=acc_scr\n",
    "        final_r_state=r_state\n",
    "    print('Max Accuracy score corresponding to ',final_r_state,' is ',max_acc_scr)    "
   ]
  },
  {
   "cell_type": "code",
   "execution_count": 30,
   "metadata": {},
   "outputs": [
    {
     "name": "stdout",
     "output_type": "stream",
     "text": [
      "[0.80572676 0.80965836 0.81222707 0.80490624 0.81132802]\n",
      "0.8087692922291746\n"
     ]
    }
   ],
   "source": [
    "#Checking the fitting of the model\n",
    "from sklearn.model_selection import GridSearchCV,cross_val_score\n",
    "import numpy as np\n",
    "a_score=cross_val_score(mnb,X,y,cv=5)\n",
    "print(a_score)\n",
    "print(np.mean(a_score))"
   ]
  },
  {
   "cell_type": "code",
   "execution_count": 31,
   "metadata": {
    "scrolled": false
   },
   "outputs": [
    {
     "name": "stdout",
     "output_type": "stream",
     "text": [
      "Model MultinomialNB(alpha=1.0, class_prior=None, fit_prior=True)\n",
      "\n",
      "\n",
      "Accuracy Score:  0.8137264974827905\n",
      "\n",
      "\n",
      "Confusion Matrix: \n",
      " [[1256   64]\n",
      " [1749 6664]]\n",
      "Classification Report: \n",
      "               precision    recall  f1-score   support\n",
      "\n",
      "           0       0.42      0.95      0.58      1320\n",
      "           1       0.99      0.79      0.88      8413\n",
      "\n",
      "    accuracy                           0.81      9733\n",
      "   macro avg       0.70      0.87      0.73      9733\n",
      "weighted avg       0.91      0.81      0.84      9733\n",
      "\n",
      "\n",
      "\n",
      "Model LogisticRegression(C=1.0, class_weight=None, dual=False, fit_intercept=True,\n",
      "                   intercept_scaling=1, l1_ratio=None, max_iter=100,\n",
      "                   multi_class='warn', n_jobs=None, penalty='l2',\n",
      "                   random_state=None, solver='warn', tol=0.0001, verbose=0,\n",
      "                   warm_start=False)\n",
      "\n",
      "\n",
      "Accuracy Score:  0.888215349840748\n",
      "\n",
      "\n",
      "Confusion Matrix: \n",
      " [[2315  398]\n",
      " [ 690 6330]]\n",
      "Classification Report: \n",
      "               precision    recall  f1-score   support\n",
      "\n",
      "           0       0.77      0.85      0.81      2713\n",
      "           1       0.94      0.90      0.92      7020\n",
      "\n",
      "    accuracy                           0.89      9733\n",
      "   macro avg       0.86      0.88      0.87      9733\n",
      "weighted avg       0.89      0.89      0.89      9733\n",
      "\n",
      "\n",
      "\n",
      "Model KNeighborsClassifier(algorithm='auto', leaf_size=30, metric='minkowski',\n",
      "                     metric_params=None, n_jobs=None, n_neighbors=5, p=2,\n",
      "                     weights='uniform')\n",
      "\n",
      "\n",
      "Accuracy Score:  0.7907120106852974\n",
      "\n",
      "\n",
      "Confusion Matrix: \n",
      " [[1392  424]\n",
      " [1613 6304]]\n",
      "Classification Report: \n",
      "               precision    recall  f1-score   support\n",
      "\n",
      "           0       0.46      0.77      0.58      1816\n",
      "           1       0.94      0.80      0.86      7917\n",
      "\n",
      "    accuracy                           0.79      9733\n",
      "   macro avg       0.70      0.78      0.72      9733\n",
      "weighted avg       0.85      0.79      0.81      9733\n",
      "\n",
      "\n",
      "\n",
      "Model DecisionTreeClassifier(class_weight=None, criterion='gini', max_depth=None,\n",
      "                       max_features=None, max_leaf_nodes=None,\n",
      "                       min_impurity_decrease=0.0, min_impurity_split=None,\n",
      "                       min_samples_leaf=1, min_samples_split=2,\n",
      "                       min_weight_fraction_leaf=0.0, presort=False,\n",
      "                       random_state=None, splitter='best')\n",
      "\n",
      "\n",
      "Accuracy Score:  0.7508476317682112\n",
      "\n",
      "\n",
      "Confusion Matrix: \n",
      " [[1816 1236]\n",
      " [1189 5492]]\n",
      "Classification Report: \n",
      "               precision    recall  f1-score   support\n",
      "\n",
      "           0       0.60      0.60      0.60      3052\n",
      "           1       0.82      0.82      0.82      6681\n",
      "\n",
      "    accuracy                           0.75      9733\n",
      "   macro avg       0.71      0.71      0.71      9733\n",
      "weighted avg       0.75      0.75      0.75      9733\n",
      "\n",
      "\n",
      "\n"
     ]
    }
   ],
   "source": [
    "#final splitting\n",
    "train_X,test_X,train_y,test_y=train_test_split(X,y,random_state=80,test_size=0.25)\n",
    "#Checking which model predict the best\n",
    "model=[MultinomialNB(),LogisticRegression(),KNeighborsClassifier(),DecisionTreeClassifier()]\n",
    "for m in model:\n",
    "    m.fit(train_X,train_y)\n",
    "    predm=m.predict(test_X)\n",
    "    print(\"Model\",m)\n",
    "    print(\"\\n\")\n",
    "    print('Accuracy Score: ',accuracy_score(predm,test_y))\n",
    "    print(\"\\n\")\n",
    "    print(\"Confusion Matrix: \\n\",confusion_matrix(predm,test_y))\n",
    "    print(\"Classification Report: \\n\",classification_report(predm,test_y))\n",
    "    print(\"\\n\")"
   ]
  },
  {
   "cell_type": "code",
   "execution_count": 32,
   "metadata": {},
   "outputs": [
    {
     "name": "stdout",
     "output_type": "stream",
     "text": [
      "Model AdaBoostClassifier(algorithm='SAMME.R', base_estimator=None, learning_rate=1.0,\n",
      "                   n_estimators=50, random_state=None)\n",
      "\n",
      "\n",
      "Accuracy Score:  0.8331449707181753\n",
      "\n",
      "\n",
      "Confusion Matrix: \n",
      " [[2032  651]\n",
      " [ 973 6077]]\n",
      "Classification Report: \n",
      "               precision    recall  f1-score   support\n",
      "\n",
      "           0       0.68      0.76      0.71      2683\n",
      "           1       0.90      0.86      0.88      7050\n",
      "\n",
      "    accuracy                           0.83      9733\n",
      "   macro avg       0.79      0.81      0.80      9733\n",
      "weighted avg       0.84      0.83      0.84      9733\n",
      "\n",
      "\n",
      "\n",
      "Model GradientBoostingClassifier(criterion='friedman_mse', init=None,\n",
      "                           learning_rate=0.1, loss='deviance', max_depth=3,\n",
      "                           max_features=None, max_leaf_nodes=None,\n",
      "                           min_impurity_decrease=0.0, min_impurity_split=None,\n",
      "                           min_samples_leaf=1, min_samples_split=2,\n",
      "                           min_weight_fraction_leaf=0.0, n_estimators=100,\n",
      "                           n_iter_no_change=None, presort='auto',\n",
      "                           random_state=None, subsample=1.0, tol=0.0001,\n",
      "                           validation_fraction=0.1, verbose=0,\n",
      "                           warm_start=False)\n",
      "\n",
      "\n",
      "Accuracy Score:  0.8365354977910202\n",
      "\n",
      "\n",
      "Confusion Matrix: \n",
      " [[1723  309]\n",
      " [1282 6419]]\n",
      "Classification Report: \n",
      "               precision    recall  f1-score   support\n",
      "\n",
      "           0       0.57      0.85      0.68      2032\n",
      "           1       0.95      0.83      0.89      7701\n",
      "\n",
      "    accuracy                           0.84      9733\n",
      "   macro avg       0.76      0.84      0.79      9733\n",
      "weighted avg       0.87      0.84      0.85      9733\n",
      "\n",
      "\n",
      "\n"
     ]
    }
   ],
   "source": [
    "#Checking the result by ensemble techniques\n",
    "model=[AdaBoostClassifier(),GradientBoostingClassifier()]\n",
    "for m in model:\n",
    "    m.fit(train_X,train_y)\n",
    "    predm=m.predict(test_X)\n",
    "    print(\"Model\",m)\n",
    "    print(\"\\n\")\n",
    "    print('Accuracy Score: ',accuracy_score(predm,test_y))\n",
    "    print(\"\\n\")\n",
    "    print(\"Confusion Matrix: \\n\",confusion_matrix(predm,test_y))\n",
    "    print(\"Classification Report: \\n\",classification_report(predm,test_y))\n",
    "    print(\"\\n\")"
   ]
  },
  {
   "cell_type": "code",
   "execution_count": 45,
   "metadata": {},
   "outputs": [
    {
     "name": "stdout",
     "output_type": "stream",
     "text": [
      "{'solver': 'liblinear'}\n",
      "0.9149636192475832\n"
     ]
    }
   ],
   "source": [
    "#Logistic Regression has highest f1 score,precision,recall as well as accuracy as compared to other classifiers so we finalize the model for Predicting the positive and negative reviews\n",
    "#Using GridSearchCV to get the best parameter\n",
    "lr=LogisticRegression()\n",
    "param={'solver':['newton-cg', 'lbfgs', 'liblinear', 'sag', 'saga']}\n",
    "Gd_sr=GridSearchCV(estimator=lr,cv=5,scoring=\"f1\",param_grid=param)\n",
    "Gd_sr.fit(train_X,train_y)\n",
    "best_param=Gd_sr.best_params_\n",
    "print(best_param)\n",
    "best_score=Gd_sr.best_score_\n",
    "print(best_score)"
   ]
  },
  {
   "cell_type": "code",
   "execution_count": 47,
   "metadata": {},
   "outputs": [
    {
     "name": "stdout",
     "output_type": "stream",
     "text": [
      "Accuracy Score:  0.888215349840748\n",
      "Confusion Matrix: \n",
      " [[2315  398]\n",
      " [ 690 6330]]\n",
      "Classification Report: \n",
      "               precision    recall  f1-score   support\n",
      "\n",
      "           0       0.77      0.85      0.81      2713\n",
      "           1       0.94      0.90      0.92      7020\n",
      "\n",
      "    accuracy                           0.89      9733\n",
      "   macro avg       0.86      0.88      0.87      9733\n",
      "weighted avg       0.89      0.89      0.89      9733\n",
      "\n"
     ]
    }
   ],
   "source": [
    "#final model\n",
    "Lr=LogisticRegression(solver=\"liblinear\")\n",
    "Lr.fit(train_X,train_y)\n",
    "Lrpred=Lr.predict(test_X)\n",
    "print(\"Accuracy Score: \",accuracy_score(Lrpred,test_y))\n",
    "print(\"Confusion Matrix: \\n\",confusion_matrix(Lrpred,test_y))\n",
    "print('Classification Report: \\n',classification_report(Lrpred,test_y))"
   ]
  },
  {
   "cell_type": "code",
   "execution_count": null,
   "metadata": {},
   "outputs": [],
   "source": []
  },
  {
   "cell_type": "markdown",
   "metadata": {},
   "source": [
    "# Test Data"
   ]
  },
  {
   "cell_type": "code",
   "execution_count": 48,
   "metadata": {},
   "outputs": [
    {
     "name": "stdout",
     "output_type": "stream",
     "text": [
      "[0 1 1 ... 1 1 1]\n"
     ]
    }
   ],
   "source": [
    "#Now we predict the Test data set to predict the reviews if they are positive or negative\n",
    "Pred_Test=Lr.predict(Test)\n",
    "print(Pred_Test)"
   ]
  },
  {
   "cell_type": "code",
   "execution_count": 49,
   "metadata": {},
   "outputs": [
    {
     "data": {
      "text/plain": [
       "29404"
      ]
     },
     "execution_count": 49,
     "metadata": {},
     "output_type": "execute_result"
    }
   ],
   "source": [
    "len(Pred_Test)"
   ]
  },
  {
   "cell_type": "code",
   "execution_count": 51,
   "metadata": {},
   "outputs": [
    {
     "data": {
      "text/plain": [
       "1"
      ]
     },
     "execution_count": 51,
     "metadata": {},
     "output_type": "execute_result"
    }
   ],
   "source": [
    "#check the 4th index prediction\n",
    "Pred_Test[4]"
   ]
  },
  {
   "cell_type": "code",
   "execution_count": 52,
   "metadata": {},
   "outputs": [
    {
     "data": {
      "text/plain": [
       "0"
      ]
     },
     "execution_count": 52,
     "metadata": {},
     "output_type": "execute_result"
    }
   ],
   "source": [
    "Pred_Test[400]"
   ]
  },
  {
   "cell_type": "code",
   "execution_count": 53,
   "metadata": {},
   "outputs": [],
   "source": [
    "#Saving the prediction in csv\n",
    "df=pd.DataFrame(Pred_Test)\n",
    "df.to_csv('pred_Sentiment.csv')"
   ]
  },
  {
   "cell_type": "code",
   "execution_count": 54,
   "metadata": {},
   "outputs": [
    {
     "data": {
      "text/plain": [
       "['pred_Sentiment.obj']"
      ]
     },
     "execution_count": 54,
     "metadata": {},
     "output_type": "execute_result"
    }
   ],
   "source": [
    "#Saving the model for production\n",
    "from sklearn.externals import joblib\n",
    "joblib.dump(Lr,\"pred_Sentiment.obj\")"
   ]
  },
  {
   "cell_type": "code",
   "execution_count": null,
   "metadata": {},
   "outputs": [],
   "source": []
  }
 ],
 "metadata": {
  "kernelspec": {
   "display_name": "Python 3",
   "language": "python",
   "name": "python3"
  },
  "language_info": {
   "codemirror_mode": {
    "name": "ipython",
    "version": 3
   },
   "file_extension": ".py",
   "mimetype": "text/x-python",
   "name": "python",
   "nbconvert_exporter": "python",
   "pygments_lexer": "ipython3",
   "version": "3.7.4"
  }
 },
 "nbformat": 4,
 "nbformat_minor": 2
}
