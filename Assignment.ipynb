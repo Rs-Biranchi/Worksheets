{
 "cells": [
  {
   "cell_type": "code",
   "execution_count": 1,
   "metadata": {},
   "outputs": [],
   "source": [
    "from selenium import webdriver\n",
    "from bs4 import BeautifulSoup\n",
    "import pandas as pd"
   ]
  },
  {
   "cell_type": "code",
   "execution_count": 3,
   "metadata": {},
   "outputs": [],
   "source": [
    "#15.\n",
    "url=\"https://www.amazon.in/s?k=mouse+under+500&rh=p_36%3A-49900&qid=1601141894&rnid=1318502031&ref=sr_nr_p_36_5\"\n",
    "driver=webdriver.Chrome(\"C:\\\\Users\\\\Biranchi\\\\chromedriver.exe\")"
   ]
  },
  {
   "cell_type": "code",
   "execution_count": 4,
   "metadata": {},
   "outputs": [],
   "source": [
    "driver.get(url=url)"
   ]
  },
  {
   "cell_type": "code",
   "execution_count": 7,
   "metadata": {},
   "outputs": [
    {
     "data": {
      "text/plain": [
       "[<span class=\"a-size-medium a-color-base a-text-normal\" dir=\"auto\">Logitech M90 Wired USB Mouse, 1000 DPI Optical Tracking, Ambidextrous PC/Mac/Laptop - Black</span>,\n",
       " <span class=\"a-size-medium a-color-base a-text-normal\" dir=\"auto\">Ant Esports GM200W Gaming Mouse Wired, 6 Programmable Buttons, 3200 DPI Adjustable, with 7 Breathing Lights, Comfortable Grip Ergonomic Optical PC Computer Gaming Mouse, World of Warships Edition – Black</span>,\n",
       " <span class=\"a-size-medium a-color-base a-text-normal\" dir=\"auto\">Xmate Rio Wired USB Gaming Mouse, Led Backlit, 6 Button, 7 Color Breathing Lights, High Ergonomic Mouse, Durable ABS Body for Computer PC &amp; Laptop, 1.5M Nylon Braided Cable (Black)</span>,\n",
       " <span class=\"a-size-medium a-color-base a-text-normal\" dir=\"auto\">Dell Ms116 275-BBCB Optical Mouse</span>,\n",
       " <span class=\"a-size-medium a-color-base a-text-normal\" dir=\"auto\">HP X1000 Wired Mouse (Black/Grey)</span>,\n",
       " <span class=\"a-size-medium a-color-base a-text-normal\" dir=\"auto\">Dell MS116 1000DPI USB Wired Optical Mouse</span>,\n",
       " <span class=\"a-size-medium a-color-base a-text-normal\" dir=\"auto\">Lenovo 300 Wired USB Mouse, GX30M39704</span>,\n",
       " <span class=\"a-size-medium a-color-base a-text-normal\" dir=\"auto\">Foxin FKM-506 PRO Multimedia Keyboard &amp; Mouse Combo (Black)</span>,\n",
       " <span class=\"a-size-medium a-color-base a-text-normal\" dir=\"auto\">Zinq Technologies ZQ233 Wired Mouse with 1000DPI for Laptop and Desktop (Black)</span>,\n",
       " <span class=\"a-size-medium a-color-base a-text-normal\" dir=\"auto\">Quantum QHM232 3-Button 1000DPI Wired Optical Mouse (Black)</span>,\n",
       " <span class=\"a-size-medium a-color-base a-text-normal\" dir=\"auto\">Zebronics Zeb-Comfort+ Wired Mouse</span>,\n",
       " <span class=\"a-size-medium a-color-base a-text-normal\" dir=\"auto\">Quantum Snype 1.0 3200 DPI Wired USB Gaming Mouse with 7 Programmable Keys, Adjustable Weights &amp; Nylon Braided Cable (Grey)</span>,\n",
       " <span class=\"a-size-medium a-color-base a-text-normal\" dir=\"auto\">Zinq Technologies ZQ233 Wired Mouse with 1000DPI for Laptop and Desktop (Black)</span>,\n",
       " <span class=\"a-size-medium a-color-base a-text-normal\" dir=\"auto\">iBall Style 63 Optical Mouse (Black)</span>,\n",
       " <span class=\"a-size-medium a-color-base a-text-normal\" dir=\"auto\">Portronics Toad 12 Wireless 2.4G Optical Mouse with Ergonomic Design, USB Receiver for Notebook, Laptop, Computer, MacBook, Windows, MacOS, (Blue)</span>,\n",
       " <span class=\"a-size-medium a-color-base a-text-normal\" dir=\"auto\">IT2M Designer Mouse Pad for Laptop/Computer (9.2 X 7.6 Inches, 12788)</span>,\n",
       " <span class=\"a-size-medium a-color-base a-text-normal\" dir=\"auto\">NOCKOUT Big Size Designer Gaming Non-Slip Rubber Base Mouse pad for Laptop and Computer | Large (24 cm * 20 cm, 3D Abstract)</span>,\n",
       " <span class=\"a-size-medium a-color-base a-text-normal\" dir=\"auto\">Golden Feather Anti Skid Marvel Avengers Super Heroes Designer Mouse pad for laptops and Computers Gaming Mousepad (Spiderman 2)</span>,\n",
       " <span class=\"a-size-medium a-color-base a-text-normal\" dir=\"auto\">Zebronics Zeb-Rise Wired USB Optical Mouse with 3 Buttons (Black)</span>,\n",
       " <span class=\"a-size-medium a-color-base a-text-normal\" dir=\"auto\">Zebronics Zeb-Alex Wired USB Optical Mouse with 3 Buttons</span>]"
      ]
     },
     "execution_count": 7,
     "metadata": {},
     "output_type": "execute_result"
    }
   ],
   "source": [
    "content=driver.page_source\n",
    "Soup=BeautifulSoup(content)\n",
    "mouses=Soup.findAll(name='span',attrs={\"class\":\"a-size-medium a-color-base a-text-normal\"})\n",
    "mouses"
   ]
  },
  {
   "cell_type": "code",
   "execution_count": 8,
   "metadata": {},
   "outputs": [
    {
     "data": {
      "text/plain": [
       "20"
      ]
     },
     "execution_count": 8,
     "metadata": {},
     "output_type": "execute_result"
    }
   ],
   "source": [
    "len(mouses)"
   ]
  },
  {
   "cell_type": "code",
   "execution_count": 9,
   "metadata": {},
   "outputs": [],
   "source": [
    "prices=Soup.findAll(name=\"span\",attrs={\"class\":\"a-price-whole\"})"
   ]
  },
  {
   "cell_type": "code",
   "execution_count": 13,
   "metadata": {},
   "outputs": [
    {
     "data": {
      "text/plain": [
       "19"
      ]
     },
     "execution_count": 13,
     "metadata": {},
     "output_type": "execute_result"
    }
   ],
   "source": [
    "len(prices)"
   ]
  },
  {
   "cell_type": "code",
   "execution_count": 14,
   "metadata": {},
   "outputs": [],
   "source": [
    "mouse_name=[]\n",
    "\n",
    "for mouse in mouses:\n",
    "    mouse_name.append(mouse.text)\n",
    "    \n",
    "mouse_price=[]\n",
    "\n",
    "for price in prices:\n",
    "    mouse_price.append(price.text)"
   ]
  },
  {
   "cell_type": "code",
   "execution_count": 15,
   "metadata": {},
   "outputs": [
    {
     "data": {
      "text/plain": [
       "['Logitech M90 Wired USB Mouse, 1000 DPI Optical Tracking, Ambidextrous PC/Mac/Laptop - Black',\n",
       " 'Ant Esports GM200W Gaming Mouse Wired, 6 Programmable Buttons, 3200 DPI Adjustable, with 7 Breathing Lights, Comfortable Grip Ergonomic Optical PC Computer Gaming Mouse, World of Warships Edition – Black',\n",
       " 'Xmate Rio Wired USB Gaming Mouse, Led Backlit, 6 Button, 7 Color Breathing Lights, High Ergonomic Mouse, Durable ABS Body for Computer PC & Laptop, 1.5M Nylon Braided Cable (Black)',\n",
       " 'Dell Ms116 275-BBCB Optical Mouse',\n",
       " 'HP X1000 Wired Mouse (Black/Grey)',\n",
       " 'Dell MS116 1000DPI USB Wired Optical Mouse',\n",
       " 'Lenovo 300 Wired USB Mouse, GX30M39704',\n",
       " 'Foxin FKM-506 PRO Multimedia Keyboard & Mouse Combo (Black)',\n",
       " 'Zinq Technologies ZQ233 Wired Mouse with 1000DPI for Laptop and Desktop (Black)',\n",
       " 'Quantum QHM232 3-Button 1000DPI Wired Optical Mouse (Black)',\n",
       " 'Zebronics Zeb-Comfort+ Wired Mouse',\n",
       " 'Quantum Snype 1.0 3200 DPI Wired USB Gaming Mouse with 7 Programmable Keys, Adjustable Weights & Nylon Braided Cable (Grey)',\n",
       " 'Zinq Technologies ZQ233 Wired Mouse with 1000DPI for Laptop and Desktop (Black)',\n",
       " 'iBall Style 63 Optical Mouse (Black)',\n",
       " 'Portronics Toad 12 Wireless 2.4G Optical Mouse with Ergonomic Design, USB Receiver for Notebook, Laptop, Computer, MacBook, Windows, MacOS, (Blue)',\n",
       " 'IT2M Designer Mouse Pad for Laptop/Computer (9.2 X 7.6 Inches, 12788)',\n",
       " 'NOCKOUT Big Size Designer Gaming Non-Slip Rubber Base Mouse pad for Laptop and Computer | Large (24 cm * 20 cm, 3D Abstract)',\n",
       " 'Golden Feather Anti Skid Marvel Avengers Super Heroes Designer Mouse pad for laptops and Computers Gaming Mousepad (Spiderman 2)',\n",
       " 'Zebronics Zeb-Rise Wired USB Optical Mouse with 3 Buttons (Black)',\n",
       " 'Zebronics Zeb-Alex Wired USB Optical Mouse with 3 Buttons']"
      ]
     },
     "execution_count": 15,
     "metadata": {},
     "output_type": "execute_result"
    }
   ],
   "source": [
    "mouse_name"
   ]
  },
  {
   "cell_type": "code",
   "execution_count": 18,
   "metadata": {},
   "outputs": [
    {
     "data": {
      "text/plain": [
       "['Logitech M90 Wired USB Mouse, 1000 DPI Optical Tracking, Ambidextrous PC/Mac/Laptop - Black',\n",
       " 'Ant Esports GM200W Gaming Mouse Wired, 6 Programmable Buttons, 3200 DPI Adjustable, with 7 Breathing Lights, Comfortable Grip Ergonomic Optical PC Computer Gaming Mouse, World of Warships Edition – Black',\n",
       " 'Xmate Rio Wired USB Gaming Mouse, Led Backlit, 6 Button, 7 Color Breathing Lights, High Ergonomic Mouse, Durable ABS Body for Computer PC & Laptop, 1.5M Nylon Braided Cable (Black)',\n",
       " 'Dell Ms116 275-BBCB Optical Mouse',\n",
       " 'HP X1000 Wired Mouse (Black/Grey)',\n",
       " 'Dell MS116 1000DPI USB Wired Optical Mouse',\n",
       " 'Lenovo 300 Wired USB Mouse, GX30M39704',\n",
       " 'Zinq Technologies ZQ233 Wired Mouse with 1000DPI for Laptop and Desktop (Black)',\n",
       " 'Quantum QHM232 3-Button 1000DPI Wired Optical Mouse (Black)',\n",
       " 'Zebronics Zeb-Comfort+ Wired Mouse',\n",
       " 'Quantum Snype 1.0 3200 DPI Wired USB Gaming Mouse with 7 Programmable Keys, Adjustable Weights & Nylon Braided Cable (Grey)',\n",
       " 'Zinq Technologies ZQ233 Wired Mouse with 1000DPI for Laptop and Desktop (Black)',\n",
       " 'iBall Style 63 Optical Mouse (Black)',\n",
       " 'Portronics Toad 12 Wireless 2.4G Optical Mouse with Ergonomic Design, USB Receiver for Notebook, Laptop, Computer, MacBook, Windows, MacOS, (Blue)',\n",
       " 'IT2M Designer Mouse Pad for Laptop/Computer (9.2 X 7.6 Inches, 12788)',\n",
       " 'NOCKOUT Big Size Designer Gaming Non-Slip Rubber Base Mouse pad for Laptop and Computer | Large (24 cm * 20 cm, 3D Abstract)',\n",
       " 'Golden Feather Anti Skid Marvel Avengers Super Heroes Designer Mouse pad for laptops and Computers Gaming Mousepad (Spiderman 2)',\n",
       " 'Zebronics Zeb-Rise Wired USB Optical Mouse with 3 Buttons (Black)',\n",
       " 'Zebronics Zeb-Alex Wired USB Optical Mouse with 3 Buttons']"
      ]
     },
     "execution_count": 18,
     "metadata": {},
     "output_type": "execute_result"
    }
   ],
   "source": [
    "#As the item at 7th index \"Foxin FKM-506 PRO Multimedia Keyboard & Mouse Combo (Black)\" is not available its price is not available.\n",
    "#So we drop it from the list\n",
    "\n",
    "del mouse_name[7]\n",
    "mouse_name"
   ]
  },
  {
   "cell_type": "code",
   "execution_count": 19,
   "metadata": {},
   "outputs": [
    {
     "name": "stdout",
     "output_type": "stream",
     "text": [
      "Length:  20\n"
     ]
    }
   ],
   "source": [
    "#now the length of mouse is 19 so we append one mouse to the list\n",
    "mouse=Soup.find('span',attrs={\"class\":\"a-size-medium a-color-base a-text-normal\"})\n",
    "\n",
    "#Adding the 20th mouse\n",
    "mouse_name.append(mouse.text)\n",
    "print(\"Length: \",len(mouse_name))\n",
    "\n",
    "price=Soup.find('span',attrs={\"class\":\"a-price-whole\"})\n",
    "mouse_price.append(price.text)"
   ]
  },
  {
   "cell_type": "code",
   "execution_count": 20,
   "metadata": {},
   "outputs": [
    {
     "data": {
      "text/html": [
       "<div>\n",
       "<style scoped>\n",
       "    .dataframe tbody tr th:only-of-type {\n",
       "        vertical-align: middle;\n",
       "    }\n",
       "\n",
       "    .dataframe tbody tr th {\n",
       "        vertical-align: top;\n",
       "    }\n",
       "\n",
       "    .dataframe thead th {\n",
       "        text-align: right;\n",
       "    }\n",
       "</style>\n",
       "<table border=\"1\" class=\"dataframe\">\n",
       "  <thead>\n",
       "    <tr style=\"text-align: right;\">\n",
       "      <th></th>\n",
       "      <th>model_name</th>\n",
       "      <th>price</th>\n",
       "    </tr>\n",
       "  </thead>\n",
       "  <tbody>\n",
       "    <tr>\n",
       "      <td>0</td>\n",
       "      <td>Logitech M90 Wired USB Mouse, 1000 DPI Optical...</td>\n",
       "      <td>299</td>\n",
       "    </tr>\n",
       "    <tr>\n",
       "      <td>1</td>\n",
       "      <td>Ant Esports GM200W Gaming Mouse Wired, 6 Progr...</td>\n",
       "      <td>449</td>\n",
       "    </tr>\n",
       "    <tr>\n",
       "      <td>2</td>\n",
       "      <td>Xmate Rio Wired USB Gaming Mouse, Led Backlit,...</td>\n",
       "      <td>399</td>\n",
       "    </tr>\n",
       "    <tr>\n",
       "      <td>3</td>\n",
       "      <td>Dell Ms116 275-BBCB Optical Mouse</td>\n",
       "      <td>349</td>\n",
       "    </tr>\n",
       "    <tr>\n",
       "      <td>4</td>\n",
       "      <td>HP X1000 Wired Mouse (Black/Grey)</td>\n",
       "      <td>349</td>\n",
       "    </tr>\n",
       "    <tr>\n",
       "      <td>5</td>\n",
       "      <td>Dell MS116 1000DPI USB Wired Optical Mouse</td>\n",
       "      <td>398</td>\n",
       "    </tr>\n",
       "    <tr>\n",
       "      <td>6</td>\n",
       "      <td>Lenovo 300 Wired USB Mouse, GX30M39704</td>\n",
       "      <td>299</td>\n",
       "    </tr>\n",
       "    <tr>\n",
       "      <td>7</td>\n",
       "      <td>Zinq Technologies ZQ233 Wired Mouse with 1000D...</td>\n",
       "      <td>199</td>\n",
       "    </tr>\n",
       "    <tr>\n",
       "      <td>8</td>\n",
       "      <td>Quantum QHM232 3-Button 1000DPI Wired Optical ...</td>\n",
       "      <td>222</td>\n",
       "    </tr>\n",
       "    <tr>\n",
       "      <td>9</td>\n",
       "      <td>Zebronics Zeb-Comfort+ Wired Mouse</td>\n",
       "      <td>225</td>\n",
       "    </tr>\n",
       "    <tr>\n",
       "      <td>10</td>\n",
       "      <td>Quantum Snype 1.0 3200 DPI Wired USB Gaming Mo...</td>\n",
       "      <td>499</td>\n",
       "    </tr>\n",
       "    <tr>\n",
       "      <td>11</td>\n",
       "      <td>Zinq Technologies ZQ233 Wired Mouse with 1000D...</td>\n",
       "      <td>199</td>\n",
       "    </tr>\n",
       "    <tr>\n",
       "      <td>12</td>\n",
       "      <td>iBall Style 63 Optical Mouse (Black)</td>\n",
       "      <td>275</td>\n",
       "    </tr>\n",
       "    <tr>\n",
       "      <td>13</td>\n",
       "      <td>Portronics Toad 12 Wireless 2.4G Optical Mouse...</td>\n",
       "      <td>477</td>\n",
       "    </tr>\n",
       "    <tr>\n",
       "      <td>14</td>\n",
       "      <td>IT2M Designer Mouse Pad for Laptop/Computer (9...</td>\n",
       "      <td>196</td>\n",
       "    </tr>\n",
       "    <tr>\n",
       "      <td>15</td>\n",
       "      <td>NOCKOUT Big Size Designer Gaming Non-Slip Rubb...</td>\n",
       "      <td>229</td>\n",
       "    </tr>\n",
       "    <tr>\n",
       "      <td>16</td>\n",
       "      <td>Golden Feather Anti Skid Marvel Avengers Super...</td>\n",
       "      <td>189</td>\n",
       "    </tr>\n",
       "    <tr>\n",
       "      <td>17</td>\n",
       "      <td>Zebronics Zeb-Rise Wired USB Optical Mouse wit...</td>\n",
       "      <td>229</td>\n",
       "    </tr>\n",
       "    <tr>\n",
       "      <td>18</td>\n",
       "      <td>Zebronics Zeb-Alex Wired USB Optical Mouse wit...</td>\n",
       "      <td>229</td>\n",
       "    </tr>\n",
       "    <tr>\n",
       "      <td>19</td>\n",
       "      <td>Logitech M90 Wired USB Mouse, 1000 DPI Optical...</td>\n",
       "      <td>299</td>\n",
       "    </tr>\n",
       "  </tbody>\n",
       "</table>\n",
       "</div>"
      ],
      "text/plain": [
       "                                           model_name price\n",
       "0   Logitech M90 Wired USB Mouse, 1000 DPI Optical...   299\n",
       "1   Ant Esports GM200W Gaming Mouse Wired, 6 Progr...   449\n",
       "2   Xmate Rio Wired USB Gaming Mouse, Led Backlit,...   399\n",
       "3                   Dell Ms116 275-BBCB Optical Mouse   349\n",
       "4                   HP X1000 Wired Mouse (Black/Grey)   349\n",
       "5          Dell MS116 1000DPI USB Wired Optical Mouse   398\n",
       "6              Lenovo 300 Wired USB Mouse, GX30M39704   299\n",
       "7   Zinq Technologies ZQ233 Wired Mouse with 1000D...   199\n",
       "8   Quantum QHM232 3-Button 1000DPI Wired Optical ...   222\n",
       "9                  Zebronics Zeb-Comfort+ Wired Mouse   225\n",
       "10  Quantum Snype 1.0 3200 DPI Wired USB Gaming Mo...   499\n",
       "11  Zinq Technologies ZQ233 Wired Mouse with 1000D...   199\n",
       "12               iBall Style 63 Optical Mouse (Black)   275\n",
       "13  Portronics Toad 12 Wireless 2.4G Optical Mouse...   477\n",
       "14  IT2M Designer Mouse Pad for Laptop/Computer (9...   196\n",
       "15  NOCKOUT Big Size Designer Gaming Non-Slip Rubb...   229\n",
       "16  Golden Feather Anti Skid Marvel Avengers Super...   189\n",
       "17  Zebronics Zeb-Rise Wired USB Optical Mouse wit...   229\n",
       "18  Zebronics Zeb-Alex Wired USB Optical Mouse wit...   229\n",
       "19  Logitech M90 Wired USB Mouse, 1000 DPI Optical...   299"
      ]
     },
     "execution_count": 20,
     "metadata": {},
     "output_type": "execute_result"
    }
   ],
   "source": [
    "Mouse_data=pd.DataFrame({\"model_name\":mouse_name,\"price\":mouse_price})\n",
    "Mouse_data"
   ]
  },
  {
   "cell_type": "code",
   "execution_count": null,
   "metadata": {},
   "outputs": [],
   "source": []
  }
 ],
 "metadata": {
  "kernelspec": {
   "display_name": "Python 3",
   "language": "python",
   "name": "python3"
  },
  "language_info": {
   "codemirror_mode": {
    "name": "ipython",
    "version": 3
   },
   "file_extension": ".py",
   "mimetype": "text/x-python",
   "name": "python",
   "nbconvert_exporter": "python",
   "pygments_lexer": "ipython3",
   "version": "3.7.4"
  }
 },
 "nbformat": 4,
 "nbformat_minor": 2
}
