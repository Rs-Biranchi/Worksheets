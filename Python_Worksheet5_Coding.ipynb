{
 "cells": [
  {
   "cell_type": "markdown",
   "metadata": {},
   "source": [
    "12.Python program to square the elements of a list by using list comprehension."
   ]
  },
  {
   "cell_type": "code",
   "execution_count": 1,
   "metadata": {},
   "outputs": [],
   "source": [
    "def Square(A):\n",
    "    B=[x**2 for x in A]\n",
    "    return B"
   ]
  },
  {
   "cell_type": "code",
   "execution_count": 2,
   "metadata": {},
   "outputs": [
    {
     "data": {
      "text/plain": [
       "[1, 4, 9, 16, 25, 36]"
      ]
     },
     "execution_count": 2,
     "metadata": {},
     "output_type": "execute_result"
    }
   ],
   "source": [
    "K=[1,2,3,4,5,6]\n",
    "#Calling the Upper Function\n",
    "Square(K)"
   ]
  },
  {
   "cell_type": "markdown",
   "metadata": {},
   "source": [
    "13.Pyhton program to drop duplicate elements from a list of numbers."
   ]
  },
  {
   "cell_type": "code",
   "execution_count": 4,
   "metadata": {},
   "outputs": [
    {
     "name": "stdout",
     "output_type": "stream",
     "text": [
      "[1, 5, 6, 78, 98, 77, 7]\n"
     ]
    }
   ],
   "source": [
    "C=[1,5,6,78,98,77,7,78,5]\n",
    "D=[]\n",
    "for i in C:\n",
    "    if i not in D:\n",
    "        D.append(i)\n",
    "        \n",
    "print(D)        "
   ]
  },
  {
   "cell_type": "code",
   "execution_count": 5,
   "metadata": {},
   "outputs": [
    {
     "name": "stdout",
     "output_type": "stream",
     "text": [
      "Length of C:  9\n",
      "Length of D:  7\n"
     ]
    }
   ],
   "source": [
    "print(\"Length of C: \",len(C))\n",
    "print(\"Length of D: \",len(D))"
   ]
  },
  {
   "cell_type": "markdown",
   "metadata": {},
   "source": [
    "14.Implementing the set operations - intersection, union, difference and\n",
    "symmetric_difference."
   ]
  },
  {
   "cell_type": "code",
   "execution_count": 7,
   "metadata": {},
   "outputs": [
    {
     "name": "stdout",
     "output_type": "stream",
     "text": [
      "Intersection of Set1 & Set2 is : {4, 5} \n",
      "\n",
      "Union of Set1  & Set2 is:  {1, 2, 4, 5, 8, 9, 12, 15, 25} \n",
      "\n",
      "Elemnts in Set2 but not in Set1 are:  {25, 12, 15} \n",
      "\n",
      "All the Different elements of Set1 and Set2 {1, 2, 8, 9, 12, 15, 25}\n"
     ]
    }
   ],
   "source": [
    "Set1={1,2,4,9,5,8}\n",
    "Set2={4,5,12,15,25}\n",
    "\n",
    "E=Set1.intersection(Set2)\n",
    "print(\"Intersection of Set1 & Set2 is :\",E,'\\n')\n",
    "\n",
    "F=Set1.union(Set2)\n",
    "print(\"Union of Set1  & Set2 is: \",F,\"\\n\")\n",
    "\n",
    "G=Set2.difference(Set1)\n",
    "print(\"Elemnts in Set2 but not in Set1 are: \",G,'\\n')\n",
    "\n",
    "H=Set2.symmetric_difference(Set1)\n",
    "print(\"All the Different elements of Set1 and Set2\",H)"
   ]
  },
  {
   "cell_type": "markdown",
   "metadata": {},
   "source": [
    "15.Python program to add the elements of a set."
   ]
  },
  {
   "cell_type": "code",
   "execution_count": 8,
   "metadata": {},
   "outputs": [],
   "source": [
    "Set3={1,2,3,4,5,6,898}"
   ]
  },
  {
   "cell_type": "code",
   "execution_count": 9,
   "metadata": {},
   "outputs": [
    {
     "name": "stdout",
     "output_type": "stream",
     "text": [
      "{1, 2, 3, 4, 5, 6, 898, 45}\n"
     ]
    }
   ],
   "source": [
    "Set3.add(45)\n",
    "print(Set3)"
   ]
  },
  {
   "cell_type": "code",
   "execution_count": 10,
   "metadata": {},
   "outputs": [],
   "source": [
    "Set3.add(45678)"
   ]
  },
  {
   "cell_type": "code",
   "execution_count": 11,
   "metadata": {},
   "outputs": [
    {
     "name": "stdout",
     "output_type": "stream",
     "text": [
      "{1, 2, 3, 4, 5, 6, 898, 45, 45678}\n"
     ]
    }
   ],
   "source": [
    "print(Set3)"
   ]
  },
  {
   "cell_type": "code",
   "execution_count": null,
   "metadata": {},
   "outputs": [],
   "source": []
  }
 ],
 "metadata": {
  "kernelspec": {
   "display_name": "Python 3",
   "language": "python",
   "name": "python3"
  },
  "language_info": {
   "codemirror_mode": {
    "name": "ipython",
    "version": 3
   },
   "file_extension": ".py",
   "mimetype": "text/x-python",
   "name": "python",
   "nbconvert_exporter": "python",
   "pygments_lexer": "ipython3",
   "version": "3.7.4"
  }
 },
 "nbformat": 4,
 "nbformat_minor": 2
}
