{
 "cells": [
  {
   "cell_type": "code",
   "execution_count": 158,
   "metadata": {},
   "outputs": [],
   "source": [
    "#importing pandas library\n",
    "import pandas as pd"
   ]
  },
  {
   "cell_type": "code",
   "execution_count": 159,
   "metadata": {},
   "outputs": [
    {
     "data": {
      "text/html": [
       "<div>\n",
       "<style scoped>\n",
       "    .dataframe tbody tr th:only-of-type {\n",
       "        vertical-align: middle;\n",
       "    }\n",
       "\n",
       "    .dataframe tbody tr th {\n",
       "        vertical-align: top;\n",
       "    }\n",
       "\n",
       "    .dataframe thead th {\n",
       "        text-align: right;\n",
       "    }\n",
       "</style>\n",
       "<table border=\"1\" class=\"dataframe\">\n",
       "  <thead>\n",
       "    <tr style=\"text-align: right;\">\n",
       "      <th></th>\n",
       "      <th>Suburb</th>\n",
       "      <th>Address</th>\n",
       "      <th>Rooms</th>\n",
       "      <th>Type</th>\n",
       "      <th>Price</th>\n",
       "      <th>Method</th>\n",
       "      <th>SellerG</th>\n",
       "      <th>Date</th>\n",
       "      <th>Distance</th>\n",
       "      <th>Postcode</th>\n",
       "      <th>...</th>\n",
       "      <th>Bathroom</th>\n",
       "      <th>Car</th>\n",
       "      <th>Landsize</th>\n",
       "      <th>BuildingArea</th>\n",
       "      <th>YearBuilt</th>\n",
       "      <th>CouncilArea</th>\n",
       "      <th>Lattitude</th>\n",
       "      <th>Longtitude</th>\n",
       "      <th>Regionname</th>\n",
       "      <th>Propertycount</th>\n",
       "    </tr>\n",
       "  </thead>\n",
       "  <tbody>\n",
       "    <tr>\n",
       "      <td>0</td>\n",
       "      <td>Abbotsford</td>\n",
       "      <td>68 Studley St</td>\n",
       "      <td>2.0</td>\n",
       "      <td>h</td>\n",
       "      <td>NaN</td>\n",
       "      <td>SS</td>\n",
       "      <td>Jellis</td>\n",
       "      <td>03-09-2016</td>\n",
       "      <td>2.5</td>\n",
       "      <td>3067.0</td>\n",
       "      <td>...</td>\n",
       "      <td>1.0</td>\n",
       "      <td>1.0</td>\n",
       "      <td>126.0</td>\n",
       "      <td>NaN</td>\n",
       "      <td>NaN</td>\n",
       "      <td>Yarra</td>\n",
       "      <td>-37.80140</td>\n",
       "      <td>144.99580</td>\n",
       "      <td>Northern Metropolitan</td>\n",
       "      <td>4019.0</td>\n",
       "    </tr>\n",
       "    <tr>\n",
       "      <td>1</td>\n",
       "      <td>Abbotsford</td>\n",
       "      <td>85 Turner St</td>\n",
       "      <td>2.0</td>\n",
       "      <td>h</td>\n",
       "      <td>1480000.0</td>\n",
       "      <td>S</td>\n",
       "      <td>Biggin</td>\n",
       "      <td>03-12-2016</td>\n",
       "      <td>2.5</td>\n",
       "      <td>3067.0</td>\n",
       "      <td>...</td>\n",
       "      <td>1.0</td>\n",
       "      <td>1.0</td>\n",
       "      <td>202.0</td>\n",
       "      <td>NaN</td>\n",
       "      <td>NaN</td>\n",
       "      <td>Yarra</td>\n",
       "      <td>-37.79960</td>\n",
       "      <td>144.99840</td>\n",
       "      <td>Northern Metropolitan</td>\n",
       "      <td>4019.0</td>\n",
       "    </tr>\n",
       "    <tr>\n",
       "      <td>2</td>\n",
       "      <td>Abbotsford</td>\n",
       "      <td>25 Bloomburg St</td>\n",
       "      <td>2.0</td>\n",
       "      <td>h</td>\n",
       "      <td>1035000.0</td>\n",
       "      <td>S</td>\n",
       "      <td>Biggin</td>\n",
       "      <td>04-02-2016</td>\n",
       "      <td>2.5</td>\n",
       "      <td>3067.0</td>\n",
       "      <td>...</td>\n",
       "      <td>1.0</td>\n",
       "      <td>0.0</td>\n",
       "      <td>156.0</td>\n",
       "      <td>79.0</td>\n",
       "      <td>1900.0</td>\n",
       "      <td>Yarra</td>\n",
       "      <td>-37.80790</td>\n",
       "      <td>144.99340</td>\n",
       "      <td>Northern Metropolitan</td>\n",
       "      <td>4019.0</td>\n",
       "    </tr>\n",
       "    <tr>\n",
       "      <td>3</td>\n",
       "      <td>Abbotsford</td>\n",
       "      <td>18/659 Victoria St</td>\n",
       "      <td>3.0</td>\n",
       "      <td>u</td>\n",
       "      <td>NaN</td>\n",
       "      <td>VB</td>\n",
       "      <td>Rounds</td>\n",
       "      <td>04-02-2016</td>\n",
       "      <td>2.5</td>\n",
       "      <td>3067.0</td>\n",
       "      <td>...</td>\n",
       "      <td>2.0</td>\n",
       "      <td>1.0</td>\n",
       "      <td>0.0</td>\n",
       "      <td>NaN</td>\n",
       "      <td>NaN</td>\n",
       "      <td>Yarra</td>\n",
       "      <td>-37.81140</td>\n",
       "      <td>145.01160</td>\n",
       "      <td>Northern Metropolitan</td>\n",
       "      <td>4019.0</td>\n",
       "    </tr>\n",
       "    <tr>\n",
       "      <td>4</td>\n",
       "      <td>Abbotsford</td>\n",
       "      <td>5 Charles St</td>\n",
       "      <td>3.0</td>\n",
       "      <td>h</td>\n",
       "      <td>1465000.0</td>\n",
       "      <td>SP</td>\n",
       "      <td>Biggin</td>\n",
       "      <td>04-03-2017</td>\n",
       "      <td>2.5</td>\n",
       "      <td>3067.0</td>\n",
       "      <td>...</td>\n",
       "      <td>2.0</td>\n",
       "      <td>0.0</td>\n",
       "      <td>134.0</td>\n",
       "      <td>150.0</td>\n",
       "      <td>1900.0</td>\n",
       "      <td>Yarra</td>\n",
       "      <td>-37.80930</td>\n",
       "      <td>144.99440</td>\n",
       "      <td>Northern Metropolitan</td>\n",
       "      <td>4019.0</td>\n",
       "    </tr>\n",
       "    <tr>\n",
       "      <td>...</td>\n",
       "      <td>...</td>\n",
       "      <td>...</td>\n",
       "      <td>...</td>\n",
       "      <td>...</td>\n",
       "      <td>...</td>\n",
       "      <td>...</td>\n",
       "      <td>...</td>\n",
       "      <td>...</td>\n",
       "      <td>...</td>\n",
       "      <td>...</td>\n",
       "      <td>...</td>\n",
       "      <td>...</td>\n",
       "      <td>...</td>\n",
       "      <td>...</td>\n",
       "      <td>...</td>\n",
       "      <td>...</td>\n",
       "      <td>...</td>\n",
       "      <td>...</td>\n",
       "      <td>...</td>\n",
       "      <td>...</td>\n",
       "      <td>...</td>\n",
       "    </tr>\n",
       "    <tr>\n",
       "      <td>23673</td>\n",
       "      <td>Wyndham Vale</td>\n",
       "      <td>25 Clitheroe Dr</td>\n",
       "      <td>3.0</td>\n",
       "      <td>u</td>\n",
       "      <td>NaN</td>\n",
       "      <td>PN</td>\n",
       "      <td>Harcourts</td>\n",
       "      <td>26-08-2017</td>\n",
       "      <td>27.2</td>\n",
       "      <td>3024.0</td>\n",
       "      <td>...</td>\n",
       "      <td>1.0</td>\n",
       "      <td>0.0</td>\n",
       "      <td>552.0</td>\n",
       "      <td>119.0</td>\n",
       "      <td>1990.0</td>\n",
       "      <td>NaN</td>\n",
       "      <td>-37.90032</td>\n",
       "      <td>144.61839</td>\n",
       "      <td>Western Metropolitan</td>\n",
       "      <td>5262.0</td>\n",
       "    </tr>\n",
       "    <tr>\n",
       "      <td>23674</td>\n",
       "      <td>Wyndham Vale</td>\n",
       "      <td>19 Dalrymple Bvd</td>\n",
       "      <td>4.0</td>\n",
       "      <td>h</td>\n",
       "      <td>NaN</td>\n",
       "      <td>S</td>\n",
       "      <td>hockingstuart</td>\n",
       "      <td>26-08-2017</td>\n",
       "      <td>27.2</td>\n",
       "      <td>3024.0</td>\n",
       "      <td>...</td>\n",
       "      <td>NaN</td>\n",
       "      <td>NaN</td>\n",
       "      <td>NaN</td>\n",
       "      <td>NaN</td>\n",
       "      <td>NaN</td>\n",
       "      <td>NaN</td>\n",
       "      <td>-37.87882</td>\n",
       "      <td>144.60184</td>\n",
       "      <td>Western Metropolitan</td>\n",
       "      <td>5262.0</td>\n",
       "    </tr>\n",
       "    <tr>\n",
       "      <td>23675</td>\n",
       "      <td>Yallambie</td>\n",
       "      <td>17 Amaroo Wy</td>\n",
       "      <td>4.0</td>\n",
       "      <td>h</td>\n",
       "      <td>1100000.0</td>\n",
       "      <td>S</td>\n",
       "      <td>Buckingham</td>\n",
       "      <td>26-08-2017</td>\n",
       "      <td>12.7</td>\n",
       "      <td>3085.0</td>\n",
       "      <td>...</td>\n",
       "      <td>3.0</td>\n",
       "      <td>2.0</td>\n",
       "      <td>NaN</td>\n",
       "      <td>NaN</td>\n",
       "      <td>NaN</td>\n",
       "      <td>NaN</td>\n",
       "      <td>-37.72006</td>\n",
       "      <td>145.10547</td>\n",
       "      <td>Northern Metropolitan</td>\n",
       "      <td>1369.0</td>\n",
       "    </tr>\n",
       "    <tr>\n",
       "      <td>23676</td>\n",
       "      <td>Yarraville</td>\n",
       "      <td>6 Agnes St</td>\n",
       "      <td>4.0</td>\n",
       "      <td>h</td>\n",
       "      <td>1285000.0</td>\n",
       "      <td>SP</td>\n",
       "      <td>Village</td>\n",
       "      <td>26-08-2017</td>\n",
       "      <td>6.3</td>\n",
       "      <td>3013.0</td>\n",
       "      <td>...</td>\n",
       "      <td>1.0</td>\n",
       "      <td>1.0</td>\n",
       "      <td>362.0</td>\n",
       "      <td>112.0</td>\n",
       "      <td>1920.0</td>\n",
       "      <td>NaN</td>\n",
       "      <td>-37.81188</td>\n",
       "      <td>144.88449</td>\n",
       "      <td>Western Metropolitan</td>\n",
       "      <td>6543.0</td>\n",
       "    </tr>\n",
       "    <tr>\n",
       "      <td>23677</td>\n",
       "      <td>Yarraville</td>\n",
       "      <td>33 Freeman St</td>\n",
       "      <td>4.0</td>\n",
       "      <td>h</td>\n",
       "      <td>1050000.0</td>\n",
       "      <td>VB</td>\n",
       "      <td>Village</td>\n",
       "      <td>26-08-2017</td>\n",
       "      <td>6.3</td>\n",
       "      <td>3013.0</td>\n",
       "      <td>...</td>\n",
       "      <td>2.0</td>\n",
       "      <td>2.0</td>\n",
       "      <td>NaN</td>\n",
       "      <td>139.0</td>\n",
       "      <td>1950.0</td>\n",
       "      <td>NaN</td>\n",
       "      <td>-37.81829</td>\n",
       "      <td>144.87404</td>\n",
       "      <td>Western Metropolitan</td>\n",
       "      <td>6543.0</td>\n",
       "    </tr>\n",
       "  </tbody>\n",
       "</table>\n",
       "<p>23678 rows × 21 columns</p>\n",
       "</div>"
      ],
      "text/plain": [
       "             Suburb             Address  Rooms Type      Price Method  \\\n",
       "0        Abbotsford       68 Studley St    2.0    h        NaN     SS   \n",
       "1        Abbotsford        85 Turner St    2.0    h  1480000.0      S   \n",
       "2        Abbotsford     25 Bloomburg St    2.0    h  1035000.0      S   \n",
       "3        Abbotsford  18/659 Victoria St    3.0    u        NaN     VB   \n",
       "4        Abbotsford        5 Charles St    3.0    h  1465000.0     SP   \n",
       "...             ...                 ...    ...  ...        ...    ...   \n",
       "23673  Wyndham Vale     25 Clitheroe Dr    3.0    u        NaN     PN   \n",
       "23674  Wyndham Vale    19 Dalrymple Bvd    4.0    h        NaN      S   \n",
       "23675     Yallambie        17 Amaroo Wy    4.0    h  1100000.0      S   \n",
       "23676    Yarraville          6 Agnes St    4.0    h  1285000.0     SP   \n",
       "23677    Yarraville       33 Freeman St    4.0    h  1050000.0     VB   \n",
       "\n",
       "             SellerG        Date  Distance  Postcode  ...  Bathroom  Car  \\\n",
       "0             Jellis  03-09-2016       2.5    3067.0  ...       1.0  1.0   \n",
       "1             Biggin  03-12-2016       2.5    3067.0  ...       1.0  1.0   \n",
       "2             Biggin  04-02-2016       2.5    3067.0  ...       1.0  0.0   \n",
       "3             Rounds  04-02-2016       2.5    3067.0  ...       2.0  1.0   \n",
       "4             Biggin  04-03-2017       2.5    3067.0  ...       2.0  0.0   \n",
       "...              ...         ...       ...       ...  ...       ...  ...   \n",
       "23673      Harcourts  26-08-2017      27.2    3024.0  ...       1.0  0.0   \n",
       "23674  hockingstuart  26-08-2017      27.2    3024.0  ...       NaN  NaN   \n",
       "23675     Buckingham  26-08-2017      12.7    3085.0  ...       3.0  2.0   \n",
       "23676        Village  26-08-2017       6.3    3013.0  ...       1.0  1.0   \n",
       "23677        Village  26-08-2017       6.3    3013.0  ...       2.0  2.0   \n",
       "\n",
       "       Landsize  BuildingArea  YearBuilt  CouncilArea Lattitude  Longtitude  \\\n",
       "0         126.0           NaN        NaN        Yarra -37.80140   144.99580   \n",
       "1         202.0           NaN        NaN        Yarra -37.79960   144.99840   \n",
       "2         156.0          79.0     1900.0        Yarra -37.80790   144.99340   \n",
       "3           0.0           NaN        NaN        Yarra -37.81140   145.01160   \n",
       "4         134.0         150.0     1900.0        Yarra -37.80930   144.99440   \n",
       "...         ...           ...        ...          ...       ...         ...   \n",
       "23673     552.0         119.0     1990.0          NaN -37.90032   144.61839   \n",
       "23674       NaN           NaN        NaN          NaN -37.87882   144.60184   \n",
       "23675       NaN           NaN        NaN          NaN -37.72006   145.10547   \n",
       "23676     362.0         112.0     1920.0          NaN -37.81188   144.88449   \n",
       "23677       NaN         139.0     1950.0          NaN -37.81829   144.87404   \n",
       "\n",
       "                  Regionname Propertycount  \n",
       "0      Northern Metropolitan        4019.0  \n",
       "1      Northern Metropolitan        4019.0  \n",
       "2      Northern Metropolitan        4019.0  \n",
       "3      Northern Metropolitan        4019.0  \n",
       "4      Northern Metropolitan        4019.0  \n",
       "...                      ...           ...  \n",
       "23673   Western Metropolitan        5262.0  \n",
       "23674   Western Metropolitan        5262.0  \n",
       "23675  Northern Metropolitan        1369.0  \n",
       "23676   Western Metropolitan        6543.0  \n",
       "23677   Western Metropolitan        6543.0  \n",
       "\n",
       "[23678 rows x 21 columns]"
      ]
     },
     "execution_count": 159,
     "metadata": {},
     "output_type": "execute_result"
    }
   ],
   "source": [
    "#Loading the Melbourne house prices dataset\n",
    "data=pd.read_csv('C:/Users/Biranchi/Desktop/Internship/Assignment/Python 09.10.20/data.csv')\n",
    "data"
   ]
  },
  {
   "cell_type": "code",
   "execution_count": 160,
   "metadata": {},
   "outputs": [
    {
     "name": "stdout",
     "output_type": "stream",
     "text": [
      "Shape of Dataset:  (23678, 21)\n"
     ]
    }
   ],
   "source": [
    "#1.\n",
    "print('Shape of Dataset: ',data.shape)"
   ]
  },
  {
   "cell_type": "markdown",
   "metadata": {},
   "source": [
    "1.The Dataset Contains 23678 rows and 21 columns"
   ]
  },
  {
   "cell_type": "code",
   "execution_count": 161,
   "metadata": {},
   "outputs": [
    {
     "data": {
      "text/plain": [
       "Suburb            object\n",
       "Address           object\n",
       "Rooms            float64\n",
       "Type              object\n",
       "Price            float64\n",
       "Method            object\n",
       "SellerG           object\n",
       "Date              object\n",
       "Distance         float64\n",
       "Postcode         float64\n",
       "Bedroom2         float64\n",
       "Bathroom         float64\n",
       "Car              float64\n",
       "Landsize         float64\n",
       "BuildingArea     float64\n",
       "YearBuilt        float64\n",
       "CouncilArea       object\n",
       "Lattitude        float64\n",
       "Longtitude       float64\n",
       "Regionname        object\n",
       "Propertycount    float64\n",
       "dtype: object"
      ]
     },
     "execution_count": 161,
     "metadata": {},
     "output_type": "execute_result"
    }
   ],
   "source": [
    "#2.Data type of Each column\n",
    "data.dtypes"
   ]
  },
  {
   "cell_type": "code",
   "execution_count": 162,
   "metadata": {},
   "outputs": [
    {
     "name": "stderr",
     "output_type": "stream",
     "text": [
      "C:\\Users\\Biranchi\\Anaconda3\\lib\\site-packages\\ipykernel_launcher.py:2: FutureWarning: Series.nonzero() is deprecated and will be removed in a future version.Use Series.to_numpy().nonzero() instead\n",
      "  \n"
     ]
    },
    {
     "data": {
      "text/plain": [
       "(array([   31,  1145,  1348,  2119,  3277,  3288,  3745,  3752,  3798,\n",
       "         3855,  4089,  4096,  4164,  4218,  4222,  4326,  4649,  4897,\n",
       "         4942,  5052,  5223,  5265,  5328,  5331,  5383,  5405,  5625,\n",
       "         5741,  5952,  6125,  6133,  6140,  6143,  6251,  6326,  6406,\n",
       "         6446,  6703,  6717,  6853,  6921,  7086,  7261,  7348,  7596,\n",
       "         7743,  7759,  7762,  7775,  8054,  8095,  8118,  8190,  8409,\n",
       "         8501,  8652,  8816,  8974,  9098,  9210,  9232,  9450,  9455,\n",
       "         9586,  9761,  9888,  9894, 10009, 10125, 10390, 10475, 10738,\n",
       "        10952, 11334, 11348, 11552, 11755, 12087, 12441, 12559, 12997,\n",
       "        13066, 13381, 13647, 13725, 14009, 14471, 14644, 14963, 15094,\n",
       "        15214, 15771, 16044, 16252, 16563, 16655, 16848, 17111, 17246,\n",
       "        17611, 17741, 18077, 18148, 18251, 18374, 18476, 18547, 18671,\n",
       "        18742, 18884, 19001, 19287, 19641, 19949, 20087, 20422, 20496,\n",
       "        20695, 20838, 20880, 21055, 21220, 21343, 21602, 22003, 22109,\n",
       "        22288, 22704, 22918, 23153, 23341], dtype=int64),)"
      ]
     },
     "execution_count": 162,
     "metadata": {},
     "output_type": "execute_result"
    }
   ],
   "source": [
    "#3.\n",
    "empty_row_index=pd.isna(data).all(axis=1).nonzero()\n",
    "empty_row_index"
   ]
  },
  {
   "cell_type": "code",
   "execution_count": 163,
   "metadata": {},
   "outputs": [
    {
     "name": "stdout",
     "output_type": "stream",
     "text": [
      "Total number of Empty row : 131\n",
      "Percentage of Empty rows in the dataset:  0.553 %\n"
     ]
    }
   ],
   "source": [
    "#4.\n",
    "print(\"Total number of Empty row :\",len(empty_row_index[0]))\n",
    "print(\"Percentage of Empty rows in the dataset: \",round(len(empty_row_index[0])/23678,5)*100,\"%\")"
   ]
  },
  {
   "cell_type": "code",
   "execution_count": 164,
   "metadata": {},
   "outputs": [
    {
     "name": "stdout",
     "output_type": "stream",
     "text": [
      "Shape of Dataset Now:  (23547, 21)\n"
     ]
    }
   ],
   "source": [
    "#Droping the empty rows\n",
    "data.dropna(how='all',axis=0,inplace=True)\n",
    "print(\"Shape of Dataset Now: \",data.shape)"
   ]
  },
  {
   "cell_type": "code",
   "execution_count": 165,
   "metadata": {},
   "outputs": [
    {
     "data": {
      "text/plain": [
       "Index(['Price', 'Distance', 'Postcode', 'Bedroom2', 'Bathroom', 'Car',\n",
       "       'Landsize', 'BuildingArea', 'YearBuilt', 'CouncilArea', 'Lattitude',\n",
       "       'Longtitude', 'Regionname', 'Propertycount'],\n",
       "      dtype='object')"
      ]
     },
     "execution_count": 165,
     "metadata": {},
     "output_type": "execute_result"
    }
   ],
   "source": [
    "#5.\n",
    "data.columns[data.isna().any()]"
   ]
  },
  {
   "cell_type": "code",
   "execution_count": 166,
   "metadata": {},
   "outputs": [
    {
     "name": "stdout",
     "output_type": "stream",
     "text": [
      "Suburb               0\n",
      "Address              0\n",
      "Rooms                0\n",
      "Type                 0\n",
      "Price             5151\n",
      "Method               0\n",
      "SellerG              0\n",
      "Date                 0\n",
      "Distance             1\n",
      "Postcode             1\n",
      "Bedroom2          4481\n",
      "Bathroom          4484\n",
      "Car               4626\n",
      "Landsize          6137\n",
      "BuildingArea     13529\n",
      "YearBuilt        12007\n",
      "CouncilArea       7891\n",
      "Lattitude         4304\n",
      "Longtitude        4304\n",
      "Regionname           1\n",
      "Propertycount        1\n",
      "dtype: int64\n"
     ]
    }
   ],
   "source": [
    "#6.Showing culumnwise null values\n",
    "print(data.isna().sum())"
   ]
  },
  {
   "cell_type": "code",
   "execution_count": 167,
   "metadata": {},
   "outputs": [
    {
     "data": {
      "text/plain": [
       "Suburb            0.000000\n",
       "Address           0.000000\n",
       "Rooms             0.000000\n",
       "Type              0.000000\n",
       "Price            21.875398\n",
       "Method            0.000000\n",
       "SellerG           0.000000\n",
       "Date              0.000000\n",
       "Distance          0.004247\n",
       "Postcode          0.004247\n",
       "Bedroom2         19.030025\n",
       "Bathroom         19.042766\n",
       "Car              19.645815\n",
       "Landsize         26.062768\n",
       "BuildingArea     57.455302\n",
       "YearBuilt        50.991634\n",
       "CouncilArea      33.511700\n",
       "Lattitude        18.278337\n",
       "Longtitude       18.278337\n",
       "Regionname        0.004247\n",
       "Propertycount     0.004247\n",
       "dtype: float64"
      ]
     },
     "execution_count": 167,
     "metadata": {},
     "output_type": "execute_result"
    }
   ],
   "source": [
    "#Showing culumnwise null value percentage\n",
    "(data.isnull().sum()/len(data))*100"
   ]
  },
  {
   "cell_type": "code",
   "execution_count": 168,
   "metadata": {},
   "outputs": [
    {
     "name": "stderr",
     "output_type": "stream",
     "text": [
      "C:\\Users\\Biranchi\\Anaconda3\\lib\\site-packages\\ipykernel_launcher.py:2: FutureWarning: Series.nonzero() is deprecated and will be removed in a future version.Use Series.to_numpy().nonzero() instead\n",
      "  \n"
     ]
    },
    {
     "data": {
      "text/plain": [
       "(array([    0,     1,     3, ..., 23544, 23545, 23546], dtype=int64),)"
      ]
     },
     "execution_count": 168,
     "metadata": {},
     "output_type": "execute_result"
    }
   ],
   "source": [
    "#7.\n",
    "null_data_index=pd.isna(data).any(axis=1).nonzero()\n",
    "null_data_index"
   ]
  },
  {
   "cell_type": "code",
   "execution_count": 169,
   "metadata": {},
   "outputs": [
    {
     "data": {
      "text/plain": [
       "0        3\n",
       "1        2\n",
       "2        0\n",
       "3        3\n",
       "4        0\n",
       "        ..\n",
       "23673    2\n",
       "23674    8\n",
       "23675    4\n",
       "23676    1\n",
       "23677    2\n",
       "Length: 23547, dtype: int64"
      ]
     },
     "execution_count": 169,
     "metadata": {},
     "output_type": "execute_result"
    }
   ],
   "source": [
    "#8.Missing value in each row\n",
    "data.isnull().sum(axis=1)"
   ]
  },
  {
   "cell_type": "code",
   "execution_count": 170,
   "metadata": {},
   "outputs": [
    {
     "data": {
      "text/plain": [
       "0        14.285714\n",
       "1         9.523810\n",
       "2         0.000000\n",
       "3        14.285714\n",
       "4         0.000000\n",
       "           ...    \n",
       "23673     9.523810\n",
       "23674    38.095238\n",
       "23675    19.047619\n",
       "23676     4.761905\n",
       "23677     9.523810\n",
       "Length: 23547, dtype: float64"
      ]
     },
     "execution_count": 170,
     "metadata": {},
     "output_type": "execute_result"
    }
   ],
   "source": [
    "#Percentage of missing value in each row\n",
    "(data.isna().sum(axis=1)/data.shape[1])*100"
   ]
  },
  {
   "cell_type": "code",
   "execution_count": 171,
   "metadata": {},
   "outputs": [
    {
     "data": {
      "text/plain": [
       "Index(['BuildingArea', 'YearBuilt', 'CouncilArea'], dtype='object')"
      ]
     },
     "execution_count": 171,
     "metadata": {},
     "output_type": "execute_result"
    }
   ],
   "source": [
    "#9. Columns contain more than 30% of nan values\n",
    "Most_na=Data.columns[data.isna().mean()>.30]\n",
    "Most_na"
   ]
  },
  {
   "cell_type": "code",
   "execution_count": 172,
   "metadata": {},
   "outputs": [],
   "source": [
    "#Droping the columns having more than 30% of null values\n",
    "data.drop(Most_na,axis=1,inplace=True)"
   ]
  },
  {
   "cell_type": "code",
   "execution_count": 173,
   "metadata": {},
   "outputs": [
    {
     "data": {
      "text/plain": [
       "(23547, 18)"
      ]
     },
     "execution_count": 173,
     "metadata": {},
     "output_type": "execute_result"
    }
   ],
   "source": [
    "data.shape"
   ]
  },
  {
   "cell_type": "code",
   "execution_count": 174,
   "metadata": {},
   "outputs": [
    {
     "data": {
      "text/plain": [
       "Int64Index([   15,    16,    19,    21,    22,    27,    34,    35,    46,\n",
       "               47,\n",
       "            ...\n",
       "            23573, 23577, 23580, 23584, 23603, 23626, 23630, 23633, 23639,\n",
       "            23662],\n",
       "           dtype='int64', length=4278)"
      ]
     },
     "execution_count": 174,
     "metadata": {},
     "output_type": "execute_result"
    }
   ],
   "source": [
    "#10.\n",
    "MostNan_Row=data[data.isnull().sum(axis=1)>5].index\n",
    "MostNan_Row"
   ]
  },
  {
   "cell_type": "code",
   "execution_count": 175,
   "metadata": {},
   "outputs": [
    {
     "name": "stdout",
     "output_type": "stream",
     "text": [
      "Number of rows having nan values > 5 are : 4278\n",
      "Percentage of rows having nan values > 5 is : 18.17 %\n"
     ]
    }
   ],
   "source": [
    "print(\"Number of rows having nan values > 5 are :\",len(MostNan_Row))\n",
    "print(\"Percentage of rows having nan values > 5 is :\",round(len(MostNan_Row)/len(data)*100,2),\"%\")"
   ]
  },
  {
   "cell_type": "code",
   "execution_count": 176,
   "metadata": {},
   "outputs": [
    {
     "data": {
      "text/plain": [
       "(19269, 18)"
      ]
     },
     "execution_count": 176,
     "metadata": {},
     "output_type": "execute_result"
    }
   ],
   "source": [
    "#Droping the Rows \n",
    "data.drop(MostNan_Row,axis=0,inplace=True)\n",
    "data.shape"
   ]
  },
  {
   "cell_type": "code",
   "execution_count": 177,
   "metadata": {},
   "outputs": [
    {
     "data": {
      "text/html": [
       "<div>\n",
       "<style scoped>\n",
       "    .dataframe tbody tr th:only-of-type {\n",
       "        vertical-align: middle;\n",
       "    }\n",
       "\n",
       "    .dataframe tbody tr th {\n",
       "        vertical-align: top;\n",
       "    }\n",
       "\n",
       "    .dataframe thead th {\n",
       "        text-align: right;\n",
       "    }\n",
       "</style>\n",
       "<table border=\"1\" class=\"dataframe\">\n",
       "  <thead>\n",
       "    <tr style=\"text-align: right;\">\n",
       "      <th></th>\n",
       "      <th>Rooms</th>\n",
       "      <th>Price</th>\n",
       "      <th>Distance</th>\n",
       "      <th>Postcode</th>\n",
       "      <th>Bedroom2</th>\n",
       "      <th>Bathroom</th>\n",
       "      <th>Car</th>\n",
       "      <th>Landsize</th>\n",
       "      <th>Lattitude</th>\n",
       "      <th>Longtitude</th>\n",
       "      <th>Propertycount</th>\n",
       "    </tr>\n",
       "  </thead>\n",
       "  <tbody>\n",
       "    <tr>\n",
       "      <td>count</td>\n",
       "      <td>19269.000000</td>\n",
       "      <td>1.508600e+04</td>\n",
       "      <td>19269.000000</td>\n",
       "      <td>19269.000000</td>\n",
       "      <td>19066.000000</td>\n",
       "      <td>19063.000000</td>\n",
       "      <td>18921.000000</td>\n",
       "      <td>17410.000000</td>\n",
       "      <td>19243.000000</td>\n",
       "      <td>19243.000000</td>\n",
       "      <td>19269.000000</td>\n",
       "    </tr>\n",
       "    <tr>\n",
       "      <td>mean</td>\n",
       "      <td>2.973117</td>\n",
       "      <td>1.066695e+06</td>\n",
       "      <td>10.204365</td>\n",
       "      <td>3110.015777</td>\n",
       "      <td>2.951956</td>\n",
       "      <td>1.570897</td>\n",
       "      <td>1.626235</td>\n",
       "      <td>551.783458</td>\n",
       "      <td>-37.812434</td>\n",
       "      <td>145.000287</td>\n",
       "      <td>7490.249520</td>\n",
       "    </tr>\n",
       "    <tr>\n",
       "      <td>std</td>\n",
       "      <td>0.978969</td>\n",
       "      <td>6.389331e+05</td>\n",
       "      <td>6.065786</td>\n",
       "      <td>93.730487</td>\n",
       "      <td>0.996032</td>\n",
       "      <td>0.712684</td>\n",
       "      <td>0.974048</td>\n",
       "      <td>3544.288014</td>\n",
       "      <td>0.079926</td>\n",
       "      <td>0.106071</td>\n",
       "      <td>4319.566673</td>\n",
       "    </tr>\n",
       "    <tr>\n",
       "      <td>min</td>\n",
       "      <td>1.000000</td>\n",
       "      <td>8.500000e+04</td>\n",
       "      <td>0.000000</td>\n",
       "      <td>3000.000000</td>\n",
       "      <td>0.000000</td>\n",
       "      <td>0.000000</td>\n",
       "      <td>0.000000</td>\n",
       "      <td>0.000000</td>\n",
       "      <td>-38.184180</td>\n",
       "      <td>144.431620</td>\n",
       "      <td>129.000000</td>\n",
       "    </tr>\n",
       "    <tr>\n",
       "      <td>25%</td>\n",
       "      <td>2.000000</td>\n",
       "      <td>6.400000e+05</td>\n",
       "      <td>6.100000</td>\n",
       "      <td>3049.000000</td>\n",
       "      <td>2.000000</td>\n",
       "      <td>1.000000</td>\n",
       "      <td>1.000000</td>\n",
       "      <td>181.000000</td>\n",
       "      <td>-37.859300</td>\n",
       "      <td>144.939300</td>\n",
       "      <td>4442.000000</td>\n",
       "    </tr>\n",
       "    <tr>\n",
       "      <td>50%</td>\n",
       "      <td>3.000000</td>\n",
       "      <td>9.000000e+05</td>\n",
       "      <td>9.200000</td>\n",
       "      <td>3102.000000</td>\n",
       "      <td>3.000000</td>\n",
       "      <td>1.000000</td>\n",
       "      <td>2.000000</td>\n",
       "      <td>448.000000</td>\n",
       "      <td>-37.809700</td>\n",
       "      <td>145.004300</td>\n",
       "      <td>6567.000000</td>\n",
       "    </tr>\n",
       "    <tr>\n",
       "      <td>75%</td>\n",
       "      <td>4.000000</td>\n",
       "      <td>1.320000e+06</td>\n",
       "      <td>13.000000</td>\n",
       "      <td>3150.000000</td>\n",
       "      <td>4.000000</td>\n",
       "      <td>2.000000</td>\n",
       "      <td>2.000000</td>\n",
       "      <td>656.000000</td>\n",
       "      <td>-37.759800</td>\n",
       "      <td>145.063100</td>\n",
       "      <td>10331.000000</td>\n",
       "    </tr>\n",
       "    <tr>\n",
       "      <td>max</td>\n",
       "      <td>12.000000</td>\n",
       "      <td>9.000000e+06</td>\n",
       "      <td>48.100000</td>\n",
       "      <td>3977.000000</td>\n",
       "      <td>30.000000</td>\n",
       "      <td>12.000000</td>\n",
       "      <td>26.000000</td>\n",
       "      <td>433014.000000</td>\n",
       "      <td>-37.407580</td>\n",
       "      <td>145.526350</td>\n",
       "      <td>21650.000000</td>\n",
       "    </tr>\n",
       "  </tbody>\n",
       "</table>\n",
       "</div>"
      ],
      "text/plain": [
       "              Rooms         Price      Distance      Postcode      Bedroom2  \\\n",
       "count  19269.000000  1.508600e+04  19269.000000  19269.000000  19066.000000   \n",
       "mean       2.973117  1.066695e+06     10.204365   3110.015777      2.951956   \n",
       "std        0.978969  6.389331e+05      6.065786     93.730487      0.996032   \n",
       "min        1.000000  8.500000e+04      0.000000   3000.000000      0.000000   \n",
       "25%        2.000000  6.400000e+05      6.100000   3049.000000      2.000000   \n",
       "50%        3.000000  9.000000e+05      9.200000   3102.000000      3.000000   \n",
       "75%        4.000000  1.320000e+06     13.000000   3150.000000      4.000000   \n",
       "max       12.000000  9.000000e+06     48.100000   3977.000000     30.000000   \n",
       "\n",
       "           Bathroom           Car       Landsize     Lattitude    Longtitude  \\\n",
       "count  19063.000000  18921.000000   17410.000000  19243.000000  19243.000000   \n",
       "mean       1.570897      1.626235     551.783458    -37.812434    145.000287   \n",
       "std        0.712684      0.974048    3544.288014      0.079926      0.106071   \n",
       "min        0.000000      0.000000       0.000000    -38.184180    144.431620   \n",
       "25%        1.000000      1.000000     181.000000    -37.859300    144.939300   \n",
       "50%        1.000000      2.000000     448.000000    -37.809700    145.004300   \n",
       "75%        2.000000      2.000000     656.000000    -37.759800    145.063100   \n",
       "max       12.000000     26.000000  433014.000000    -37.407580    145.526350   \n",
       "\n",
       "       Propertycount  \n",
       "count   19269.000000  \n",
       "mean     7490.249520  \n",
       "std      4319.566673  \n",
       "min       129.000000  \n",
       "25%      4442.000000  \n",
       "50%      6567.000000  \n",
       "75%     10331.000000  \n",
       "max     21650.000000  "
      ]
     },
     "execution_count": 177,
     "metadata": {},
     "output_type": "execute_result"
    }
   ],
   "source": [
    "#11.\n",
    "data.describe()"
   ]
  },
  {
   "cell_type": "code",
   "execution_count": 179,
   "metadata": {},
   "outputs": [
    {
     "name": "stdout",
     "output_type": "stream",
     "text": [
      "<class 'pandas.core.frame.DataFrame'>\n",
      "Int64Index: 19269 entries, 0 to 23677\n",
      "Data columns (total 18 columns):\n",
      "Suburb           19269 non-null object\n",
      "Address          19269 non-null object\n",
      "Rooms            19269 non-null float64\n",
      "Type             19269 non-null object\n",
      "Price            15086 non-null float64\n",
      "Method           19269 non-null object\n",
      "SellerG          19269 non-null object\n",
      "Date             19269 non-null object\n",
      "Distance         19269 non-null float64\n",
      "Postcode         19269 non-null float64\n",
      "Bedroom2         19066 non-null float64\n",
      "Bathroom         19063 non-null float64\n",
      "Car              18921 non-null float64\n",
      "Landsize         17410 non-null float64\n",
      "Lattitude        19243 non-null float64\n",
      "Longtitude       19243 non-null float64\n",
      "Regionname       19269 non-null object\n",
      "Propertycount    19269 non-null float64\n",
      "dtypes: float64(11), object(7)\n",
      "memory usage: 2.8+ MB\n"
     ]
    }
   ],
   "source": [
    "data.info()"
   ]
  },
  {
   "cell_type": "code",
   "execution_count": null,
   "metadata": {},
   "outputs": [],
   "source": []
  }
 ],
 "metadata": {
  "kernelspec": {
   "display_name": "Python 3",
   "language": "python",
   "name": "python3"
  },
  "language_info": {
   "codemirror_mode": {
    "name": "ipython",
    "version": 3
   },
   "file_extension": ".py",
   "mimetype": "text/x-python",
   "name": "python",
   "nbconvert_exporter": "python",
   "pygments_lexer": "ipython3",
   "version": "3.7.4"
  }
 },
 "nbformat": 4,
 "nbformat_minor": 2
}
