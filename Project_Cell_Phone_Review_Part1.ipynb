{
 "cells": [
  {
   "cell_type": "code",
   "execution_count": 1,
   "metadata": {},
   "outputs": [],
   "source": [
    "import pandas as pd"
   ]
  },
  {
   "cell_type": "code",
   "execution_count": 2,
   "metadata": {},
   "outputs": [
    {
     "data": {
      "text/html": [
       "<div>\n",
       "<style scoped>\n",
       "    .dataframe tbody tr th:only-of-type {\n",
       "        vertical-align: middle;\n",
       "    }\n",
       "\n",
       "    .dataframe tbody tr th {\n",
       "        vertical-align: top;\n",
       "    }\n",
       "\n",
       "    .dataframe thead th {\n",
       "        text-align: right;\n",
       "    }\n",
       "</style>\n",
       "<table border=\"1\" class=\"dataframe\">\n",
       "  <thead>\n",
       "    <tr style=\"text-align: right;\">\n",
       "      <th></th>\n",
       "      <th>Rating</th>\n",
       "      <th>Rev_verify</th>\n",
       "      <th>Review_Date</th>\n",
       "      <th>IC</th>\n",
       "      <th>Prod_meta</th>\n",
       "      <th>Reviewer_Name</th>\n",
       "      <th>Review</th>\n",
       "      <th>Rev_summ</th>\n",
       "      <th>Review_timestamp</th>\n",
       "      <th>Useful</th>\n",
       "      <th>Prod_img</th>\n",
       "    </tr>\n",
       "  </thead>\n",
       "  <tbody>\n",
       "    <tr>\n",
       "      <td>0</td>\n",
       "      <td>5</td>\n",
       "      <td>True</td>\n",
       "      <td>09 1, 2015</td>\n",
       "      <td>B009XD5TPQ</td>\n",
       "      <td>None</td>\n",
       "      <td>Sunny  Zoeller</td>\n",
       "      <td>Bought it for my husband. He's very happy with it</td>\n",
       "      <td>He's very happy with</td>\n",
       "      <td>1441065600</td>\n",
       "      <td>None</td>\n",
       "      <td>None</td>\n",
       "    </tr>\n",
       "    <tr>\n",
       "      <td>1</td>\n",
       "      <td>5</td>\n",
       "      <td>True</td>\n",
       "      <td>01 9, 2016</td>\n",
       "      <td>B016MF3P3K</td>\n",
       "      <td>None</td>\n",
       "      <td>Denise Lesley</td>\n",
       "      <td>Great screen protector.  Doesn't even seem as ...</td>\n",
       "      <td>Five Stars</td>\n",
       "      <td>1452297600</td>\n",
       "      <td>None</td>\n",
       "      <td>None</td>\n",
       "    </tr>\n",
       "    <tr>\n",
       "      <td>2</td>\n",
       "      <td>5</td>\n",
       "      <td>True</td>\n",
       "      <td>04 21, 2013</td>\n",
       "      <td>B008DC8N5G</td>\n",
       "      <td>None</td>\n",
       "      <td>Emir</td>\n",
       "      <td>Saved me lots of money! it's not gorilla glass...</td>\n",
       "      <td>As long as you know how to put it on!</td>\n",
       "      <td>1366502400</td>\n",
       "      <td>None</td>\n",
       "      <td>None</td>\n",
       "    </tr>\n",
       "    <tr>\n",
       "      <td>3</td>\n",
       "      <td>3</td>\n",
       "      <td>True</td>\n",
       "      <td>02 27, 2013</td>\n",
       "      <td>B0089CH3TM</td>\n",
       "      <td>{'Color:': ' Green'}</td>\n",
       "      <td>Alyse</td>\n",
       "      <td>The material and fit is very nice, but the col...</td>\n",
       "      <td>Good case overall</td>\n",
       "      <td>1361923200</td>\n",
       "      <td>3</td>\n",
       "      <td>None</td>\n",
       "    </tr>\n",
       "    <tr>\n",
       "      <td>4</td>\n",
       "      <td>4</td>\n",
       "      <td>True</td>\n",
       "      <td>12 19, 2013</td>\n",
       "      <td>B00AKZWGAC</td>\n",
       "      <td>None</td>\n",
       "      <td>TechGuy</td>\n",
       "      <td>This last me about 3 days till i have to charg...</td>\n",
       "      <td>Awesome Battery</td>\n",
       "      <td>1387411200</td>\n",
       "      <td>None</td>\n",
       "      <td>None</td>\n",
       "    </tr>\n",
       "    <tr>\n",
       "      <td>...</td>\n",
       "      <td>...</td>\n",
       "      <td>...</td>\n",
       "      <td>...</td>\n",
       "      <td>...</td>\n",
       "      <td>...</td>\n",
       "      <td>...</td>\n",
       "      <td>...</td>\n",
       "      <td>...</td>\n",
       "      <td>...</td>\n",
       "      <td>...</td>\n",
       "      <td>...</td>\n",
       "    </tr>\n",
       "    <tr>\n",
       "      <td>760445</td>\n",
       "      <td>4</td>\n",
       "      <td>False</td>\n",
       "      <td>07 12, 2014</td>\n",
       "      <td>B00C3V9M8A</td>\n",
       "      <td>None</td>\n",
       "      <td>momahjoub</td>\n",
       "      <td>Very good</td>\n",
       "      <td>Four Stars</td>\n",
       "      <td>1405123200</td>\n",
       "      <td>None</td>\n",
       "      <td>None</td>\n",
       "    </tr>\n",
       "    <tr>\n",
       "      <td>760446</td>\n",
       "      <td>5</td>\n",
       "      <td>False</td>\n",
       "      <td>07 13, 2016</td>\n",
       "      <td>B0178BYS24</td>\n",
       "      <td>None</td>\n",
       "      <td>Cindy</td>\n",
       "      <td>My name is Cynthia Beard and I believe that th...</td>\n",
       "      <td>... believe that the Samsung Galaxy car mount ...</td>\n",
       "      <td>1468368000</td>\n",
       "      <td>None</td>\n",
       "      <td>None</td>\n",
       "    </tr>\n",
       "    <tr>\n",
       "      <td>760447</td>\n",
       "      <td>4</td>\n",
       "      <td>True</td>\n",
       "      <td>07 23, 2015</td>\n",
       "      <td>B009KY47CE</td>\n",
       "      <td>None</td>\n",
       "      <td>zzrnam11</td>\n",
       "      <td>This iphone case is very durable and long last...</td>\n",
       "      <td>I LOVE THIS</td>\n",
       "      <td>1437609600</td>\n",
       "      <td>None</td>\n",
       "      <td>None</td>\n",
       "    </tr>\n",
       "    <tr>\n",
       "      <td>760448</td>\n",
       "      <td>5</td>\n",
       "      <td>True</td>\n",
       "      <td>12 14, 2015</td>\n",
       "      <td>B00X60AYDY</td>\n",
       "      <td>{'Style:': ' 6-in-1 Silver'}</td>\n",
       "      <td>ACER</td>\n",
       "      <td>great</td>\n",
       "      <td>Five Stars</td>\n",
       "      <td>1450051200</td>\n",
       "      <td>None</td>\n",
       "      <td>None</td>\n",
       "    </tr>\n",
       "    <tr>\n",
       "      <td>760449</td>\n",
       "      <td>5</td>\n",
       "      <td>True</td>\n",
       "      <td>02 24, 2016</td>\n",
       "      <td>B00QLD3YTO</td>\n",
       "      <td>None</td>\n",
       "      <td>Toubi Chanthavong</td>\n",
       "      <td>So so, it did not look like the picture advert...</td>\n",
       "      <td>Front cam has hole.</td>\n",
       "      <td>1456272000</td>\n",
       "      <td>None</td>\n",
       "      <td>None</td>\n",
       "    </tr>\n",
       "  </tbody>\n",
       "</table>\n",
       "<p>760450 rows × 11 columns</p>\n",
       "</div>"
      ],
      "text/plain": [
       "        Rating  Rev_verify  Review_Date          IC  \\\n",
       "0            5        True   09 1, 2015  B009XD5TPQ   \n",
       "1            5        True   01 9, 2016  B016MF3P3K   \n",
       "2            5        True  04 21, 2013  B008DC8N5G   \n",
       "3            3        True  02 27, 2013  B0089CH3TM   \n",
       "4            4        True  12 19, 2013  B00AKZWGAC   \n",
       "...        ...         ...          ...         ...   \n",
       "760445       4       False  07 12, 2014  B00C3V9M8A   \n",
       "760446       5       False  07 13, 2016  B0178BYS24   \n",
       "760447       4        True  07 23, 2015  B009KY47CE   \n",
       "760448       5        True  12 14, 2015  B00X60AYDY   \n",
       "760449       5        True  02 24, 2016  B00QLD3YTO   \n",
       "\n",
       "                           Prod_meta      Reviewer_Name  \\\n",
       "0                               None     Sunny  Zoeller   \n",
       "1                               None      Denise Lesley   \n",
       "2                               None               Emir   \n",
       "3               {'Color:': ' Green'}              Alyse   \n",
       "4                               None            TechGuy   \n",
       "...                              ...                ...   \n",
       "760445                          None          momahjoub   \n",
       "760446                          None              Cindy   \n",
       "760447                          None           zzrnam11   \n",
       "760448  {'Style:': ' 6-in-1 Silver'}               ACER   \n",
       "760449                          None  Toubi Chanthavong   \n",
       "\n",
       "                                                   Review  \\\n",
       "0       Bought it for my husband. He's very happy with it   \n",
       "1       Great screen protector.  Doesn't even seem as ...   \n",
       "2       Saved me lots of money! it's not gorilla glass...   \n",
       "3       The material and fit is very nice, but the col...   \n",
       "4       This last me about 3 days till i have to charg...   \n",
       "...                                                   ...   \n",
       "760445                                          Very good   \n",
       "760446  My name is Cynthia Beard and I believe that th...   \n",
       "760447  This iphone case is very durable and long last...   \n",
       "760448                                              great   \n",
       "760449  So so, it did not look like the picture advert...   \n",
       "\n",
       "                                                 Rev_summ  Review_timestamp  \\\n",
       "0                                    He's very happy with        1441065600   \n",
       "1                                              Five Stars        1452297600   \n",
       "2                   As long as you know how to put it on!        1366502400   \n",
       "3                                       Good case overall        1361923200   \n",
       "4                                         Awesome Battery        1387411200   \n",
       "...                                                   ...               ...   \n",
       "760445                                         Four Stars        1405123200   \n",
       "760446  ... believe that the Samsung Galaxy car mount ...        1468368000   \n",
       "760447                                        I LOVE THIS        1437609600   \n",
       "760448                                         Five Stars        1450051200   \n",
       "760449                                Front cam has hole.        1456272000   \n",
       "\n",
       "       Useful Prod_img  \n",
       "0        None     None  \n",
       "1        None     None  \n",
       "2        None     None  \n",
       "3           3     None  \n",
       "4        None     None  \n",
       "...       ...      ...  \n",
       "760445   None     None  \n",
       "760446   None     None  \n",
       "760447   None     None  \n",
       "760448   None     None  \n",
       "760449   None     None  \n",
       "\n",
       "[760450 rows x 11 columns]"
      ]
     },
     "execution_count": 2,
     "metadata": {},
     "output_type": "execute_result"
    }
   ],
   "source": [
    "#Reading the json file\n",
    "data=pd.read_json(\"C:\\\\Users\\\\Biranchi\\\\Desktop\\\\Internship\\\\Projects\\\\Project_Cell_phone_review\\\\Cell_Phones_and_Accessories.json\")\n",
    "data "
   ]
  },
  {
   "cell_type": "markdown",
   "metadata": {},
   "source": [
    "# Data Preprocessing"
   ]
  },
  {
   "cell_type": "markdown",
   "metadata": {},
   "source": [
    "Exploratory Data Analysis"
   ]
  },
  {
   "cell_type": "code",
   "execution_count": 6,
   "metadata": {},
   "outputs": [
    {
     "name": "stdout",
     "output_type": "stream",
     "text": [
      "Shape of Dataset:  (760450, 11)\n"
     ]
    }
   ],
   "source": [
    "print(\"Shape of Dataset: \",data.shape)"
   ]
  },
  {
   "cell_type": "code",
   "execution_count": 7,
   "metadata": {},
   "outputs": [
    {
     "name": "stdout",
     "output_type": "stream",
     "text": [
      "<class 'pandas.core.frame.DataFrame'>\n",
      "Int64Index: 760450 entries, 0 to 760449\n",
      "Data columns (total 11 columns):\n",
      "Rating              760450 non-null int64\n",
      "Rev_verify          760450 non-null bool\n",
      "Review_Date         760450 non-null object\n",
      "IC                  760450 non-null object\n",
      "Prod_meta           407826 non-null object\n",
      "Reviewer_Name       760359 non-null object\n",
      "Review              759920 non-null object\n",
      "Rev_summ            760095 non-null object\n",
      "Review_timestamp    760450 non-null int64\n",
      "Useful              62200 non-null object\n",
      "Prod_img            18194 non-null object\n",
      "dtypes: bool(1), int64(2), object(8)\n",
      "memory usage: 64.5+ MB\n"
     ]
    }
   ],
   "source": [
    "data.info()"
   ]
  },
  {
   "cell_type": "code",
   "execution_count": 8,
   "metadata": {},
   "outputs": [
    {
     "name": "stdout",
     "output_type": "stream",
     "text": [
      "              Rating  Review_timestamp\n",
      "count  760450.000000      7.604500e+05\n",
      "mean        4.221357      1.440417e+09\n",
      "std         1.232186      4.563251e+07\n",
      "min         1.000000      1.035331e+09\n",
      "25%         4.000000      1.416355e+09\n",
      "50%         5.000000      1.444349e+09\n",
      "75%         5.000000      1.470442e+09\n",
      "max         5.000000      1.538438e+09\n"
     ]
    }
   ],
   "source": [
    "print(data.describe())"
   ]
  },
  {
   "cell_type": "code",
   "execution_count": 10,
   "metadata": {},
   "outputs": [
    {
     "name": "stdout",
     "output_type": "stream",
     "text": [
      "AxesSubplot(0.125,0.125;0.62x0.755)\n"
     ]
    },
    {
     "data": {
      "image/png": "[encoded data removed]",
      "text/plain": [
       "<Figure size 432x288 with 2 Axes>"
      ]
     },
     "metadata": {
      "needs_background": "light"
     },
     "output_type": "display_data"
    }
   ],
   "source": [
    "#Checking null values\n",
    "import matplotlib.pyplot as plt\n",
    "import seaborn as sns\n",
    "\n",
    "null_clms=data.isna()\n",
    "print(sns.heatmap(null_clms))"
   ]
  },
  {
   "cell_type": "code",
   "execution_count": 11,
   "metadata": {},
   "outputs": [
    {
     "data": {
      "text/plain": [
       "Rating                   0\n",
       "Rev_verify               0\n",
       "Review_Date              0\n",
       "IC                       0\n",
       "Prod_meta           352624\n",
       "Reviewer_Name           91\n",
       "Review                 530\n",
       "Rev_summ               355\n",
       "Review_timestamp         0\n",
       "Useful              698250\n",
       "Prod_img            742256\n",
       "dtype: int64"
      ]
     },
     "execution_count": 11,
     "metadata": {},
     "output_type": "execute_result"
    }
   ],
   "source": [
    "#featurewise total null values\n",
    "data.isna().sum()"
   ]
  },
  {
   "cell_type": "markdown",
   "metadata": {},
   "source": [
    "We perform topic modeling on Review so the columns with null values are not required by us so we drop those rows having null review and review_summ after joining the review and Rev_summ columns."
   ]
  },
  {
   "cell_type": "code",
   "execution_count": 20,
   "metadata": {},
   "outputs": [
    {
     "data": {
      "text/plain": [
       "Rating                   5\n",
       "Rev_verify               2\n",
       "Review_Date           4362\n",
       "IC                   48134\n",
       "Reviewer_Name       121464\n",
       "Review              637152\n",
       "Rev_summ            366617\n",
       "Review_timestamp      4362\n",
       "Useful                 386\n",
       "dtype: int64"
      ]
     },
     "execution_count": 20,
     "metadata": {},
     "output_type": "execute_result"
    }
   ],
   "source": [
    "#Cheking uniques values in the respective columns of the dataset\n",
    "\n",
    "#unique values can't be counted from prod_meta and prod_img columns of the dataset\n",
    "#as prod_meta & prod_img datatypes are unhashable datatypes.\n",
    "\n",
    "data2=data.drop(['Prod_meta','Prod_img'],axis=1)\n",
    "data2.nunique()"
   ]
  },
  {
   "cell_type": "markdown",
   "metadata": {},
   "source": [
    "Univariate and bivariate analysis"
   ]
  },
  {
   "cell_type": "markdown",
   "metadata": {},
   "source": [
    "Rating analysis"
   ]
  },
  {
   "cell_type": "code",
   "execution_count": 12,
   "metadata": {},
   "outputs": [
    {
     "data": {
      "text/plain": [
       "5    476637\n",
       "4    123961\n",
       "3     66391\n",
       "1     54993\n",
       "2     38468\n",
       "Name: Rating, dtype: int64"
      ]
     },
     "execution_count": 12,
     "metadata": {},
     "output_type": "execute_result"
    }
   ],
   "source": [
    "#Rating wise counts\n",
    "data.Rating.value_counts()"
   ]
  },
  {
   "cell_type": "code",
   "execution_count": 13,
   "metadata": {},
   "outputs": [
    {
     "name": "stdout",
     "output_type": "stream",
     "text": [
      "5 rating : 62.68 %\n",
      "4 rating : 16.3 %\n",
      "3 rating : 8.73 %\n",
      "2 rating : 5.06 %\n",
      "1 rating : 7.23 %\n"
     ]
    }
   ],
   "source": [
    "#Most of the products have reviewed 5 rating out of 5.\n",
    "#let see the percentages of Ratings\n",
    "print(\"5 rating :\",round(len(data[data['Rating']==5])/len(data['Rating']),4)*100,\"%\")\n",
    "print(\"4 rating :\",round(len(data[data['Rating']==4])/len(data['Rating']),4)*100,\"%\")\n",
    "print(\"3 rating :\",round(len(data[data['Rating']==3])/len(data['Rating']),4)*100,\"%\")\n",
    "print(\"2 rating :\",round(len(data[data['Rating']==2])/len(data['Rating']),4)*100,\"%\")\n",
    "print(\"1 rating :\",round(len(data[data['Rating']==1])/len(data['Rating']),4)*100,\"%\")"
   ]
  },
  {
   "cell_type": "code",
   "execution_count": 14,
   "metadata": {},
   "outputs": [
    {
     "data": {
      "text/plain": [
       "<matplotlib.axes._subplots.AxesSubplot at 0x1c2c41020c8>"
      ]
     },
     "execution_count": 14,
     "metadata": {},
     "output_type": "execute_result"
    },
    {
     "data": {
      "image/png": "[encoded data removed]",
      "text/plain": [
       "<Figure size 432x288 with 1 Axes>"
      ]
     },
     "metadata": {
      "needs_background": "light"
     },
     "output_type": "display_data"
    }
   ],
   "source": [
    "#Graphical representation of rating wise counts\n",
    "data.Rating.value_counts().plot.bar()"
   ]
  },
  {
   "cell_type": "markdown",
   "metadata": {},
   "source": [
    "Rev_verify"
   ]
  },
  {
   "cell_type": "code",
   "execution_count": 15,
   "metadata": {},
   "outputs": [
    {
     "data": {
      "text/plain": [
       "True     665454\n",
       "False     94996\n",
       "Name: Rev_verify, dtype: int64"
      ]
     },
     "execution_count": 15,
     "metadata": {},
     "output_type": "execute_result"
    }
   ],
   "source": [
    "#Rev_verify counts\n",
    "data.Rev_verify.value_counts()"
   ]
  },
  {
   "cell_type": "code",
   "execution_count": 16,
   "metadata": {},
   "outputs": [
    {
     "name": "stdout",
     "output_type": "stream",
     "text": [
      "Review Verified     : 87.51 %\n",
      "Review not Verified : 12.49 %\n"
     ]
    }
   ],
   "source": [
    "print(\"Review Verified     :\",round(len(data[data['Rev_verify']==True])/len(data['Rev_verify']),4)*100,\"%\")\n",
    "print(\"Review not Verified :\",round(len(data[data['Rev_verify']==False])/len(data['Rev_verify']),4)*100,\"%\")"
   ]
  },
  {
   "cell_type": "markdown",
   "metadata": {},
   "source": [
    "Most of the review i.e. 87.51% of review are verified."
   ]
  },
  {
   "cell_type": "code",
   "execution_count": 17,
   "metadata": {},
   "outputs": [
    {
     "data": {
      "text/plain": [
       "<matplotlib.axes._subplots.AxesSubplot at 0x1c2c40e8048>"
      ]
     },
     "execution_count": 17,
     "metadata": {},
     "output_type": "execute_result"
    },
    {
     "data": {
      "image/png": "[encoded data removed]",
      "text/plain": [
       "<Figure size 432x288 with 1 Axes>"
      ]
     },
     "metadata": {
      "needs_background": "light"
     },
     "output_type": "display_data"
    }
   ],
   "source": [
    "#Graphical representation of verified and not verified reviews\n",
    "data.Rev_verify.value_counts().plot.bar()"
   ]
  },
  {
   "cell_type": "markdown",
   "metadata": {},
   "source": [
    "Datewise rating analysis"
   ]
  },
  {
   "cell_type": "code",
   "execution_count": 26,
   "metadata": {},
   "outputs": [],
   "source": [
    "#Changing the dtype of Review_Date\n",
    "data['Review_Date']=pd.to_datetime(data['Review_Date'])"
   ]
  },
  {
   "cell_type": "code",
   "execution_count": 33,
   "metadata": {},
   "outputs": [
    {
     "data": {
      "text/html": [
       "<div>\n",
       "<style scoped>\n",
       "    .dataframe tbody tr th:only-of-type {\n",
       "        vertical-align: middle;\n",
       "    }\n",
       "\n",
       "    .dataframe tbody tr th {\n",
       "        vertical-align: top;\n",
       "    }\n",
       "\n",
       "    .dataframe thead th {\n",
       "        text-align: right;\n",
       "    }\n",
       "</style>\n",
       "<table border=\"1\" class=\"dataframe\">\n",
       "  <thead>\n",
       "    <tr style=\"text-align: right;\">\n",
       "      <th></th>\n",
       "      <th>Year</th>\n",
       "      <th>Month</th>\n",
       "      <th>Day</th>\n",
       "      <th>Rating</th>\n",
       "    </tr>\n",
       "  </thead>\n",
       "  <tbody>\n",
       "    <tr>\n",
       "      <td>0</td>\n",
       "      <td>2015</td>\n",
       "      <td>September</td>\n",
       "      <td>Tuesday</td>\n",
       "      <td>5</td>\n",
       "    </tr>\n",
       "    <tr>\n",
       "      <td>1</td>\n",
       "      <td>2016</td>\n",
       "      <td>January</td>\n",
       "      <td>Saturday</td>\n",
       "      <td>5</td>\n",
       "    </tr>\n",
       "    <tr>\n",
       "      <td>2</td>\n",
       "      <td>2013</td>\n",
       "      <td>April</td>\n",
       "      <td>Sunday</td>\n",
       "      <td>5</td>\n",
       "    </tr>\n",
       "    <tr>\n",
       "      <td>3</td>\n",
       "      <td>2013</td>\n",
       "      <td>February</td>\n",
       "      <td>Wednesday</td>\n",
       "      <td>3</td>\n",
       "    </tr>\n",
       "    <tr>\n",
       "      <td>4</td>\n",
       "      <td>2013</td>\n",
       "      <td>December</td>\n",
       "      <td>Thursday</td>\n",
       "      <td>4</td>\n",
       "    </tr>\n",
       "  </tbody>\n",
       "</table>\n",
       "</div>"
      ],
      "text/plain": [
       "   Year      Month        Day  Rating\n",
       "0  2015  September    Tuesday       5\n",
       "1  2016    January   Saturday       5\n",
       "2  2013      April     Sunday       5\n",
       "3  2013   February  Wednesday       3\n",
       "4  2013   December   Thursday       4"
      ]
     },
     "execution_count": 33,
     "metadata": {},
     "output_type": "execute_result"
    }
   ],
   "source": [
    "#Analysing Year and Monthwise product ratings\n",
    "df_Review_date=pd.DataFrame()\n",
    "df_Review_date['Year']=data.Review_Date.dt.year\n",
    "df_Review_date['Month']=data.Review_Date.dt.month_name()\n",
    "df_Review_date['Day']=data.Review_Date.dt.day_name()\n",
    "df_Review_date['Rating']=data.Rating\n",
    "df_Review_date.head()"
   ]
  },
  {
   "cell_type": "code",
   "execution_count": 35,
   "metadata": {},
   "outputs": [
    {
     "data": {
      "text/plain": [
       "2015    217807\n",
       "2016    210372\n",
       "2014    124959\n",
       "2017     89620\n",
       "2013     58408\n",
       "2018     28270\n",
       "2012     19004\n",
       "2011      6131\n",
       "2010      2344\n",
       "2009      1648\n",
       "2008      1110\n",
       "2007       449\n",
       "2006       209\n",
       "2005        82\n",
       "2004        26\n",
       "2003         9\n",
       "2002         2\n",
       "Name: Year, dtype: int64"
      ]
     },
     "execution_count": 35,
     "metadata": {},
     "output_type": "execute_result"
    }
   ],
   "source": [
    "#Yearwise rating\n",
    "df_Review_date.Year.value_counts()"
   ]
  },
  {
   "cell_type": "code",
   "execution_count": 40,
   "metadata": {},
   "outputs": [
    {
     "data": {
      "text/plain": [
       "January      72514\n",
       "December     69155\n",
       "March        66567\n",
       "July         65851\n",
       "August       65212\n",
       "February     61779\n",
       "October      61029\n",
       "April        60629\n",
       "November     60409\n",
       "September    59896\n",
       "June         58818\n",
       "May          58591\n",
       "Name: Month, dtype: int64"
      ]
     },
     "execution_count": 40,
     "metadata": {},
     "output_type": "execute_result"
    }
   ],
   "source": [
    "#monthwise rating \n",
    "df_Review_date.Month.value_counts()"
   ]
  },
  {
   "cell_type": "code",
   "execution_count": 41,
   "metadata": {},
   "outputs": [
    {
     "data": {
      "text/plain": [
       "Monday       122183\n",
       "Tuesday      119626\n",
       "Wednesday    117079\n",
       "Thursday     112637\n",
       "Friday       104820\n",
       "Sunday        92967\n",
       "Saturday      91138\n",
       "Name: Day, dtype: int64"
      ]
     },
     "execution_count": 41,
     "metadata": {},
     "output_type": "execute_result"
    }
   ],
   "source": [
    "#Daywise rating\n",
    "df_Review_date.Day.value_counts()"
   ]
  },
  {
   "cell_type": "markdown",
   "metadata": {},
   "source": [
    "This is the Cell_Phone_review dataset of 2002 to 2018. Highest rating are given in the year of 2015"
   ]
  },
  {
   "cell_type": "markdown",
   "metadata": {},
   "source": [
    "IC feature analysis"
   ]
  },
  {
   "cell_type": "code",
   "execution_count": 45,
   "metadata": {},
   "outputs": [
    {
     "data": {
      "text/plain": [
       "B00VH88CJ0    1127\n",
       "B005NF5NTK    1106\n",
       "B019PV2I3G    1033\n",
       "B00X5RV14Y    1018\n",
       "B00P7N0320    1011\n",
       "              ... \n",
       "B01D2OCWFQ       1\n",
       "B00B37SR4U       1\n",
       "B0091959C0       1\n",
       "B00UKFT7DG       1\n",
       "B00NCK9WTA       1\n",
       "Name: IC, Length: 48134, dtype: int64"
      ]
     },
     "execution_count": 45,
     "metadata": {},
     "output_type": "execute_result"
    }
   ],
   "source": [
    "data.IC.value_counts()"
   ]
  },
  {
   "cell_type": "code",
   "execution_count": 46,
   "metadata": {},
   "outputs": [
    {
     "data": {
      "text/html": [
       "<div>\n",
       "<style scoped>\n",
       "    .dataframe tbody tr th:only-of-type {\n",
       "        vertical-align: middle;\n",
       "    }\n",
       "\n",
       "    .dataframe tbody tr th {\n",
       "        vertical-align: top;\n",
       "    }\n",
       "\n",
       "    .dataframe thead th {\n",
       "        text-align: right;\n",
       "    }\n",
       "</style>\n",
       "<table border=\"1\" class=\"dataframe\">\n",
       "  <thead>\n",
       "    <tr style=\"text-align: right;\">\n",
       "      <th></th>\n",
       "      <th>Rating</th>\n",
       "      <th>Rev_verify</th>\n",
       "      <th>Review_Date</th>\n",
       "      <th>IC</th>\n",
       "      <th>Prod_meta</th>\n",
       "      <th>Reviewer_Name</th>\n",
       "      <th>Review</th>\n",
       "      <th>Rev_summ</th>\n",
       "      <th>Review_timestamp</th>\n",
       "      <th>Useful</th>\n",
       "      <th>Prod_img</th>\n",
       "    </tr>\n",
       "  </thead>\n",
       "  <tbody>\n",
       "    <tr>\n",
       "      <td>334</td>\n",
       "      <td>3</td>\n",
       "      <td>True</td>\n",
       "      <td>2017-08-19</td>\n",
       "      <td>B00VH88CJ0</td>\n",
       "      <td>{'Color:': ' Black'}</td>\n",
       "      <td>truck guy</td>\n",
       "      <td>good car charger</td>\n",
       "      <td>Three Stars</td>\n",
       "      <td>1503100800</td>\n",
       "      <td>None</td>\n",
       "      <td>None</td>\n",
       "    </tr>\n",
       "    <tr>\n",
       "      <td>1175</td>\n",
       "      <td>5</td>\n",
       "      <td>True</td>\n",
       "      <td>2016-08-18</td>\n",
       "      <td>B00VH88CJ0</td>\n",
       "      <td>{'Color:': ' Black'}</td>\n",
       "      <td>Javier Ruiz</td>\n",
       "      <td>I love this charger. Like everything I have pu...</td>\n",
       "      <td>Another great Anker device!</td>\n",
       "      <td>1471478400</td>\n",
       "      <td>None</td>\n",
       "      <td>None</td>\n",
       "    </tr>\n",
       "    <tr>\n",
       "      <td>2897</td>\n",
       "      <td>5</td>\n",
       "      <td>True</td>\n",
       "      <td>2016-04-14</td>\n",
       "      <td>B00VH88CJ0</td>\n",
       "      <td>{'Color:': ' Black'}</td>\n",
       "      <td>H. Reyes</td>\n",
       "      <td>Anker is setting a new standard for usb device...</td>\n",
       "      <td>Works great,</td>\n",
       "      <td>1460592000</td>\n",
       "      <td>None</td>\n",
       "      <td>None</td>\n",
       "    </tr>\n",
       "    <tr>\n",
       "      <td>3814</td>\n",
       "      <td>5</td>\n",
       "      <td>True</td>\n",
       "      <td>2018-05-18</td>\n",
       "      <td>B00VH88CJ0</td>\n",
       "      <td>{'Color:': ' Black'}</td>\n",
       "      <td>Inkblots</td>\n",
       "      <td>Like other Anker products, a dependable and ef...</td>\n",
       "      <td>Excellent car charger</td>\n",
       "      <td>1526601600</td>\n",
       "      <td>None</td>\n",
       "      <td>None</td>\n",
       "    </tr>\n",
       "    <tr>\n",
       "      <td>3878</td>\n",
       "      <td>5</td>\n",
       "      <td>True</td>\n",
       "      <td>2018-07-03</td>\n",
       "      <td>B00VH88CJ0</td>\n",
       "      <td>{'Color:': ' Black'}</td>\n",
       "      <td>Lonnie</td>\n",
       "      <td>This charger is working great in my wife's car...</td>\n",
       "      <td>No complaints</td>\n",
       "      <td>1530576000</td>\n",
       "      <td>None</td>\n",
       "      <td>None</td>\n",
       "    </tr>\n",
       "    <tr>\n",
       "      <td>...</td>\n",
       "      <td>...</td>\n",
       "      <td>...</td>\n",
       "      <td>...</td>\n",
       "      <td>...</td>\n",
       "      <td>...</td>\n",
       "      <td>...</td>\n",
       "      <td>...</td>\n",
       "      <td>...</td>\n",
       "      <td>...</td>\n",
       "      <td>...</td>\n",
       "      <td>...</td>\n",
       "    </tr>\n",
       "    <tr>\n",
       "      <td>758405</td>\n",
       "      <td>5</td>\n",
       "      <td>True</td>\n",
       "      <td>2016-04-18</td>\n",
       "      <td>B00VH88CJ0</td>\n",
       "      <td>{'Color:': ' Black'}</td>\n",
       "      <td>RobertB</td>\n",
       "      <td>Works great in my car. Feels lighter than expe...</td>\n",
       "      <td>Works great in my car</td>\n",
       "      <td>1460937600</td>\n",
       "      <td>None</td>\n",
       "      <td>None</td>\n",
       "    </tr>\n",
       "    <tr>\n",
       "      <td>758578</td>\n",
       "      <td>5</td>\n",
       "      <td>True</td>\n",
       "      <td>2016-12-23</td>\n",
       "      <td>B00VH88CJ0</td>\n",
       "      <td>{'Color:': ' Black'}</td>\n",
       "      <td>shopper34</td>\n",
       "      <td>seller (or Anker) accidentally sent me one of ...</td>\n",
       "      <td>Happy Anker/seller customer!</td>\n",
       "      <td>1482451200</td>\n",
       "      <td>None</td>\n",
       "      <td>None</td>\n",
       "    </tr>\n",
       "    <tr>\n",
       "      <td>758821</td>\n",
       "      <td>5</td>\n",
       "      <td>True</td>\n",
       "      <td>2016-01-07</td>\n",
       "      <td>B00VH88CJ0</td>\n",
       "      <td>{'Color:': ' Black'}</td>\n",
       "      <td>Amazon Customer</td>\n",
       "      <td>Good!</td>\n",
       "      <td>Five Stars</td>\n",
       "      <td>1452124800</td>\n",
       "      <td>None</td>\n",
       "      <td>None</td>\n",
       "    </tr>\n",
       "    <tr>\n",
       "      <td>759382</td>\n",
       "      <td>5</td>\n",
       "      <td>True</td>\n",
       "      <td>2016-02-13</td>\n",
       "      <td>B00VH88CJ0</td>\n",
       "      <td>{'Color:': ' Black'}</td>\n",
       "      <td>BennyC.</td>\n",
       "      <td>Works as advertised.</td>\n",
       "      <td>Works Very Good.</td>\n",
       "      <td>1455321600</td>\n",
       "      <td>None</td>\n",
       "      <td>None</td>\n",
       "    </tr>\n",
       "    <tr>\n",
       "      <td>759669</td>\n",
       "      <td>5</td>\n",
       "      <td>True</td>\n",
       "      <td>2018-02-28</td>\n",
       "      <td>B00VH88CJ0</td>\n",
       "      <td>{'Color:': ' White'}</td>\n",
       "      <td>Honest Consumer</td>\n",
       "      <td>GREAT!!!</td>\n",
       "      <td>perfect</td>\n",
       "      <td>1519776000</td>\n",
       "      <td>None</td>\n",
       "      <td>None</td>\n",
       "    </tr>\n",
       "  </tbody>\n",
       "</table>\n",
       "<p>1127 rows × 11 columns</p>\n",
       "</div>"
      ],
      "text/plain": [
       "        Rating  Rev_verify Review_Date          IC             Prod_meta  \\\n",
       "334          3        True  2017-08-19  B00VH88CJ0  {'Color:': ' Black'}   \n",
       "1175         5        True  2016-08-18  B00VH88CJ0  {'Color:': ' Black'}   \n",
       "2897         5        True  2016-04-14  B00VH88CJ0  {'Color:': ' Black'}   \n",
       "3814         5        True  2018-05-18  B00VH88CJ0  {'Color:': ' Black'}   \n",
       "3878         5        True  2018-07-03  B00VH88CJ0  {'Color:': ' Black'}   \n",
       "...        ...         ...         ...         ...                   ...   \n",
       "758405       5        True  2016-04-18  B00VH88CJ0  {'Color:': ' Black'}   \n",
       "758578       5        True  2016-12-23  B00VH88CJ0  {'Color:': ' Black'}   \n",
       "758821       5        True  2016-01-07  B00VH88CJ0  {'Color:': ' Black'}   \n",
       "759382       5        True  2016-02-13  B00VH88CJ0  {'Color:': ' Black'}   \n",
       "759669       5        True  2018-02-28  B00VH88CJ0  {'Color:': ' White'}   \n",
       "\n",
       "          Reviewer_Name                                             Review  \\\n",
       "334           truck guy                                   good car charger   \n",
       "1175        Javier Ruiz  I love this charger. Like everything I have pu...   \n",
       "2897           H. Reyes  Anker is setting a new standard for usb device...   \n",
       "3814           Inkblots  Like other Anker products, a dependable and ef...   \n",
       "3878             Lonnie  This charger is working great in my wife's car...   \n",
       "...                 ...                                                ...   \n",
       "758405          RobertB  Works great in my car. Feels lighter than expe...   \n",
       "758578        shopper34  seller (or Anker) accidentally sent me one of ...   \n",
       "758821  Amazon Customer                                              Good!   \n",
       "759382          BennyC.                               Works as advertised.   \n",
       "759669  Honest Consumer                                           GREAT!!!   \n",
       "\n",
       "                            Rev_summ  Review_timestamp Useful Prod_img  \n",
       "334                      Three Stars        1503100800   None     None  \n",
       "1175     Another great Anker device!        1471478400   None     None  \n",
       "2897                    Works great,        1460592000   None     None  \n",
       "3814           Excellent car charger        1526601600   None     None  \n",
       "3878                   No complaints        1530576000   None     None  \n",
       "...                              ...               ...    ...      ...  \n",
       "758405         Works great in my car        1460937600   None     None  \n",
       "758578  Happy Anker/seller customer!        1482451200   None     None  \n",
       "758821                    Five Stars        1452124800   None     None  \n",
       "759382              Works Very Good.        1455321600   None     None  \n",
       "759669                       perfect        1519776000   None     None  \n",
       "\n",
       "[1127 rows x 11 columns]"
      ]
     },
     "execution_count": 46,
     "metadata": {},
     "output_type": "execute_result"
    }
   ],
   "source": [
    "#The Dataset contains 48134 unique cell phones reviews lets check some of them manually\n",
    "data[data['IC']=='B00VH88CJ0']"
   ]
  },
  {
   "cell_type": "code",
   "execution_count": 47,
   "metadata": {},
   "outputs": [
    {
     "data": {
      "text/html": [
       "<div>\n",
       "<style scoped>\n",
       "    .dataframe tbody tr th:only-of-type {\n",
       "        vertical-align: middle;\n",
       "    }\n",
       "\n",
       "    .dataframe tbody tr th {\n",
       "        vertical-align: top;\n",
       "    }\n",
       "\n",
       "    .dataframe thead th {\n",
       "        text-align: right;\n",
       "    }\n",
       "</style>\n",
       "<table border=\"1\" class=\"dataframe\">\n",
       "  <thead>\n",
       "    <tr style=\"text-align: right;\">\n",
       "      <th></th>\n",
       "      <th>Rating</th>\n",
       "      <th>Rev_verify</th>\n",
       "      <th>Review_Date</th>\n",
       "      <th>IC</th>\n",
       "      <th>Prod_meta</th>\n",
       "      <th>Reviewer_Name</th>\n",
       "      <th>Review</th>\n",
       "      <th>Rev_summ</th>\n",
       "      <th>Review_timestamp</th>\n",
       "      <th>Useful</th>\n",
       "      <th>Prod_img</th>\n",
       "    </tr>\n",
       "  </thead>\n",
       "  <tbody>\n",
       "    <tr>\n",
       "      <td>165</td>\n",
       "      <td>5</td>\n",
       "      <td>True</td>\n",
       "      <td>2015-12-30</td>\n",
       "      <td>B00X5RV14Y</td>\n",
       "      <td>{'Color:': ' Black'}</td>\n",
       "      <td>Ed M</td>\n",
       "      <td>Was able to charge my droid and my iPad at the...</td>\n",
       "      <td>Great device</td>\n",
       "      <td>1451433600</td>\n",
       "      <td>None</td>\n",
       "      <td>None</td>\n",
       "    </tr>\n",
       "    <tr>\n",
       "      <td>2725</td>\n",
       "      <td>5</td>\n",
       "      <td>True</td>\n",
       "      <td>2016-02-12</td>\n",
       "      <td>B00X5RV14Y</td>\n",
       "      <td>{'Color:': ' Black'}</td>\n",
       "      <td>A. Patel</td>\n",
       "      <td>This is one power house.\\nWorks well, easy to ...</td>\n",
       "      <td>easy to carry ( big but this is a 20000mah) ...</td>\n",
       "      <td>1455235200</td>\n",
       "      <td>None</td>\n",
       "      <td>None</td>\n",
       "    </tr>\n",
       "    <tr>\n",
       "      <td>2975</td>\n",
       "      <td>5</td>\n",
       "      <td>True</td>\n",
       "      <td>2015-12-13</td>\n",
       "      <td>B00X5RV14Y</td>\n",
       "      <td>{'Color:': ' Black'}</td>\n",
       "      <td>RK Medic</td>\n",
       "      <td>Great unit. Solid build quality. Very small bu...</td>\n",
       "      <td>Small and effective</td>\n",
       "      <td>1449964800</td>\n",
       "      <td>None</td>\n",
       "      <td>None</td>\n",
       "    </tr>\n",
       "    <tr>\n",
       "      <td>3633</td>\n",
       "      <td>5</td>\n",
       "      <td>True</td>\n",
       "      <td>2016-07-24</td>\n",
       "      <td>B00X5RV14Y</td>\n",
       "      <td>{'Color:': ' Black'}</td>\n",
       "      <td>Mr.</td>\n",
       "      <td>I love everything Anker</td>\n",
       "      <td>I love everything Anker</td>\n",
       "      <td>1469318400</td>\n",
       "      <td>None</td>\n",
       "      <td>None</td>\n",
       "    </tr>\n",
       "    <tr>\n",
       "      <td>4117</td>\n",
       "      <td>5</td>\n",
       "      <td>True</td>\n",
       "      <td>2016-10-14</td>\n",
       "      <td>B00X5RV14Y</td>\n",
       "      <td>{'Color:': ' Black'}</td>\n",
       "      <td>D. Bratman</td>\n",
       "      <td>I have found this unit to be absolutely indisp...</td>\n",
       "      <td>What a feeling of security</td>\n",
       "      <td>1476403200</td>\n",
       "      <td>None</td>\n",
       "      <td>None</td>\n",
       "    </tr>\n",
       "    <tr>\n",
       "      <td>...</td>\n",
       "      <td>...</td>\n",
       "      <td>...</td>\n",
       "      <td>...</td>\n",
       "      <td>...</td>\n",
       "      <td>...</td>\n",
       "      <td>...</td>\n",
       "      <td>...</td>\n",
       "      <td>...</td>\n",
       "      <td>...</td>\n",
       "      <td>...</td>\n",
       "      <td>...</td>\n",
       "    </tr>\n",
       "    <tr>\n",
       "      <td>756080</td>\n",
       "      <td>5</td>\n",
       "      <td>True</td>\n",
       "      <td>2016-08-29</td>\n",
       "      <td>B00X5RV14Y</td>\n",
       "      <td>{'Color:': ' Black'}</td>\n",
       "      <td>Danny Willoughby</td>\n",
       "      <td>This thing is amazing. It holds so much juice....</td>\n",
       "      <td>Love it</td>\n",
       "      <td>1472428800</td>\n",
       "      <td>None</td>\n",
       "      <td>None</td>\n",
       "    </tr>\n",
       "    <tr>\n",
       "      <td>757269</td>\n",
       "      <td>5</td>\n",
       "      <td>True</td>\n",
       "      <td>2018-06-11</td>\n",
       "      <td>B00X5RV14Y</td>\n",
       "      <td>{'Color:': ' Black'}</td>\n",
       "      <td>Amazon Customer</td>\n",
       "      <td>The pieces are good. Fast shipping. The handle...</td>\n",
       "      <td>Five Stars</td>\n",
       "      <td>1528675200</td>\n",
       "      <td>None</td>\n",
       "      <td>None</td>\n",
       "    </tr>\n",
       "    <tr>\n",
       "      <td>757341</td>\n",
       "      <td>5</td>\n",
       "      <td>True</td>\n",
       "      <td>2018-08-11</td>\n",
       "      <td>B00X5RV14Y</td>\n",
       "      <td>{'Color:': ' Black'}</td>\n",
       "      <td>AHMAD R S S ALHUWAIDI</td>\n",
       "      <td>Very good</td>\n",
       "      <td>Five Stars</td>\n",
       "      <td>1533945600</td>\n",
       "      <td>None</td>\n",
       "      <td>None</td>\n",
       "    </tr>\n",
       "    <tr>\n",
       "      <td>758135</td>\n",
       "      <td>5</td>\n",
       "      <td>True</td>\n",
       "      <td>2017-08-29</td>\n",
       "      <td>B00X5RV14Y</td>\n",
       "      <td>{'Color:': ' Black'}</td>\n",
       "      <td>wrknnwf</td>\n",
       "      <td>Got this after a recent power outage. Have use...</td>\n",
       "      <td>Got this after a recent power outage. Have use...</td>\n",
       "      <td>1503964800</td>\n",
       "      <td>None</td>\n",
       "      <td>None</td>\n",
       "    </tr>\n",
       "    <tr>\n",
       "      <td>758844</td>\n",
       "      <td>5</td>\n",
       "      <td>True</td>\n",
       "      <td>2016-07-06</td>\n",
       "      <td>B00X5RV14Y</td>\n",
       "      <td>{'Color:': ' Black'}</td>\n",
       "      <td>Reggae</td>\n",
       "      <td>Great item for any mobile charging need! A mus...</td>\n",
       "      <td>Gotta have one of these!</td>\n",
       "      <td>1467763200</td>\n",
       "      <td>None</td>\n",
       "      <td>None</td>\n",
       "    </tr>\n",
       "  </tbody>\n",
       "</table>\n",
       "<p>1018 rows × 11 columns</p>\n",
       "</div>"
      ],
      "text/plain": [
       "        Rating  Rev_verify Review_Date          IC             Prod_meta  \\\n",
       "165          5        True  2015-12-30  B00X5RV14Y  {'Color:': ' Black'}   \n",
       "2725         5        True  2016-02-12  B00X5RV14Y  {'Color:': ' Black'}   \n",
       "2975         5        True  2015-12-13  B00X5RV14Y  {'Color:': ' Black'}   \n",
       "3633         5        True  2016-07-24  B00X5RV14Y  {'Color:': ' Black'}   \n",
       "4117         5        True  2016-10-14  B00X5RV14Y  {'Color:': ' Black'}   \n",
       "...        ...         ...         ...         ...                   ...   \n",
       "756080       5        True  2016-08-29  B00X5RV14Y  {'Color:': ' Black'}   \n",
       "757269       5        True  2018-06-11  B00X5RV14Y  {'Color:': ' Black'}   \n",
       "757341       5        True  2018-08-11  B00X5RV14Y  {'Color:': ' Black'}   \n",
       "758135       5        True  2017-08-29  B00X5RV14Y  {'Color:': ' Black'}   \n",
       "758844       5        True  2016-07-06  B00X5RV14Y  {'Color:': ' Black'}   \n",
       "\n",
       "                Reviewer_Name  \\\n",
       "165                      Ed M   \n",
       "2725                 A. Patel   \n",
       "2975                 RK Medic   \n",
       "3633                      Mr.   \n",
       "4117               D. Bratman   \n",
       "...                       ...   \n",
       "756080       Danny Willoughby   \n",
       "757269        Amazon Customer   \n",
       "757341  AHMAD R S S ALHUWAIDI   \n",
       "758135                wrknnwf   \n",
       "758844                 Reggae   \n",
       "\n",
       "                                                   Review  \\\n",
       "165     Was able to charge my droid and my iPad at the...   \n",
       "2725    This is one power house.\\nWorks well, easy to ...   \n",
       "2975    Great unit. Solid build quality. Very small bu...   \n",
       "3633                              I love everything Anker   \n",
       "4117    I have found this unit to be absolutely indisp...   \n",
       "...                                                   ...   \n",
       "756080  This thing is amazing. It holds so much juice....   \n",
       "757269  The pieces are good. Fast shipping. The handle...   \n",
       "757341                                          Very good   \n",
       "758135  Got this after a recent power outage. Have use...   \n",
       "758844  Great item for any mobile charging need! A mus...   \n",
       "\n",
       "                                                 Rev_summ  Review_timestamp  \\\n",
       "165                                          Great device        1451433600   \n",
       "2725      easy to carry ( big but this is a 20000mah) ...        1455235200   \n",
       "2975                                  Small and effective        1449964800   \n",
       "3633                              I love everything Anker        1469318400   \n",
       "4117                           What a feeling of security        1476403200   \n",
       "...                                                   ...               ...   \n",
       "756080                                            Love it        1472428800   \n",
       "757269                                         Five Stars        1528675200   \n",
       "757341                                         Five Stars        1533945600   \n",
       "758135  Got this after a recent power outage. Have use...        1503964800   \n",
       "758844                           Gotta have one of these!        1467763200   \n",
       "\n",
       "       Useful Prod_img  \n",
       "165      None     None  \n",
       "2725     None     None  \n",
       "2975     None     None  \n",
       "3633     None     None  \n",
       "4117     None     None  \n",
       "...       ...      ...  \n",
       "756080   None     None  \n",
       "757269   None     None  \n",
       "757341   None     None  \n",
       "758135   None     None  \n",
       "758844   None     None  \n",
       "\n",
       "[1018 rows x 11 columns]"
      ]
     },
     "execution_count": 47,
     "metadata": {},
     "output_type": "execute_result"
    }
   ],
   "source": [
    "data[data['IC']=='B00X5RV14Y']"
   ]
  },
  {
   "cell_type": "markdown",
   "metadata": {},
   "source": [
    "Useful- Number of useful votes (upvotes) of the review"
   ]
  },
  {
   "cell_type": "code",
   "execution_count": 48,
   "metadata": {},
   "outputs": [
    {
     "data": {
      "text/plain": [
       "2        22532\n",
       "3        10770\n",
       "4         6072\n",
       "5         4003\n",
       "6         2891\n",
       "         ...  \n",
       "276          1\n",
       "153          1\n",
       "1,410        1\n",
       "331          1\n",
       "458          1\n",
       "Name: Useful, Length: 386, dtype: int64"
      ]
     },
     "execution_count": 48,
     "metadata": {},
     "output_type": "execute_result"
    }
   ],
   "source": [
    "#Cheking number of upvotes are given how many times\n",
    "data.Useful.value_counts()"
   ]
  },
  {
   "cell_type": "markdown",
   "metadata": {},
   "source": [
    "Feature Engineering"
   ]
  },
  {
   "cell_type": "markdown",
   "metadata": {},
   "source": [
    "Lets drop the columns of the dataset those are not required by us for our work."
   ]
  },
  {
   "cell_type": "code",
   "execution_count": 49,
   "metadata": {},
   "outputs": [
    {
     "data": {
      "text/html": [
       "<div>\n",
       "<style scoped>\n",
       "    .dataframe tbody tr th:only-of-type {\n",
       "        vertical-align: middle;\n",
       "    }\n",
       "\n",
       "    .dataframe tbody tr th {\n",
       "        vertical-align: top;\n",
       "    }\n",
       "\n",
       "    .dataframe thead th {\n",
       "        text-align: right;\n",
       "    }\n",
       "</style>\n",
       "<table border=\"1\" class=\"dataframe\">\n",
       "  <thead>\n",
       "    <tr style=\"text-align: right;\">\n",
       "      <th></th>\n",
       "      <th>Rating</th>\n",
       "      <th>IC</th>\n",
       "      <th>Review</th>\n",
       "      <th>Rev_summ</th>\n",
       "    </tr>\n",
       "  </thead>\n",
       "  <tbody>\n",
       "    <tr>\n",
       "      <td>0</td>\n",
       "      <td>5</td>\n",
       "      <td>B009XD5TPQ</td>\n",
       "      <td>Bought it for my husband. He's very happy with it</td>\n",
       "      <td>He's very happy with</td>\n",
       "    </tr>\n",
       "    <tr>\n",
       "      <td>1</td>\n",
       "      <td>5</td>\n",
       "      <td>B016MF3P3K</td>\n",
       "      <td>Great screen protector.  Doesn't even seem as ...</td>\n",
       "      <td>Five Stars</td>\n",
       "    </tr>\n",
       "    <tr>\n",
       "      <td>2</td>\n",
       "      <td>5</td>\n",
       "      <td>B008DC8N5G</td>\n",
       "      <td>Saved me lots of money! it's not gorilla glass...</td>\n",
       "      <td>As long as you know how to put it on!</td>\n",
       "    </tr>\n",
       "    <tr>\n",
       "      <td>3</td>\n",
       "      <td>3</td>\n",
       "      <td>B0089CH3TM</td>\n",
       "      <td>The material and fit is very nice, but the col...</td>\n",
       "      <td>Good case overall</td>\n",
       "    </tr>\n",
       "    <tr>\n",
       "      <td>4</td>\n",
       "      <td>4</td>\n",
       "      <td>B00AKZWGAC</td>\n",
       "      <td>This last me about 3 days till i have to charg...</td>\n",
       "      <td>Awesome Battery</td>\n",
       "    </tr>\n",
       "  </tbody>\n",
       "</table>\n",
       "</div>"
      ],
      "text/plain": [
       "   Rating          IC                                             Review  \\\n",
       "0       5  B009XD5TPQ  Bought it for my husband. He's very happy with it   \n",
       "1       5  B016MF3P3K  Great screen protector.  Doesn't even seem as ...   \n",
       "2       5  B008DC8N5G  Saved me lots of money! it's not gorilla glass...   \n",
       "3       3  B0089CH3TM  The material and fit is very nice, but the col...   \n",
       "4       4  B00AKZWGAC  This last me about 3 days till i have to charg...   \n",
       "\n",
       "                                Rev_summ  \n",
       "0                   He's very happy with  \n",
       "1                             Five Stars  \n",
       "2  As long as you know how to put it on!  \n",
       "3                      Good case overall  \n",
       "4                        Awesome Battery  "
      ]
     },
     "execution_count": 49,
     "metadata": {},
     "output_type": "execute_result"
    }
   ],
   "source": [
    "Data=data.drop(['Rev_verify','Review_Date','Prod_meta','Reviewer_Name','Review_timestamp','Useful','Prod_img'],axis=1)\n",
    "Data.head()"
   ]
  },
  {
   "cell_type": "code",
   "execution_count": 54,
   "metadata": {},
   "outputs": [
    {
     "data": {
      "text/html": [
       "<div>\n",
       "<style scoped>\n",
       "    .dataframe tbody tr th:only-of-type {\n",
       "        vertical-align: middle;\n",
       "    }\n",
       "\n",
       "    .dataframe tbody tr th {\n",
       "        vertical-align: top;\n",
       "    }\n",
       "\n",
       "    .dataframe thead th {\n",
       "        text-align: right;\n",
       "    }\n",
       "</style>\n",
       "<table border=\"1\" class=\"dataframe\">\n",
       "  <thead>\n",
       "    <tr style=\"text-align: right;\">\n",
       "      <th></th>\n",
       "      <th>Rating</th>\n",
       "      <th>IC</th>\n",
       "      <th>Review</th>\n",
       "      <th>Rev_summ</th>\n",
       "      <th>All_review</th>\n",
       "      <th>All_review_len</th>\n",
       "    </tr>\n",
       "  </thead>\n",
       "  <tbody>\n",
       "    <tr>\n",
       "      <td>0</td>\n",
       "      <td>5</td>\n",
       "      <td>B009XD5TPQ</td>\n",
       "      <td>Bought it for my husband. He's very happy with it</td>\n",
       "      <td>He's very happy with</td>\n",
       "      <td>Bought it for my husband. He's very happy with...</td>\n",
       "      <td>70.0</td>\n",
       "    </tr>\n",
       "    <tr>\n",
       "      <td>1</td>\n",
       "      <td>5</td>\n",
       "      <td>B016MF3P3K</td>\n",
       "      <td>Great screen protector.  Doesn't even seem as ...</td>\n",
       "      <td>Five Stars</td>\n",
       "      <td>Great screen protector.  Doesn't even seem as ...</td>\n",
       "      <td>77.0</td>\n",
       "    </tr>\n",
       "    <tr>\n",
       "      <td>2</td>\n",
       "      <td>5</td>\n",
       "      <td>B008DC8N5G</td>\n",
       "      <td>Saved me lots of money! it's not gorilla glass...</td>\n",
       "      <td>As long as you know how to put it on!</td>\n",
       "      <td>Saved me lots of money! it's not gorilla glass...</td>\n",
       "      <td>323.0</td>\n",
       "    </tr>\n",
       "    <tr>\n",
       "      <td>3</td>\n",
       "      <td>3</td>\n",
       "      <td>B0089CH3TM</td>\n",
       "      <td>The material and fit is very nice, but the col...</td>\n",
       "      <td>Good case overall</td>\n",
       "      <td>The material and fit is very nice, but the col...</td>\n",
       "      <td>127.0</td>\n",
       "    </tr>\n",
       "    <tr>\n",
       "      <td>4</td>\n",
       "      <td>4</td>\n",
       "      <td>B00AKZWGAC</td>\n",
       "      <td>This last me about 3 days till i have to charg...</td>\n",
       "      <td>Awesome Battery</td>\n",
       "      <td>This last me about 3 days till i have to charg...</td>\n",
       "      <td>484.0</td>\n",
       "    </tr>\n",
       "  </tbody>\n",
       "</table>\n",
       "</div>"
      ],
      "text/plain": [
       "   Rating          IC                                             Review  \\\n",
       "0       5  B009XD5TPQ  Bought it for my husband. He's very happy with it   \n",
       "1       5  B016MF3P3K  Great screen protector.  Doesn't even seem as ...   \n",
       "2       5  B008DC8N5G  Saved me lots of money! it's not gorilla glass...   \n",
       "3       3  B0089CH3TM  The material and fit is very nice, but the col...   \n",
       "4       4  B00AKZWGAC  This last me about 3 days till i have to charg...   \n",
       "\n",
       "                                Rev_summ  \\\n",
       "0                   He's very happy with   \n",
       "1                             Five Stars   \n",
       "2  As long as you know how to put it on!   \n",
       "3                      Good case overall   \n",
       "4                        Awesome Battery   \n",
       "\n",
       "                                          All_review  All_review_len  \n",
       "0  Bought it for my husband. He's very happy with...            70.0  \n",
       "1  Great screen protector.  Doesn't even seem as ...            77.0  \n",
       "2  Saved me lots of money! it's not gorilla glass...           323.0  \n",
       "3  The material and fit is very nice, but the col...           127.0  \n",
       "4  This last me about 3 days till i have to charg...           484.0  "
      ]
     },
     "execution_count": 54,
     "metadata": {},
     "output_type": "execute_result"
    }
   ],
   "source": [
    "#Adding Feature Review and Rev_summ to get more detailed reviews\n",
    "\n",
    "Data[\"All_review\"]=Data.Review+' '+Data.Rev_summ\n",
    "\n",
    "#Checking the length of All_review\n",
    "Data['All_review_len']=Data.All_review.str.len()\n",
    "Data.head()"
   ]
  },
  {
   "cell_type": "code",
   "execution_count": 55,
   "metadata": {},
   "outputs": [
    {
     "data": {
      "text/plain": [
       "Rating              0\n",
       "IC                  0\n",
       "All_review        848\n",
       "All_review_len    848\n",
       "dtype: int64"
      ]
     },
     "execution_count": 55,
     "metadata": {},
     "output_type": "execute_result"
    }
   ],
   "source": [
    "#Now we drop Review and Rev_summ as we merged both to an another feature\n",
    "Data.drop(['Review','Rev_summ'],axis=1,inplace=True)\n",
    "\n",
    "#Check nan value present in the features and droping them\n",
    "Data.isna().sum()"
   ]
  },
  {
   "cell_type": "code",
   "execution_count": 56,
   "metadata": {},
   "outputs": [
    {
     "data": {
      "text/plain": [
       "(759602, 4)"
      ]
     },
     "execution_count": 56,
     "metadata": {},
     "output_type": "execute_result"
    }
   ],
   "source": [
    "#Droping the rows having nan values\n",
    "Data.dropna(axis=0,how='any',inplace=True)\n",
    "#Checking the shape of Dataset again\n",
    "Data.shape"
   ]
  },
  {
   "cell_type": "code",
   "execution_count": 60,
   "metadata": {},
   "outputs": [
    {
     "data": {
      "text/html": [
       "<div>\n",
       "<style scoped>\n",
       "    .dataframe tbody tr th:only-of-type {\n",
       "        vertical-align: middle;\n",
       "    }\n",
       "\n",
       "    .dataframe tbody tr th {\n",
       "        vertical-align: top;\n",
       "    }\n",
       "\n",
       "    .dataframe thead th {\n",
       "        text-align: right;\n",
       "    }\n",
       "</style>\n",
       "<table border=\"1\" class=\"dataframe\">\n",
       "  <thead>\n",
       "    <tr style=\"text-align: right;\">\n",
       "      <th></th>\n",
       "      <th>IC</th>\n",
       "      <th>All_review</th>\n",
       "    </tr>\n",
       "  </thead>\n",
       "  <tbody>\n",
       "    <tr>\n",
       "      <td>0</td>\n",
       "      <td>B009XD5TPQ</td>\n",
       "      <td>Bought it for my husband. He's very happy with...</td>\n",
       "    </tr>\n",
       "    <tr>\n",
       "      <td>1</td>\n",
       "      <td>B016MF3P3K</td>\n",
       "      <td>Great screen protector.  Doesn't even seem as ...</td>\n",
       "    </tr>\n",
       "    <tr>\n",
       "      <td>2</td>\n",
       "      <td>B008DC8N5G</td>\n",
       "      <td>Saved me lots of money! it's not gorilla glass...</td>\n",
       "    </tr>\n",
       "    <tr>\n",
       "      <td>3</td>\n",
       "      <td>B0089CH3TM</td>\n",
       "      <td>The material and fit is very nice, but the col...</td>\n",
       "    </tr>\n",
       "    <tr>\n",
       "      <td>4</td>\n",
       "      <td>B00AKZWGAC</td>\n",
       "      <td>This last me about 3 days till i have to charg...</td>\n",
       "    </tr>\n",
       "  </tbody>\n",
       "</table>\n",
       "</div>"
      ],
      "text/plain": [
       "           IC                                         All_review\n",
       "0  B009XD5TPQ  Bought it for my husband. He's very happy with...\n",
       "1  B016MF3P3K  Great screen protector.  Doesn't even seem as ...\n",
       "2  B008DC8N5G  Saved me lots of money! it's not gorilla glass...\n",
       "3  B0089CH3TM  The material and fit is very nice, but the col...\n",
       "4  B00AKZWGAC  This last me about 3 days till i have to charg..."
      ]
     },
     "execution_count": 60,
     "metadata": {},
     "output_type": "execute_result"
    }
   ],
   "source": [
    "Data1=Data.loc[:,['IC','All_review']]\n",
    "Data1.head()"
   ]
  },
  {
   "cell_type": "code",
   "execution_count": 61,
   "metadata": {},
   "outputs": [],
   "source": [
    "Data1.All_review=Data1.All_review.apply(lambda x:x+' ')"
   ]
  },
  {
   "cell_type": "code",
   "execution_count": 63,
   "metadata": {},
   "outputs": [
    {
     "data": {
      "text/plain": [
       "0          70\n",
       "1          77\n",
       "2         323\n",
       "3         127\n",
       "4         484\n",
       "         ... \n",
       "760445     20\n",
       "760446    436\n",
       "760447     82\n",
       "760448     16\n",
       "760449     71\n",
       "Name: All_review, Length: 759602, dtype: int64"
      ]
     },
     "execution_count": 63,
     "metadata": {},
     "output_type": "execute_result"
    }
   ],
   "source": [
    "Data.All_review.str.len()"
   ]
  },
  {
   "cell_type": "code",
   "execution_count": 64,
   "metadata": {},
   "outputs": [
    {
     "data": {
      "text/plain": [
       "(48133, 1)"
      ]
     },
     "execution_count": 64,
     "metadata": {},
     "output_type": "execute_result"
    }
   ],
   "source": [
    "#Adding all the reviews of same Item Code into a single cell\n",
    "Data1=Data1.groupby(by=['IC']).sum()\n",
    "Data1.shape "
   ]
  },
  {
   "cell_type": "code",
   "execution_count": 65,
   "metadata": {},
   "outputs": [
    {
     "data": {
      "text/html": [
       "<div>\n",
       "<style scoped>\n",
       "    .dataframe tbody tr th:only-of-type {\n",
       "        vertical-align: middle;\n",
       "    }\n",
       "\n",
       "    .dataframe tbody tr th {\n",
       "        vertical-align: top;\n",
       "    }\n",
       "\n",
       "    .dataframe thead th {\n",
       "        text-align: right;\n",
       "    }\n",
       "</style>\n",
       "<table border=\"1\" class=\"dataframe\">\n",
       "  <thead>\n",
       "    <tr style=\"text-align: right;\">\n",
       "      <th></th>\n",
       "      <th>All_review</th>\n",
       "    </tr>\n",
       "    <tr>\n",
       "      <th>IC</th>\n",
       "      <th></th>\n",
       "    </tr>\n",
       "  </thead>\n",
       "  <tbody>\n",
       "    <tr>\n",
       "      <td>7508492919</td>\n",
       "      <td>It is such a good case for a low price. I have...</td>\n",
       "    </tr>\n",
       "    <tr>\n",
       "      <td>7532385086</td>\n",
       "      <td>I was very excited when I first got this case....</td>\n",
       "    </tr>\n",
       "    <tr>\n",
       "      <td>7887421268</td>\n",
       "      <td>Good item Five Stars Received this in about a ...</td>\n",
       "    </tr>\n",
       "    <tr>\n",
       "      <td>8199900164</td>\n",
       "      <td>thank you. Five Stars Works some of the time. ...</td>\n",
       "    </tr>\n",
       "    <tr>\n",
       "      <td>8288853439</td>\n",
       "      <td>Great ! So far.\\nI had this charger before and...</td>\n",
       "    </tr>\n",
       "  </tbody>\n",
       "</table>\n",
       "</div>"
      ],
      "text/plain": [
       "                                                   All_review\n",
       "IC                                                           \n",
       "7508492919  It is such a good case for a low price. I have...\n",
       "7532385086  I was very excited when I first got this case....\n",
       "7887421268  Good item Five Stars Received this in about a ...\n",
       "8199900164  thank you. Five Stars Works some of the time. ...\n",
       "8288853439  Great ! So far.\\nI had this charger before and..."
      ]
     },
     "execution_count": 65,
     "metadata": {},
     "output_type": "execute_result"
    }
   ],
   "source": [
    "Data1.head()"
   ]
  },
  {
   "cell_type": "code",
   "execution_count": 67,
   "metadata": {},
   "outputs": [
    {
     "data": {
      "text/html": [
       "<div>\n",
       "<style scoped>\n",
       "    .dataframe tbody tr th:only-of-type {\n",
       "        vertical-align: middle;\n",
       "    }\n",
       "\n",
       "    .dataframe tbody tr th {\n",
       "        vertical-align: top;\n",
       "    }\n",
       "\n",
       "    .dataframe thead th {\n",
       "        text-align: right;\n",
       "    }\n",
       "</style>\n",
       "<table border=\"1\" class=\"dataframe\">\n",
       "  <thead>\n",
       "    <tr style=\"text-align: right;\">\n",
       "      <th></th>\n",
       "      <th>IC</th>\n",
       "      <th>All_review</th>\n",
       "    </tr>\n",
       "  </thead>\n",
       "  <tbody>\n",
       "    <tr>\n",
       "      <td>0</td>\n",
       "      <td>7508492919</td>\n",
       "      <td>It is such a good case for a low price. I have...</td>\n",
       "    </tr>\n",
       "    <tr>\n",
       "      <td>1</td>\n",
       "      <td>7532385086</td>\n",
       "      <td>I was very excited when I first got this case....</td>\n",
       "    </tr>\n",
       "    <tr>\n",
       "      <td>2</td>\n",
       "      <td>7887421268</td>\n",
       "      <td>Good item Five Stars Received this in about a ...</td>\n",
       "    </tr>\n",
       "    <tr>\n",
       "      <td>3</td>\n",
       "      <td>8199900164</td>\n",
       "      <td>thank you. Five Stars Works some of the time. ...</td>\n",
       "    </tr>\n",
       "    <tr>\n",
       "      <td>4</td>\n",
       "      <td>8288853439</td>\n",
       "      <td>Great ! So far.\\nI had this charger before and...</td>\n",
       "    </tr>\n",
       "  </tbody>\n",
       "</table>\n",
       "</div>"
      ],
      "text/plain": [
       "           IC                                         All_review\n",
       "0  7508492919  It is such a good case for a low price. I have...\n",
       "1  7532385086  I was very excited when I first got this case....\n",
       "2  7887421268  Good item Five Stars Received this in about a ...\n",
       "3  8199900164  thank you. Five Stars Works some of the time. ...\n",
       "4  8288853439  Great ! So far.\\nI had this charger before and..."
      ]
     },
     "execution_count": 67,
     "metadata": {},
     "output_type": "execute_result"
    }
   ],
   "source": [
    "Data1=Data1.reset_index()\n",
    "Data1.head()"
   ]
  },
  {
   "cell_type": "code",
   "execution_count": 69,
   "metadata": {},
   "outputs": [
    {
     "data": {
      "text/html": [
       "<div>\n",
       "<style scoped>\n",
       "    .dataframe tbody tr th:only-of-type {\n",
       "        vertical-align: middle;\n",
       "    }\n",
       "\n",
       "    .dataframe tbody tr th {\n",
       "        vertical-align: top;\n",
       "    }\n",
       "\n",
       "    .dataframe thead th {\n",
       "        text-align: right;\n",
       "    }\n",
       "</style>\n",
       "<table border=\"1\" class=\"dataframe\">\n",
       "  <thead>\n",
       "    <tr style=\"text-align: right;\">\n",
       "      <th></th>\n",
       "      <th>IC</th>\n",
       "      <th>All_review</th>\n",
       "    </tr>\n",
       "  </thead>\n",
       "  <tbody>\n",
       "    <tr>\n",
       "      <td>6742</td>\n",
       "      <td>B008DC8N5G</td>\n",
       "      <td>Saved me lots of money! it's not gorilla glass...</td>\n",
       "    </tr>\n",
       "  </tbody>\n",
       "</table>\n",
       "</div>"
      ],
      "text/plain": [
       "              IC                                         All_review\n",
       "6742  B008DC8N5G  Saved me lots of money! it's not gorilla glass..."
      ]
     },
     "execution_count": 69,
     "metadata": {},
     "output_type": "execute_result"
    }
   ],
   "source": [
    "#Cheking a IC and its Review\n",
    "Data1[Data1['IC']=='B008DC8N5G']"
   ]
  },
  {
   "cell_type": "code",
   "execution_count": 72,
   "metadata": {},
   "outputs": [
    {
     "data": {
      "text/plain": [
       "8476    3399\n",
       "Name: All_review, dtype: int64"
      ]
     },
     "execution_count": 72,
     "metadata": {},
     "output_type": "execute_result"
    }
   ],
   "source": [
    "#Cheking the length of All_review of IC 'B009XD5TPQ'\n",
    "Data1[Data1['IC']=='B009XD5TPQ'].All_review.str.len()"
   ]
  },
  {
   "cell_type": "code",
   "execution_count": 82,
   "metadata": {},
   "outputs": [],
   "source": [
    "#Saving the DataFrames to csv files and perform next steps by Google Colab\n",
    "Data.to_csv('Cell_Phone_review_Base_Data.csv')\n",
    "Data1.to_csv('Cell_Phone_review_Data.csv')"
   ]
  },
  {
   "cell_type": "code",
   "execution_count": null,
   "metadata": {},
   "outputs": [],
   "source": []
  }
 ],
 "metadata": {
  "kernelspec": {
   "display_name": "Python 3",
   "language": "python",
   "name": "python3"
  },
  "language_info": {
   "codemirror_mode": {
    "name": "ipython",
    "version": 3
   },
   "file_extension": ".py",
   "mimetype": "text/x-python",
   "name": "python",
   "nbconvert_exporter": "python",
   "pygments_lexer": "ipython3",
   "version": "3.7.4"
  }
 },
 "nbformat": 4,
 "nbformat_minor": 2
}
